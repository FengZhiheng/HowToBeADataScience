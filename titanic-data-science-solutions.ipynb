{
  "cells": [
    {
      "cell_type": "markdown",
      "metadata": {
        "_cell_guid": "ea25cdf7-bdbc-3cf1-0737-bc51675e3374",
        "_uuid": "fed5696c67bf55a553d6d04313a77e8c617cad99",
        "pycharm": {}
      },
      "source": [
        "# Titanic Data Science Solutions\n",
        "\n",
        "\n",
        "### This notebook is a companion to the book [Data Science Solutions](https://www.amazon.com/Data-Science-Solutions-Startup-Workflow/dp/1520545312). \n",
        "\n",
        "The notebook walks us through a typical workflow for solving data science competitions at sites like Kaggle.\n",
        "\n",
        "There are several excellent notebooks to study data science competition entries. However many will skip some of the explanation on how the solution is developed as these notebooks are developed by experts for experts. The objective of this notebook is to follow a step-by-step workflow, explaining each step and rationale for every decision we take during solution development.\n",
        "\n",
        "## Workflow stages\n",
        "\n",
        "The competition solution workflow goes through seven stages described in the Data Science Solutions book.\n",
        "\n",
        "1. Question or problem definition.\n",
        "2. Acquire training and testing data.\n",
        "3. Wrangle, prepare, cleanse the data.\n",
        "4. Analyze, identify patterns, and explore the data.\n",
        "5. Model, predict and solve the problem.\n",
        "6. Visualize, report, and present the problem solving steps and final solution.\n",
        "7. Supply or submit the results.\n",
        "\n",
        "The workflow indicates general sequence of how each stage may follow the other. However there are use cases with exceptions.\n",
        "\n",
        "- We may combine mulitple workflow stages. We may analyze by visualizing data.\n",
        "- Perform a stage earlier than indicated. We may analyze data before and after wrangling.\n",
        "- Perform a stage multiple times in our workflow. Visualize stage may be used multiple times.\n",
        "- Drop a stage altogether. We may not need supply stage to productize or service enable our dataset for a competition.\n",
        "\n",
        "\n",
        "## Question and problem definition\n",
        "\n",
        "Competition sites like Kaggle define the problem to solve or questions to ask while providing the datasets for training your data science model and testing the model results against a test dataset. The question or problem definition for Titanic Survival competition is [described here at Kaggle](https://www.kaggle.com/c/titanic).\n",
        "\n",
        "\u003e Knowing from a training set of samples listing passengers who survived or did not survive the Titanic disaster, can our model determine based on a given test dataset not containing the survival information, if these passengers in the test dataset survived or not.\n",
        "\n",
        "We may also want to develop some early understanding about the domain of our problem. This is described on the [Kaggle competition description page here](https://www.kaggle.com/c/titanic). Here are the highlights to note.\n",
        "\n",
        "- On April 15, 1912, during her maiden voyage, the Titanic sank after colliding with an iceberg, killing 1502 out of 2224 passengers and crew. Translated 32% survival rate.\n",
        "- One of the reasons that the shipwreck led to such loss of life was that there were not enough lifeboats for the passengers and crew.\n",
        "- Although there was some element of luck involved in surviving the sinking, some groups of people were more likely to survive than others, such as women, children, and the upper-class.\n",
        "\n",
        "## Workflow goals\n",
        "\n",
        "The data science solutions workflow solves for seven major goals.\n",
        "\n",
        "**Classifying.** We may want to classify or categorize our samples. We may also want to understand the implications or correlation of different classes with our solution goal.\n",
        "\n",
        "**Correlating.** One can approach the problem based on available features within the training dataset. Which features within the dataset contribute significantly to our solution goal? Statistically speaking is there a [correlation](https://en.wikiversity.org/wiki/Correlation) among a feature and solution goal? As the feature values change does the solution state change as well, and visa-versa? This can be tested both for numerical and categorical features in the given dataset. We may also want to determine correlation among features other than survival for subsequent goals and workflow stages. Correlating certain features may help in creating, completing, or correcting features.\n",
        "\n",
        "**Converting.** For modeling stage, one needs to prepare the data. Depending on the choice of model algorithm one may require all features to be converted to numerical equivalent values. So for instance converting text categorical values to numeric values.\n",
        "\n",
        "**Completing.** Data preparation may also require us to estimate any missing values within a feature. Model algorithms may work best when there are no missing values.\n",
        "\n",
        "**Correcting.** We may also analyze the given training dataset for errors or possibly innacurate values within features and try to corrent these values or exclude the samples containing the errors. One way to do this is to detect any outliers among our samples or features. We may also completely discard a feature if it is not contribting to the analysis or may significantly skew the results.\n",
        "\n",
        "**Creating.** Can we create new features based on an existing feature or a set of features, such that the new feature follows the correlation, conversion, completeness goals.\n",
        "\n",
        "**Charting.** How to select the right visualization plots and charts depending on nature of the data and the solution goals."
      ]
    },
    {
      "cell_type": "markdown",
      "metadata": {
        "_cell_guid": "56a3be4e-76ef-20c6-25e8-da16147cf6d7",
        "_uuid": "960f8b1937dc4915ce1eb0f82614b1985c4321a4",
        "pycharm": {}
      },
      "source": "## Refactor Release 2017-Jan-29\n\nWe are significantly refactoring the notebook based on (a) comments received by readers, (b) issues in porting notebook from Jupyter kernel (2.7) to Kaggle kernel (3.5), and (c) review of few more best practice kernels.\n\n### User comments\n\n- Combine training and test data for certain operations like converting titles across dataset to numerical values. (thanks @Sharan Naribole)\n- Correct observation - nearly 30% of the passengers had siblings and/or spouses aboard. (thanks @Reinhard)\n- Correctly interpreting logistic regresssion coefficients. (thanks @Reinhard)\n\n### Porting issues\n\n- Specify plot dimensions, bring legend into plot.\n\n\n### Best practices\n\n- Performing feature correlation analysis early in the project.\n- Using multiple plots instead of overlays for readability.\n\n\n"
    },
    {
      "cell_type": "code",
      "execution_count": null,
      "outputs": [],
      "source": "print(\u0027hello world\u0027)\n",
      "metadata": {
        "pycharm": {
          "metadata": false,
          "name": "#%%\n"
        }
      }
    },
    {
      "cell_type": "code",
      "execution_count": 2,
      "outputs": [
        {
          "name": "stdout",
          "text": [
            "finished\n"
          ],
          "output_type": "stream"
        }
      ],
      "source": "a \u003d b \u003d 1\n\nimport pandas as pd\nimport pandas_profiling\n\nprint(\u0027finished\u0027)\n",
      "metadata": {
        "pycharm": {
          "metadata": false,
          "name": "#%%\n",
          "is_executing": false
        }
      }
    },
    {
      "cell_type": "code",
      "execution_count": null,
      "outputs": [],
      "source": "\ntitanic_df \u003d pd.read_csv(\u0027train.csv\u0027)\nprint(\u0027finished\u0027)\n",
      "metadata": {
        "pycharm": {
          "metadata": false,
          "name": "#%%\n"
        }
      }
    },
    {
      "cell_type": "code",
      "execution_count": null,
      "outputs": [],
      "source": "titanic_df.profile_report()",
      "metadata": {
        "pycharm": {
          "metadata": false,
          "name": "#%%\n"
        }
      }
    },
    {
      "cell_type": "code",
      "execution_count": null,
      "outputs": [],
      "source": "\n",
      "metadata": {
        "pycharm": {
          "metadata": false,
          "name": "#%%\n"
        }
      }
    },
    {
      "cell_type": "code",
      "execution_count": 3,
      "metadata": {
        "_cell_guid": "5767a33c-8f18-4034-e52d-bf7a8f7d8ab8",
        "_uuid": "847a9b3972a6be2d2f3346ff01fea976d92ecdb6",
        "pycharm": {
          "is_executing": false
        }
      },
      "outputs": [
        {
          "name": "stdout",
          "text": [
            "import finished\nimport finished\n"
          ],
          "output_type": "stream"
        }
      ],
      "source": "# data analysis and wrangling\nimport pandas as pd\nimport numpy as np\nimport random as rnd\n\n# visualization\nimport seaborn as sns\nimport matplotlib.pyplot as plt\n%matplotlib inline\n\n# machine learning\nfrom sklearn.linear_model import LogisticRegression\nfrom sklearn.svm import SVC, LinearSVC\nfrom sklearn.ensemble import RandomForestClassifier\nfrom sklearn.neighbors import KNeighborsClassifier\nfrom sklearn.naive_bayes import GaussianNB\nfrom sklearn.linear_model import Perceptron\nfrom sklearn.linear_model import SGDClassifier\nfrom sklearn.tree import DecisionTreeClassifier\nprint(\u0027import finished\u0027)\nprint(\u0027import finished\u0027)"
    },
    {
      "cell_type": "markdown",
      "metadata": {
        "_cell_guid": "6b5dc743-15b1-aac6-405e-081def6ecca1",
        "_uuid": "2d307b99ee3d19da3c1cddf509ed179c21dec94a",
        "pycharm": {}
      },
      "source": [
        "## Acquire data\n",
        "\n",
        "The Python Pandas packages helps us work with our datasets. We start by acquiring the training and testing datasets into Pandas DataFrames. We also combine these datasets to run certain operations on both datasets together."
      ]
    },
    {
      "cell_type": "code",
      "execution_count": 5,
      "metadata": {
        "_cell_guid": "e7319668-86fe-8adc-438d-0eef3fd0a982",
        "_uuid": "13f38775c12ad6f914254a08f0d1ef948a2bd453",
        "pycharm": {
          "is_executing": false
        }
      },
      "outputs": [],
      "source": "train_df \u003d pd.read_csv(\u0027train.csv\u0027)\ntest_df \u003d pd.read_csv(\u0027test.csv\u0027)\ncombine \u003d [train_df, test_df]"
    },
    {
      "cell_type": "markdown",
      "metadata": {
        "_cell_guid": "3d6188f3-dc82-8ae6-dabd-83e28fcbf10d",
        "_uuid": "79282222056237a52bbbb1dbd831f057f1c23d69",
        "pycharm": {}
      },
      "source": [
        "## Analyze by describing data\n",
        "\n",
        "Pandas also helps describe the datasets answering following questions early in our project.\n",
        "\n",
        "**Which features are available in the dataset?**\n",
        "\n",
        "Noting the feature names for directly manipulating or analyzing these. These feature names are described on the [Kaggle data page here](https://www.kaggle.com/c/titanic/data)."
      ]
    },
    {
      "cell_type": "code",
      "execution_count": 6,
      "metadata": {
        "_cell_guid": "ce473d29-8d19-76b8-24a4-48c217286e42",
        "_uuid": "ef106f38a00e162a80c523778af6dcc778ccc1c2",
        "pycharm": {
          "is_executing": false
        }
      },
      "outputs": [
        {
          "name": "stdout",
          "text": [
            "[\u0027PassengerId\u0027 \u0027Survived\u0027 \u0027Pclass\u0027 \u0027Name\u0027 \u0027Sex\u0027 \u0027Age\u0027 \u0027SibSp\u0027 \u0027Parch\u0027\n \u0027Ticket\u0027 \u0027Fare\u0027 \u0027Cabin\u0027 \u0027Embarked\u0027]\n"
          ],
          "output_type": "stream"
        }
      ],
      "source": [
        "print(train_df.columns.values)"
      ]
    },
    {
      "cell_type": "markdown",
      "metadata": {
        "_cell_guid": "cd19a6f6-347f-be19-607b-dca950590b37",
        "_uuid": "1d7acf42af29a63bc038f14eded24e8b8146f541",
        "pycharm": {}
      },
      "source": [
        "**Which features are categorical?**\n",
        "\n",
        "These values classify the samples into sets of similar samples. Within categorical features are the values nominal, ordinal, ratio, or interval based? Among other things this helps us select the appropriate plots for visualization.\n",
        "\n",
        "- Categorical: Survived, Sex, and Embarked. Ordinal: Pclass.\n",
        "\n",
        "**Which features are numerical?**\n",
        "\n",
        "Which features are numerical? These values change from sample to sample. Within numerical features are the values discrete, continuous, or timeseries based? Among other things this helps us select the appropriate plots for visualization.\n",
        "\n",
        "- Continous: Age, Fare. Discrete: SibSp, Parch."
      ]
    },
    {
      "cell_type": "code",
      "execution_count": 7,
      "metadata": {
        "_cell_guid": "8d7ac195-ac1a-30a4-3f3f-80b8cf2c1c0f",
        "_uuid": "e068cd3a0465b65a0930a100cb348b9146d5fd2f",
        "pycharm": {
          "is_executing": false
        }
      },
      "outputs": [
        {
          "data": {
            "text/plain": "   PassengerId  Survived  Pclass  \\\n0            1         0       3   \n1            2         1       1   \n2            3         1       3   \n3            4         1       1   \n4            5         0       3   \n\n                                                Name     Sex   Age  SibSp  \\\n0                            Braund, Mr. Owen Harris    male  22.0      1   \n1  Cumings, Mrs. John Bradley (Florence Briggs Th...  female  38.0      1   \n2                             Heikkinen, Miss. Laina  female  26.0      0   \n3       Futrelle, Mrs. Jacques Heath (Lily May Peel)  female  35.0      1   \n4                           Allen, Mr. William Henry    male  35.0      0   \n\n   Parch            Ticket     Fare Cabin Embarked  \n0      0         A/5 21171   7.2500   NaN        S  \n1      0          PC 17599  71.2833   C85        C  \n2      0  STON/O2. 3101282   7.9250   NaN        S  \n3      0            113803  53.1000  C123        S  \n4      0            373450   8.0500   NaN        S  ",
            "text/html": "\u003cdiv\u003e\n\u003cstyle scoped\u003e\n    .dataframe tbody tr th:only-of-type {\n        vertical-align: middle;\n    }\n\n    .dataframe tbody tr th {\n        vertical-align: top;\n    }\n\n    .dataframe thead th {\n        text-align: right;\n    }\n\u003c/style\u003e\n\u003ctable border\u003d\"1\" class\u003d\"dataframe\"\u003e\n  \u003cthead\u003e\n    \u003ctr style\u003d\"text-align: right;\"\u003e\n      \u003cth\u003e\u003c/th\u003e\n      \u003cth\u003ePassengerId\u003c/th\u003e\n      \u003cth\u003eSurvived\u003c/th\u003e\n      \u003cth\u003ePclass\u003c/th\u003e\n      \u003cth\u003eName\u003c/th\u003e\n      \u003cth\u003eSex\u003c/th\u003e\n      \u003cth\u003eAge\u003c/th\u003e\n      \u003cth\u003eSibSp\u003c/th\u003e\n      \u003cth\u003eParch\u003c/th\u003e\n      \u003cth\u003eTicket\u003c/th\u003e\n      \u003cth\u003eFare\u003c/th\u003e\n      \u003cth\u003eCabin\u003c/th\u003e\n      \u003cth\u003eEmbarked\u003c/th\u003e\n    \u003c/tr\u003e\n  \u003c/thead\u003e\n  \u003ctbody\u003e\n    \u003ctr\u003e\n      \u003cth\u003e0\u003c/th\u003e\n      \u003ctd\u003e1\u003c/td\u003e\n      \u003ctd\u003e0\u003c/td\u003e\n      \u003ctd\u003e3\u003c/td\u003e\n      \u003ctd\u003eBraund, Mr. Owen Harris\u003c/td\u003e\n      \u003ctd\u003emale\u003c/td\u003e\n      \u003ctd\u003e22.0\u003c/td\u003e\n      \u003ctd\u003e1\u003c/td\u003e\n      \u003ctd\u003e0\u003c/td\u003e\n      \u003ctd\u003eA/5 21171\u003c/td\u003e\n      \u003ctd\u003e7.2500\u003c/td\u003e\n      \u003ctd\u003eNaN\u003c/td\u003e\n      \u003ctd\u003eS\u003c/td\u003e\n    \u003c/tr\u003e\n    \u003ctr\u003e\n      \u003cth\u003e1\u003c/th\u003e\n      \u003ctd\u003e2\u003c/td\u003e\n      \u003ctd\u003e1\u003c/td\u003e\n      \u003ctd\u003e1\u003c/td\u003e\n      \u003ctd\u003eCumings, Mrs. John Bradley (Florence Briggs Th...\u003c/td\u003e\n      \u003ctd\u003efemale\u003c/td\u003e\n      \u003ctd\u003e38.0\u003c/td\u003e\n      \u003ctd\u003e1\u003c/td\u003e\n      \u003ctd\u003e0\u003c/td\u003e\n      \u003ctd\u003ePC 17599\u003c/td\u003e\n      \u003ctd\u003e71.2833\u003c/td\u003e\n      \u003ctd\u003eC85\u003c/td\u003e\n      \u003ctd\u003eC\u003c/td\u003e\n    \u003c/tr\u003e\n    \u003ctr\u003e\n      \u003cth\u003e2\u003c/th\u003e\n      \u003ctd\u003e3\u003c/td\u003e\n      \u003ctd\u003e1\u003c/td\u003e\n      \u003ctd\u003e3\u003c/td\u003e\n      \u003ctd\u003eHeikkinen, Miss. Laina\u003c/td\u003e\n      \u003ctd\u003efemale\u003c/td\u003e\n      \u003ctd\u003e26.0\u003c/td\u003e\n      \u003ctd\u003e0\u003c/td\u003e\n      \u003ctd\u003e0\u003c/td\u003e\n      \u003ctd\u003eSTON/O2. 3101282\u003c/td\u003e\n      \u003ctd\u003e7.9250\u003c/td\u003e\n      \u003ctd\u003eNaN\u003c/td\u003e\n      \u003ctd\u003eS\u003c/td\u003e\n    \u003c/tr\u003e\n    \u003ctr\u003e\n      \u003cth\u003e3\u003c/th\u003e\n      \u003ctd\u003e4\u003c/td\u003e\n      \u003ctd\u003e1\u003c/td\u003e\n      \u003ctd\u003e1\u003c/td\u003e\n      \u003ctd\u003eFutrelle, Mrs. Jacques Heath (Lily May Peel)\u003c/td\u003e\n      \u003ctd\u003efemale\u003c/td\u003e\n      \u003ctd\u003e35.0\u003c/td\u003e\n      \u003ctd\u003e1\u003c/td\u003e\n      \u003ctd\u003e0\u003c/td\u003e\n      \u003ctd\u003e113803\u003c/td\u003e\n      \u003ctd\u003e53.1000\u003c/td\u003e\n      \u003ctd\u003eC123\u003c/td\u003e\n      \u003ctd\u003eS\u003c/td\u003e\n    \u003c/tr\u003e\n    \u003ctr\u003e\n      \u003cth\u003e4\u003c/th\u003e\n      \u003ctd\u003e5\u003c/td\u003e\n      \u003ctd\u003e0\u003c/td\u003e\n      \u003ctd\u003e3\u003c/td\u003e\n      \u003ctd\u003eAllen, Mr. William Henry\u003c/td\u003e\n      \u003ctd\u003emale\u003c/td\u003e\n      \u003ctd\u003e35.0\u003c/td\u003e\n      \u003ctd\u003e0\u003c/td\u003e\n      \u003ctd\u003e0\u003c/td\u003e\n      \u003ctd\u003e373450\u003c/td\u003e\n      \u003ctd\u003e8.0500\u003c/td\u003e\n      \u003ctd\u003eNaN\u003c/td\u003e\n      \u003ctd\u003eS\u003c/td\u003e\n    \u003c/tr\u003e\n  \u003c/tbody\u003e\n\u003c/table\u003e\n\u003c/div\u003e"
          },
          "metadata": {},
          "output_type": "execute_result",
          "execution_count": 7
        }
      ],
      "source": [
        "# preview the data\n",
        "train_df.head()"
      ]
    },
    {
      "cell_type": "markdown",
      "metadata": {
        "_cell_guid": "97f4e6f8-2fea-46c4-e4e8-b69062ee3d46",
        "_uuid": "c34fa51a38336d97d5f6a184908cca37daebd584",
        "pycharm": {}
      },
      "source": [
        "**Which features are mixed data types?**\n",
        "\n",
        "Numerical, alphanumeric data within same feature. These are candidates for correcting goal.\n",
        "\n",
        "- Ticket is a mix of numeric and alphanumeric data types. Cabin is alphanumeric.\n",
        "\n",
        "**Which features may contain errors or typos?**\n",
        "\n",
        "This is harder to review for a large dataset, however reviewing a few samples from a smaller dataset may just tell us outright, which features may require correcting.\n",
        "\n",
        "- Name feature may contain errors or typos as there are several ways used to describe a name including titles, round brackets, and quotes used for alternative or short names."
      ]
    },
    {
      "cell_type": "code",
      "execution_count": 8,
      "metadata": {
        "_cell_guid": "f6e761c2-e2ff-d300-164c-af257083bb46",
        "_uuid": "3488e80f309d29f5b68bbcfaba8d78da84f4fb7d",
        "pycharm": {
          "is_executing": false
        }
      },
      "outputs": [
        {
          "data": {
            "text/plain": "     PassengerId  Survived  Pclass                                      Name  \\\n886          887         0       2                     Montvila, Rev. Juozas   \n887          888         1       1              Graham, Miss. Margaret Edith   \n888          889         0       3  Johnston, Miss. Catherine Helen \"Carrie\"   \n889          890         1       1                     Behr, Mr. Karl Howell   \n890          891         0       3                       Dooley, Mr. Patrick   \n\n        Sex   Age  SibSp  Parch      Ticket   Fare Cabin Embarked  \n886    male  27.0      0      0      211536  13.00   NaN        S  \n887  female  19.0      0      0      112053  30.00   B42        S  \n888  female   NaN      1      2  W./C. 6607  23.45   NaN        S  \n889    male  26.0      0      0      111369  30.00  C148        C  \n890    male  32.0      0      0      370376   7.75   NaN        Q  ",
            "text/html": "\u003cdiv\u003e\n\u003cstyle scoped\u003e\n    .dataframe tbody tr th:only-of-type {\n        vertical-align: middle;\n    }\n\n    .dataframe tbody tr th {\n        vertical-align: top;\n    }\n\n    .dataframe thead th {\n        text-align: right;\n    }\n\u003c/style\u003e\n\u003ctable border\u003d\"1\" class\u003d\"dataframe\"\u003e\n  \u003cthead\u003e\n    \u003ctr style\u003d\"text-align: right;\"\u003e\n      \u003cth\u003e\u003c/th\u003e\n      \u003cth\u003ePassengerId\u003c/th\u003e\n      \u003cth\u003eSurvived\u003c/th\u003e\n      \u003cth\u003ePclass\u003c/th\u003e\n      \u003cth\u003eName\u003c/th\u003e\n      \u003cth\u003eSex\u003c/th\u003e\n      \u003cth\u003eAge\u003c/th\u003e\n      \u003cth\u003eSibSp\u003c/th\u003e\n      \u003cth\u003eParch\u003c/th\u003e\n      \u003cth\u003eTicket\u003c/th\u003e\n      \u003cth\u003eFare\u003c/th\u003e\n      \u003cth\u003eCabin\u003c/th\u003e\n      \u003cth\u003eEmbarked\u003c/th\u003e\n    \u003c/tr\u003e\n  \u003c/thead\u003e\n  \u003ctbody\u003e\n    \u003ctr\u003e\n      \u003cth\u003e886\u003c/th\u003e\n      \u003ctd\u003e887\u003c/td\u003e\n      \u003ctd\u003e0\u003c/td\u003e\n      \u003ctd\u003e2\u003c/td\u003e\n      \u003ctd\u003eMontvila, Rev. Juozas\u003c/td\u003e\n      \u003ctd\u003emale\u003c/td\u003e\n      \u003ctd\u003e27.0\u003c/td\u003e\n      \u003ctd\u003e0\u003c/td\u003e\n      \u003ctd\u003e0\u003c/td\u003e\n      \u003ctd\u003e211536\u003c/td\u003e\n      \u003ctd\u003e13.00\u003c/td\u003e\n      \u003ctd\u003eNaN\u003c/td\u003e\n      \u003ctd\u003eS\u003c/td\u003e\n    \u003c/tr\u003e\n    \u003ctr\u003e\n      \u003cth\u003e887\u003c/th\u003e\n      \u003ctd\u003e888\u003c/td\u003e\n      \u003ctd\u003e1\u003c/td\u003e\n      \u003ctd\u003e1\u003c/td\u003e\n      \u003ctd\u003eGraham, Miss. Margaret Edith\u003c/td\u003e\n      \u003ctd\u003efemale\u003c/td\u003e\n      \u003ctd\u003e19.0\u003c/td\u003e\n      \u003ctd\u003e0\u003c/td\u003e\n      \u003ctd\u003e0\u003c/td\u003e\n      \u003ctd\u003e112053\u003c/td\u003e\n      \u003ctd\u003e30.00\u003c/td\u003e\n      \u003ctd\u003eB42\u003c/td\u003e\n      \u003ctd\u003eS\u003c/td\u003e\n    \u003c/tr\u003e\n    \u003ctr\u003e\n      \u003cth\u003e888\u003c/th\u003e\n      \u003ctd\u003e889\u003c/td\u003e\n      \u003ctd\u003e0\u003c/td\u003e\n      \u003ctd\u003e3\u003c/td\u003e\n      \u003ctd\u003eJohnston, Miss. Catherine Helen \"Carrie\"\u003c/td\u003e\n      \u003ctd\u003efemale\u003c/td\u003e\n      \u003ctd\u003eNaN\u003c/td\u003e\n      \u003ctd\u003e1\u003c/td\u003e\n      \u003ctd\u003e2\u003c/td\u003e\n      \u003ctd\u003eW./C. 6607\u003c/td\u003e\n      \u003ctd\u003e23.45\u003c/td\u003e\n      \u003ctd\u003eNaN\u003c/td\u003e\n      \u003ctd\u003eS\u003c/td\u003e\n    \u003c/tr\u003e\n    \u003ctr\u003e\n      \u003cth\u003e889\u003c/th\u003e\n      \u003ctd\u003e890\u003c/td\u003e\n      \u003ctd\u003e1\u003c/td\u003e\n      \u003ctd\u003e1\u003c/td\u003e\n      \u003ctd\u003eBehr, Mr. Karl Howell\u003c/td\u003e\n      \u003ctd\u003emale\u003c/td\u003e\n      \u003ctd\u003e26.0\u003c/td\u003e\n      \u003ctd\u003e0\u003c/td\u003e\n      \u003ctd\u003e0\u003c/td\u003e\n      \u003ctd\u003e111369\u003c/td\u003e\n      \u003ctd\u003e30.00\u003c/td\u003e\n      \u003ctd\u003eC148\u003c/td\u003e\n      \u003ctd\u003eC\u003c/td\u003e\n    \u003c/tr\u003e\n    \u003ctr\u003e\n      \u003cth\u003e890\u003c/th\u003e\n      \u003ctd\u003e891\u003c/td\u003e\n      \u003ctd\u003e0\u003c/td\u003e\n      \u003ctd\u003e3\u003c/td\u003e\n      \u003ctd\u003eDooley, Mr. Patrick\u003c/td\u003e\n      \u003ctd\u003emale\u003c/td\u003e\n      \u003ctd\u003e32.0\u003c/td\u003e\n      \u003ctd\u003e0\u003c/td\u003e\n      \u003ctd\u003e0\u003c/td\u003e\n      \u003ctd\u003e370376\u003c/td\u003e\n      \u003ctd\u003e7.75\u003c/td\u003e\n      \u003ctd\u003eNaN\u003c/td\u003e\n      \u003ctd\u003eQ\u003c/td\u003e\n    \u003c/tr\u003e\n  \u003c/tbody\u003e\n\u003c/table\u003e\n\u003c/div\u003e"
          },
          "metadata": {},
          "output_type": "execute_result",
          "execution_count": 8
        }
      ],
      "source": [
        "train_df.tail()"
      ]
    },
    {
      "cell_type": "markdown",
      "metadata": {
        "_cell_guid": "8bfe9610-689a-29b2-26ee-f67cd4719079",
        "_uuid": "699c52b7a8d076ccd5ea5bc5d606313c558a6e8e",
        "pycharm": {}
      },
      "source": [
        "**Which features contain blank, null or empty values?**\n",
        "\n",
        "These will require correcting.\n",
        "\n",
        "- Cabin \u003e Age \u003e Embarked features contain a number of null values in that order for the training dataset.\n",
        "- Cabin \u003e Age are incomplete in case of test dataset.\n",
        "\n",
        "**What are the data types for various features?**\n",
        "\n",
        "Helping us during converting goal.\n",
        "\n",
        "- Seven features are integer or floats. Six in case of test dataset.\n",
        "- Five features are strings (object)."
      ]
    },
    {
      "cell_type": "code",
      "execution_count": 9,
      "metadata": {
        "_cell_guid": "9b805f69-665a-2b2e-f31d-50d87d52865d",
        "_uuid": "817e1cf0ca1cb96c7a28bb81192d92261a8bf427",
        "pycharm": {
          "is_executing": false
        }
      },
      "outputs": [
        {
          "name": "stdout",
          "text": [
            "\u003cclass \u0027pandas.core.frame.DataFrame\u0027\u003e\nRangeIndex: 891 entries, 0 to 890\nData columns (total 12 columns):\n #   Column       Non-Null Count  Dtype  \n---  ------       --------------  -----  \n 0   PassengerId  891 non-null    int64  \n 1   Survived     891 non-null    int64  \n 2   Pclass       891 non-null    int64  \n 3   Name         891 non-null    object \n 4   Sex          891 non-null    object \n 5   Age          714 non-null    float64\n 6   SibSp        891 non-null    int64  \n 7   Parch        891 non-null    int64  \n 8   Ticket       891 non-null    object \n 9   Fare         891 non-null    float64\n 10  Cabin        204 non-null    object \n 11  Embarked     889 non-null    object \ndtypes: float64(2), int64(5), object(5)\nmemory usage: 83.7+ KB\n________________________________________\n\u003cclass \u0027pandas.core.frame.DataFrame\u0027\u003e\nRangeIndex: 418 entries, 0 to 417\nData columns (total 11 columns):\n #   Column       Non-Null Count  Dtype  \n---  ------       --------------  -----  \n 0   PassengerId  418 non-null    int64  \n 1   Pclass       418 non-null    int64  \n 2   Name         418 non-null    object \n 3   Sex          418 non-null    object \n 4   Age          332 non-null    float64\n 5   SibSp        418 non-null    int64  \n 6   Parch        418 non-null    int64  \n 7   Ticket       418 non-null    object \n 8   Fare         417 non-null    float64\n 9   Cabin        91 non-null     object \n 10  Embarked     418 non-null    object \ndtypes: float64(2), int64(4), object(5)\nmemory usage: 36.0+ KB\n"
          ],
          "output_type": "stream"
        }
      ],
      "source": [
        "train_df.info()\n",
        "print(\u0027_\u0027*40)\n",
        "test_df.info()"
      ]
    },
    {
      "cell_type": "markdown",
      "metadata": {
        "_cell_guid": "859102e1-10df-d451-2649-2d4571e5f082",
        "_uuid": "2b7c205bf25979e3242762bfebb0e3eb2fd63010",
        "pycharm": {}
      },
      "source": [
        "**What is the distribution of numerical feature values across the samples?**\n",
        "\n",
        "This helps us determine, among other early insights, how representative is the training dataset of the actual problem domain.\n",
        "\n",
        "- Total samples are 891 or 40% of the actual number of passengers on board the Titanic (2,224).\n",
        "- Survived is a categorical feature with 0 or 1 values.\n",
        "- Around 38% samples survived representative of the actual survival rate at 32%.\n",
        "- Most passengers (\u003e 75%) did not travel with parents or children.\n",
        "- Nearly 30% of the passengers had siblings and/or spouse aboard.\n",
        "- Fares varied significantly with few passengers (\u003c1%) paying as high as $512.\n",
        "- Few elderly passengers (\u003c1%) within age range 65-80."
      ]
    },
    {
      "cell_type": "code",
      "execution_count": 10,
      "metadata": {
        "_cell_guid": "58e387fe-86e4-e068-8307-70e37fe3f37b",
        "_uuid": "380251a1c1e0b89147d321968dc739b6cc0eecf2",
        "pycharm": {
          "is_executing": false
        }
      },
      "outputs": [
        {
          "data": {
            "text/plain": "       PassengerId    Survived      Pclass         Age       SibSp  \\\ncount   891.000000  891.000000  891.000000  714.000000  891.000000   \nmean    446.000000    0.383838    2.308642   29.699118    0.523008   \nstd     257.353842    0.486592    0.836071   14.526497    1.102743   \nmin       1.000000    0.000000    1.000000    0.420000    0.000000   \n25%     223.500000    0.000000    2.000000   20.125000    0.000000   \n50%     446.000000    0.000000    3.000000   28.000000    0.000000   \n75%     668.500000    1.000000    3.000000   38.000000    1.000000   \nmax     891.000000    1.000000    3.000000   80.000000    8.000000   \n\n            Parch        Fare  \ncount  891.000000  891.000000  \nmean     0.381594   32.204208  \nstd      0.806057   49.693429  \nmin      0.000000    0.000000  \n25%      0.000000    7.910400  \n50%      0.000000   14.454200  \n75%      0.000000   31.000000  \nmax      6.000000  512.329200  ",
            "text/html": "\u003cdiv\u003e\n\u003cstyle scoped\u003e\n    .dataframe tbody tr th:only-of-type {\n        vertical-align: middle;\n    }\n\n    .dataframe tbody tr th {\n        vertical-align: top;\n    }\n\n    .dataframe thead th {\n        text-align: right;\n    }\n\u003c/style\u003e\n\u003ctable border\u003d\"1\" class\u003d\"dataframe\"\u003e\n  \u003cthead\u003e\n    \u003ctr style\u003d\"text-align: right;\"\u003e\n      \u003cth\u003e\u003c/th\u003e\n      \u003cth\u003ePassengerId\u003c/th\u003e\n      \u003cth\u003eSurvived\u003c/th\u003e\n      \u003cth\u003ePclass\u003c/th\u003e\n      \u003cth\u003eAge\u003c/th\u003e\n      \u003cth\u003eSibSp\u003c/th\u003e\n      \u003cth\u003eParch\u003c/th\u003e\n      \u003cth\u003eFare\u003c/th\u003e\n    \u003c/tr\u003e\n  \u003c/thead\u003e\n  \u003ctbody\u003e\n    \u003ctr\u003e\n      \u003cth\u003ecount\u003c/th\u003e\n      \u003ctd\u003e891.000000\u003c/td\u003e\n      \u003ctd\u003e891.000000\u003c/td\u003e\n      \u003ctd\u003e891.000000\u003c/td\u003e\n      \u003ctd\u003e714.000000\u003c/td\u003e\n      \u003ctd\u003e891.000000\u003c/td\u003e\n      \u003ctd\u003e891.000000\u003c/td\u003e\n      \u003ctd\u003e891.000000\u003c/td\u003e\n    \u003c/tr\u003e\n    \u003ctr\u003e\n      \u003cth\u003emean\u003c/th\u003e\n      \u003ctd\u003e446.000000\u003c/td\u003e\n      \u003ctd\u003e0.383838\u003c/td\u003e\n      \u003ctd\u003e2.308642\u003c/td\u003e\n      \u003ctd\u003e29.699118\u003c/td\u003e\n      \u003ctd\u003e0.523008\u003c/td\u003e\n      \u003ctd\u003e0.381594\u003c/td\u003e\n      \u003ctd\u003e32.204208\u003c/td\u003e\n    \u003c/tr\u003e\n    \u003ctr\u003e\n      \u003cth\u003estd\u003c/th\u003e\n      \u003ctd\u003e257.353842\u003c/td\u003e\n      \u003ctd\u003e0.486592\u003c/td\u003e\n      \u003ctd\u003e0.836071\u003c/td\u003e\n      \u003ctd\u003e14.526497\u003c/td\u003e\n      \u003ctd\u003e1.102743\u003c/td\u003e\n      \u003ctd\u003e0.806057\u003c/td\u003e\n      \u003ctd\u003e49.693429\u003c/td\u003e\n    \u003c/tr\u003e\n    \u003ctr\u003e\n      \u003cth\u003emin\u003c/th\u003e\n      \u003ctd\u003e1.000000\u003c/td\u003e\n      \u003ctd\u003e0.000000\u003c/td\u003e\n      \u003ctd\u003e1.000000\u003c/td\u003e\n      \u003ctd\u003e0.420000\u003c/td\u003e\n      \u003ctd\u003e0.000000\u003c/td\u003e\n      \u003ctd\u003e0.000000\u003c/td\u003e\n      \u003ctd\u003e0.000000\u003c/td\u003e\n    \u003c/tr\u003e\n    \u003ctr\u003e\n      \u003cth\u003e25%\u003c/th\u003e\n      \u003ctd\u003e223.500000\u003c/td\u003e\n      \u003ctd\u003e0.000000\u003c/td\u003e\n      \u003ctd\u003e2.000000\u003c/td\u003e\n      \u003ctd\u003e20.125000\u003c/td\u003e\n      \u003ctd\u003e0.000000\u003c/td\u003e\n      \u003ctd\u003e0.000000\u003c/td\u003e\n      \u003ctd\u003e7.910400\u003c/td\u003e\n    \u003c/tr\u003e\n    \u003ctr\u003e\n      \u003cth\u003e50%\u003c/th\u003e\n      \u003ctd\u003e446.000000\u003c/td\u003e\n      \u003ctd\u003e0.000000\u003c/td\u003e\n      \u003ctd\u003e3.000000\u003c/td\u003e\n      \u003ctd\u003e28.000000\u003c/td\u003e\n      \u003ctd\u003e0.000000\u003c/td\u003e\n      \u003ctd\u003e0.000000\u003c/td\u003e\n      \u003ctd\u003e14.454200\u003c/td\u003e\n    \u003c/tr\u003e\n    \u003ctr\u003e\n      \u003cth\u003e75%\u003c/th\u003e\n      \u003ctd\u003e668.500000\u003c/td\u003e\n      \u003ctd\u003e1.000000\u003c/td\u003e\n      \u003ctd\u003e3.000000\u003c/td\u003e\n      \u003ctd\u003e38.000000\u003c/td\u003e\n      \u003ctd\u003e1.000000\u003c/td\u003e\n      \u003ctd\u003e0.000000\u003c/td\u003e\n      \u003ctd\u003e31.000000\u003c/td\u003e\n    \u003c/tr\u003e\n    \u003ctr\u003e\n      \u003cth\u003emax\u003c/th\u003e\n      \u003ctd\u003e891.000000\u003c/td\u003e\n      \u003ctd\u003e1.000000\u003c/td\u003e\n      \u003ctd\u003e3.000000\u003c/td\u003e\n      \u003ctd\u003e80.000000\u003c/td\u003e\n      \u003ctd\u003e8.000000\u003c/td\u003e\n      \u003ctd\u003e6.000000\u003c/td\u003e\n      \u003ctd\u003e512.329200\u003c/td\u003e\n    \u003c/tr\u003e\n  \u003c/tbody\u003e\n\u003c/table\u003e\n\u003c/div\u003e"
          },
          "metadata": {},
          "output_type": "execute_result",
          "execution_count": 10
        }
      ],
      "source": [
        "train_df.describe()\n",
        "# Review survived rate using `percentiles\u003d[.61, .62]` knowing our problem description mentions 38% survival rate.\n",
        "# Review Parch distribution using `percentiles\u003d[.75, .8]`\n",
        "# SibSp distribution `[.68, .69]`\n",
        "# Age and Fare `[.1, .2, .3, .4, .5, .6, .7, .8, .9, .99]`"
      ]
    },
    {
      "cell_type": "markdown",
      "metadata": {
        "_cell_guid": "5462bc60-258c-76bf-0a73-9adc00a2f493",
        "_uuid": "33bbd1709db622978c0c5879e7c5532d4734ade0",
        "pycharm": {}
      },
      "source": [
        "**What is the distribution of categorical features?**\n",
        "\n",
        "- Names are unique across the dataset (count\u003dunique\u003d891)\n",
        "- Sex variable as two possible values with 65% male (top\u003dmale, freq\u003d577/count\u003d891).\n",
        "- Cabin values have several dupicates across samples. Alternatively several passengers shared a cabin.\n",
        "- Embarked takes three possible values. S port used by most passengers (top\u003dS)\n",
        "- Ticket feature has high ratio (22%) of duplicate values (unique\u003d681)."
      ]
    },
    {
      "cell_type": "code",
      "execution_count": 11,
      "metadata": {
        "_cell_guid": "8066b378-1964-92e8-1352-dcac934c6af3",
        "_uuid": "daa8663f577f9c1a478496cf14fe363570457191",
        "pycharm": {
          "is_executing": false
        }
      },
      "outputs": [
        {
          "data": {
            "text/plain": "                                  Name   Sex  Ticket    Cabin Embarked\ncount                              891   891     891      204      889\nunique                             891     2     681      147        3\ntop     Kalvik, Mr. Johannes Halvorsen  male  347082  B96 B98        S\nfreq                                 1   577       7        4      644",
            "text/html": "\u003cdiv\u003e\n\u003cstyle scoped\u003e\n    .dataframe tbody tr th:only-of-type {\n        vertical-align: middle;\n    }\n\n    .dataframe tbody tr th {\n        vertical-align: top;\n    }\n\n    .dataframe thead th {\n        text-align: right;\n    }\n\u003c/style\u003e\n\u003ctable border\u003d\"1\" class\u003d\"dataframe\"\u003e\n  \u003cthead\u003e\n    \u003ctr style\u003d\"text-align: right;\"\u003e\n      \u003cth\u003e\u003c/th\u003e\n      \u003cth\u003eName\u003c/th\u003e\n      \u003cth\u003eSex\u003c/th\u003e\n      \u003cth\u003eTicket\u003c/th\u003e\n      \u003cth\u003eCabin\u003c/th\u003e\n      \u003cth\u003eEmbarked\u003c/th\u003e\n    \u003c/tr\u003e\n  \u003c/thead\u003e\n  \u003ctbody\u003e\n    \u003ctr\u003e\n      \u003cth\u003ecount\u003c/th\u003e\n      \u003ctd\u003e891\u003c/td\u003e\n      \u003ctd\u003e891\u003c/td\u003e\n      \u003ctd\u003e891\u003c/td\u003e\n      \u003ctd\u003e204\u003c/td\u003e\n      \u003ctd\u003e889\u003c/td\u003e\n    \u003c/tr\u003e\n    \u003ctr\u003e\n      \u003cth\u003eunique\u003c/th\u003e\n      \u003ctd\u003e891\u003c/td\u003e\n      \u003ctd\u003e2\u003c/td\u003e\n      \u003ctd\u003e681\u003c/td\u003e\n      \u003ctd\u003e147\u003c/td\u003e\n      \u003ctd\u003e3\u003c/td\u003e\n    \u003c/tr\u003e\n    \u003ctr\u003e\n      \u003cth\u003etop\u003c/th\u003e\n      \u003ctd\u003eKalvik, Mr. Johannes Halvorsen\u003c/td\u003e\n      \u003ctd\u003emale\u003c/td\u003e\n      \u003ctd\u003e347082\u003c/td\u003e\n      \u003ctd\u003eB96 B98\u003c/td\u003e\n      \u003ctd\u003eS\u003c/td\u003e\n    \u003c/tr\u003e\n    \u003ctr\u003e\n      \u003cth\u003efreq\u003c/th\u003e\n      \u003ctd\u003e1\u003c/td\u003e\n      \u003ctd\u003e577\u003c/td\u003e\n      \u003ctd\u003e7\u003c/td\u003e\n      \u003ctd\u003e4\u003c/td\u003e\n      \u003ctd\u003e644\u003c/td\u003e\n    \u003c/tr\u003e\n  \u003c/tbody\u003e\n\u003c/table\u003e\n\u003c/div\u003e"
          },
          "metadata": {},
          "output_type": "execute_result",
          "execution_count": 11
        }
      ],
      "source": [
        "train_df.describe(include\u003d[\u0027O\u0027])"
      ]
    },
    {
      "cell_type": "markdown",
      "metadata": {
        "_cell_guid": "2cb22b88-937d-6f14-8b06-ea3361357889",
        "_uuid": "c1d35ebd89a0cf7d7b409470bbb9ecaffd2a9680",
        "pycharm": {}
      },
      "source": [
        "### Assumtions based on data analysis\n",
        "\n",
        "We arrive at following assumptions based on data analysis done so far. We may validate these assumptions further before taking appropriate actions.\n",
        "\n",
        "**Correlating.**\n",
        "\n",
        "We want to know how well does each feature correlate with Survival. We want to do this early in our project and match these quick correlations with modelled correlations later in the project.\n",
        "\n",
        "**Completing.**\n",
        "\n",
        "1. We may want to complete Age feature as it is definitely correlated to survival.\n",
        "2. We may want to complete the Embarked feature as it may also correlate with survival or another important feature.\n",
        "\n",
        "**Correcting.**\n",
        "\n",
        "1. Ticket feature may be dropped from our analysis as it contains high ratio of duplicates (22%) and there may not be a correlation between Ticket and survival.\n",
        "2. Cabin feature may be dropped as it is highly incomplete or contains many null values both in training and test dataset.\n",
        "3. PassengerId may be dropped from training dataset as it does not contribute to survival.\n",
        "4. Name feature is relatively non-standard, may not contribute directly to survival, so maybe dropped.\n",
        "\n",
        "**Creating.**\n",
        "\n",
        "1. We may want to create a new feature called Family based on Parch and SibSp to get total count of family members on board.\n",
        "2. We may want to engineer the Name feature to extract Title as a new feature.\n",
        "3. We may want to create new feature for Age bands. This turns a continous numerical feature into an ordinal categorical feature.\n",
        "4. We may also want to create a Fare range feature if it helps our analysis.\n",
        "\n",
        "**Classifying.**\n",
        "\n",
        "We may also add to our assumptions based on the problem description noted earlier.\n",
        "\n",
        "1. Women (Sex\u003dfemale) were more likely to have survived.\n",
        "2. Children (Age\u003c?) were more likely to have survived. \n",
        "3. The upper-class passengers (Pclass\u003d1) were more likely to have survived."
      ]
    },
    {
      "cell_type": "markdown",
      "metadata": {
        "_cell_guid": "6db63a30-1d86-266e-2799-dded03c45816",
        "_uuid": "946ee6ca01a3e4eecfa373ca00f88042b683e2ad",
        "pycharm": {}
      },
      "source": [
        "## Analyze by pivoting features\n",
        "\n",
        "To confirm some of our observations and assumptions, we can quickly analyze our feature correlations by pivoting features against each other. We can only do so at this stage for features which do not have any empty values. It also makes sense doing so only for features which are categorical (Sex), ordinal (Pclass) or discrete (SibSp, Parch) type.\n",
        "\n",
        "- **Pclass** We observe significant correlation (\u003e0.5) among Pclass\u003d1 and Survived (classifying #3). We decide to include this feature in our model.\n",
        "- **Sex** We confirm the observation during problem definition that Sex\u003dfemale had very high survival rate at 74% (classifying #1).\n",
        "- **SibSp and Parch** These features have zero correlation for certain values. It may be best to derive a feature or a set of features from these individual features (creating #1)."
      ]
    },
    {
      "cell_type": "code",
      "execution_count": 12,
      "metadata": {
        "_cell_guid": "0964832a-a4be-2d6f-a89e-63526389cee9",
        "_uuid": "97a845528ce9f76e85055a4bb9e97c27091f6aa1",
        "pycharm": {
          "is_executing": false
        }
      },
      "outputs": [
        {
          "data": {
            "text/plain": "   Pclass  Survived\n0       1  0.629630\n1       2  0.472826\n2       3  0.242363",
            "text/html": "\u003cdiv\u003e\n\u003cstyle scoped\u003e\n    .dataframe tbody tr th:only-of-type {\n        vertical-align: middle;\n    }\n\n    .dataframe tbody tr th {\n        vertical-align: top;\n    }\n\n    .dataframe thead th {\n        text-align: right;\n    }\n\u003c/style\u003e\n\u003ctable border\u003d\"1\" class\u003d\"dataframe\"\u003e\n  \u003cthead\u003e\n    \u003ctr style\u003d\"text-align: right;\"\u003e\n      \u003cth\u003e\u003c/th\u003e\n      \u003cth\u003ePclass\u003c/th\u003e\n      \u003cth\u003eSurvived\u003c/th\u003e\n    \u003c/tr\u003e\n  \u003c/thead\u003e\n  \u003ctbody\u003e\n    \u003ctr\u003e\n      \u003cth\u003e0\u003c/th\u003e\n      \u003ctd\u003e1\u003c/td\u003e\n      \u003ctd\u003e0.629630\u003c/td\u003e\n    \u003c/tr\u003e\n    \u003ctr\u003e\n      \u003cth\u003e1\u003c/th\u003e\n      \u003ctd\u003e2\u003c/td\u003e\n      \u003ctd\u003e0.472826\u003c/td\u003e\n    \u003c/tr\u003e\n    \u003ctr\u003e\n      \u003cth\u003e2\u003c/th\u003e\n      \u003ctd\u003e3\u003c/td\u003e\n      \u003ctd\u003e0.242363\u003c/td\u003e\n    \u003c/tr\u003e\n  \u003c/tbody\u003e\n\u003c/table\u003e\n\u003c/div\u003e"
          },
          "metadata": {},
          "output_type": "execute_result",
          "execution_count": 12
        }
      ],
      "source": [
        "train_df[[\u0027Pclass\u0027, \u0027Survived\u0027]].groupby([\u0027Pclass\u0027], as_index\u003dFalse).mean().sort_values(by\u003d\u0027Survived\u0027, ascending\u003dFalse)"
      ]
    },
    {
      "cell_type": "code",
      "execution_count": 13,
      "metadata": {
        "_cell_guid": "68908ba6-bfe9-5b31-cfde-6987fc0fbe9a",
        "_uuid": "00a2f2bca094c5984e6a232c730c8b232e7e20bb",
        "pycharm": {
          "is_executing": false
        }
      },
      "outputs": [
        {
          "data": {
            "text/plain": "      Sex  Survived\n0  female  0.742038\n1    male  0.188908",
            "text/html": "\u003cdiv\u003e\n\u003cstyle scoped\u003e\n    .dataframe tbody tr th:only-of-type {\n        vertical-align: middle;\n    }\n\n    .dataframe tbody tr th {\n        vertical-align: top;\n    }\n\n    .dataframe thead th {\n        text-align: right;\n    }\n\u003c/style\u003e\n\u003ctable border\u003d\"1\" class\u003d\"dataframe\"\u003e\n  \u003cthead\u003e\n    \u003ctr style\u003d\"text-align: right;\"\u003e\n      \u003cth\u003e\u003c/th\u003e\n      \u003cth\u003eSex\u003c/th\u003e\n      \u003cth\u003eSurvived\u003c/th\u003e\n    \u003c/tr\u003e\n  \u003c/thead\u003e\n  \u003ctbody\u003e\n    \u003ctr\u003e\n      \u003cth\u003e0\u003c/th\u003e\n      \u003ctd\u003efemale\u003c/td\u003e\n      \u003ctd\u003e0.742038\u003c/td\u003e\n    \u003c/tr\u003e\n    \u003ctr\u003e\n      \u003cth\u003e1\u003c/th\u003e\n      \u003ctd\u003emale\u003c/td\u003e\n      \u003ctd\u003e0.188908\u003c/td\u003e\n    \u003c/tr\u003e\n  \u003c/tbody\u003e\n\u003c/table\u003e\n\u003c/div\u003e"
          },
          "metadata": {},
          "output_type": "execute_result",
          "execution_count": 13
        }
      ],
      "source": [
        "train_df[[\"Sex\", \"Survived\"]].groupby([\u0027Sex\u0027], as_index\u003dFalse).mean().sort_values(by\u003d\u0027Survived\u0027, ascending\u003dFalse)"
      ]
    },
    {
      "cell_type": "code",
      "execution_count": 14,
      "metadata": {
        "_cell_guid": "01c06927-c5a6-342a-5aa8-2e486ec3fd7c",
        "_uuid": "a8f7a16c54417dcd86fc48aeef0c4b240d47d71b",
        "pycharm": {
          "is_executing": false
        }
      },
      "outputs": [
        {
          "data": {
            "text/plain": "   SibSp  Survived\n1      1  0.535885\n2      2  0.464286\n0      0  0.345395\n3      3  0.250000\n4      4  0.166667\n5      5  0.000000\n6      8  0.000000",
            "text/html": "\u003cdiv\u003e\n\u003cstyle scoped\u003e\n    .dataframe tbody tr th:only-of-type {\n        vertical-align: middle;\n    }\n\n    .dataframe tbody tr th {\n        vertical-align: top;\n    }\n\n    .dataframe thead th {\n        text-align: right;\n    }\n\u003c/style\u003e\n\u003ctable border\u003d\"1\" class\u003d\"dataframe\"\u003e\n  \u003cthead\u003e\n    \u003ctr style\u003d\"text-align: right;\"\u003e\n      \u003cth\u003e\u003c/th\u003e\n      \u003cth\u003eSibSp\u003c/th\u003e\n      \u003cth\u003eSurvived\u003c/th\u003e\n    \u003c/tr\u003e\n  \u003c/thead\u003e\n  \u003ctbody\u003e\n    \u003ctr\u003e\n      \u003cth\u003e1\u003c/th\u003e\n      \u003ctd\u003e1\u003c/td\u003e\n      \u003ctd\u003e0.535885\u003c/td\u003e\n    \u003c/tr\u003e\n    \u003ctr\u003e\n      \u003cth\u003e2\u003c/th\u003e\n      \u003ctd\u003e2\u003c/td\u003e\n      \u003ctd\u003e0.464286\u003c/td\u003e\n    \u003c/tr\u003e\n    \u003ctr\u003e\n      \u003cth\u003e0\u003c/th\u003e\n      \u003ctd\u003e0\u003c/td\u003e\n      \u003ctd\u003e0.345395\u003c/td\u003e\n    \u003c/tr\u003e\n    \u003ctr\u003e\n      \u003cth\u003e3\u003c/th\u003e\n      \u003ctd\u003e3\u003c/td\u003e\n      \u003ctd\u003e0.250000\u003c/td\u003e\n    \u003c/tr\u003e\n    \u003ctr\u003e\n      \u003cth\u003e4\u003c/th\u003e\n      \u003ctd\u003e4\u003c/td\u003e\n      \u003ctd\u003e0.166667\u003c/td\u003e\n    \u003c/tr\u003e\n    \u003ctr\u003e\n      \u003cth\u003e5\u003c/th\u003e\n      \u003ctd\u003e5\u003c/td\u003e\n      \u003ctd\u003e0.000000\u003c/td\u003e\n    \u003c/tr\u003e\n    \u003ctr\u003e\n      \u003cth\u003e6\u003c/th\u003e\n      \u003ctd\u003e8\u003c/td\u003e\n      \u003ctd\u003e0.000000\u003c/td\u003e\n    \u003c/tr\u003e\n  \u003c/tbody\u003e\n\u003c/table\u003e\n\u003c/div\u003e"
          },
          "metadata": {},
          "output_type": "execute_result",
          "execution_count": 14
        }
      ],
      "source": [
        "train_df[[\"SibSp\", \"Survived\"]].groupby([\u0027SibSp\u0027], as_index\u003dFalse).mean().sort_values(by\u003d\u0027Survived\u0027, ascending\u003dFalse)"
      ]
    },
    {
      "cell_type": "code",
      "execution_count": 15,
      "metadata": {
        "_cell_guid": "e686f98b-a8c9-68f8-36a4-d4598638bbd5",
        "_uuid": "5d953a6779b00b7f3794757dec8744a03162c8fd",
        "pycharm": {
          "is_executing": false
        }
      },
      "outputs": [
        {
          "data": {
            "text/plain": "   Parch  Survived\n3      3  0.600000\n1      1  0.550847\n2      2  0.500000\n0      0  0.343658\n5      5  0.200000\n4      4  0.000000\n6      6  0.000000",
            "text/html": "\u003cdiv\u003e\n\u003cstyle scoped\u003e\n    .dataframe tbody tr th:only-of-type {\n        vertical-align: middle;\n    }\n\n    .dataframe tbody tr th {\n        vertical-align: top;\n    }\n\n    .dataframe thead th {\n        text-align: right;\n    }\n\u003c/style\u003e\n\u003ctable border\u003d\"1\" class\u003d\"dataframe\"\u003e\n  \u003cthead\u003e\n    \u003ctr style\u003d\"text-align: right;\"\u003e\n      \u003cth\u003e\u003c/th\u003e\n      \u003cth\u003eParch\u003c/th\u003e\n      \u003cth\u003eSurvived\u003c/th\u003e\n    \u003c/tr\u003e\n  \u003c/thead\u003e\n  \u003ctbody\u003e\n    \u003ctr\u003e\n      \u003cth\u003e3\u003c/th\u003e\n      \u003ctd\u003e3\u003c/td\u003e\n      \u003ctd\u003e0.600000\u003c/td\u003e\n    \u003c/tr\u003e\n    \u003ctr\u003e\n      \u003cth\u003e1\u003c/th\u003e\n      \u003ctd\u003e1\u003c/td\u003e\n      \u003ctd\u003e0.550847\u003c/td\u003e\n    \u003c/tr\u003e\n    \u003ctr\u003e\n      \u003cth\u003e2\u003c/th\u003e\n      \u003ctd\u003e2\u003c/td\u003e\n      \u003ctd\u003e0.500000\u003c/td\u003e\n    \u003c/tr\u003e\n    \u003ctr\u003e\n      \u003cth\u003e0\u003c/th\u003e\n      \u003ctd\u003e0\u003c/td\u003e\n      \u003ctd\u003e0.343658\u003c/td\u003e\n    \u003c/tr\u003e\n    \u003ctr\u003e\n      \u003cth\u003e5\u003c/th\u003e\n      \u003ctd\u003e5\u003c/td\u003e\n      \u003ctd\u003e0.200000\u003c/td\u003e\n    \u003c/tr\u003e\n    \u003ctr\u003e\n      \u003cth\u003e4\u003c/th\u003e\n      \u003ctd\u003e4\u003c/td\u003e\n      \u003ctd\u003e0.000000\u003c/td\u003e\n    \u003c/tr\u003e\n    \u003ctr\u003e\n      \u003cth\u003e6\u003c/th\u003e\n      \u003ctd\u003e6\u003c/td\u003e\n      \u003ctd\u003e0.000000\u003c/td\u003e\n    \u003c/tr\u003e\n  \u003c/tbody\u003e\n\u003c/table\u003e\n\u003c/div\u003e"
          },
          "metadata": {},
          "output_type": "execute_result",
          "execution_count": 15
        }
      ],
      "source": [
        "train_df[[\"Parch\", \"Survived\"]].groupby([\u0027Parch\u0027], as_index\u003dFalse).mean().sort_values(by\u003d\u0027Survived\u0027, ascending\u003dFalse)"
      ]
    },
    {
      "cell_type": "markdown",
      "metadata": {
        "_cell_guid": "0d43550e-9eff-3859-3568-8856570eff76",
        "_uuid": "5c6204d01f5a9040cf0bb7c678686ae48daa201f",
        "pycharm": {}
      },
      "source": [
        "## Analyze by visualizing data\n",
        "\n",
        "Now we can continue confirming some of our assumptions using visualizations for analyzing the data.\n",
        "\n",
        "### Correlating numerical features\n",
        "\n",
        "Let us start by understanding correlations between numerical features and our solution goal (Survived).\n",
        "\n",
        "A histogram chart is useful for analyzing continous numerical variables like Age where banding or ranges will help identify useful patterns. The histogram can indicate distribution of samples using automatically defined bins or equally ranged bands. This helps us answer questions relating to specific bands (Did infants have better survival rate?)\n",
        "\n",
        "Note that x-axis in historgram visualizations represents the count of samples or passengers.\n",
        "\n",
        "**Observations.**\n",
        "\n",
        "- Infants (Age \u003c\u003d4) had high survival rate.\n",
        "- Oldest passengers (Age \u003d 80) survived.\n",
        "- Large number of 15-25 year olds did not survive.\n",
        "- Most passengers are in 15-35 age range.\n",
        "\n",
        "**Decisions.**\n",
        "\n",
        "This simple analysis confirms our assumptions as decisions for subsequent workflow stages.\n",
        "\n",
        "- We should consider Age (our assumption classifying #2) in our model training.\n",
        "- Complete the Age feature for null values (completing #1).\n",
        "- We should band age groups (creating #3)."
      ]
    },
    {
      "cell_type": "code",
      "execution_count": 16,
      "metadata": {
        "_cell_guid": "50294eac-263a-af78-cb7e-3778eb9ad41f",
        "_uuid": "d3a1fa63e9dd4f8a810086530a6363c94b36d030",
        "pycharm": {
          "is_executing": false
        }
      },
      "outputs": [
        {
          "data": {
            "text/plain": "\u003cseaborn.axisgrid.FacetGrid at 0x204d4fbbeb8\u003e"
          },
          "metadata": {},
          "output_type": "execute_result",
          "execution_count": 16
        },
        {
          "data": {
            "text/plain": "\u003cFigure size 432x216 with 2 Axes\u003e",
            "image/png": "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\u003d\n"
          },
          "metadata": {
            "needs_background": "light"
          },
          "output_type": "display_data"
        }
      ],
      "source": [
        "g \u003d sns.FacetGrid(train_df, col\u003d\u0027Survived\u0027)\n",
        "g.map(plt.hist, \u0027Age\u0027, bins\u003d20)"
      ]
    },
    {
      "cell_type": "markdown",
      "metadata": {
        "_cell_guid": "87096158-4017-9213-7225-a19aea67a800",
        "_uuid": "892259f68c2ecf64fd258965cff1ecfe77dd73a9",
        "pycharm": {}
      },
      "source": [
        "### Correlating numerical and ordinal features\n",
        "\n",
        "We can combine multiple features for identifying correlations using a single plot. This can be done with numerical and categorical features which have numeric values.\n",
        "\n",
        "**Observations.**\n",
        "\n",
        "- Pclass\u003d3 had most passengers, however most did not survive. Confirms our classifying assumption #2.\n",
        "- Infant passengers in Pclass\u003d2 and Pclass\u003d3 mostly survived. Further qualifies our classifying assumption #2.\n",
        "- Most passengers in Pclass\u003d1 survived. Confirms our classifying assumption #3.\n",
        "- Pclass varies in terms of Age distribution of passengers.\n",
        "\n",
        "**Decisions.**\n",
        "\n",
        "- Consider Pclass for model training."
      ]
    },
    {
      "cell_type": "code",
      "execution_count": 17,
      "metadata": {
        "_cell_guid": "916fdc6b-0190-9267-1ea9-907a3d87330d",
        "_uuid": "4f5bcfa97c8a72f8b413c786954f3a68e135e05a",
        "pycharm": {
          "is_executing": false
        }
      },
      "outputs": [
        {
          "name": "stderr",
          "text": [
            "c:\\users\\fengzhiheng\\anaconda3\\envs\\unet\\lib\\site-packages\\seaborn\\axisgrid.py:243: UserWarning: The `size` parameter has been renamed to `height`; please update your code.\n  warnings.warn(msg, UserWarning)\n"
          ],
          "output_type": "stream"
        },
        {
          "data": {
            "text/plain": "\u003cFigure size 514.88x475.2 with 6 Axes\u003e",
            "image/png": "iVBORw0KGgoAAAANSUhEUgAAAgAAAAHTCAYAAABROqDmAAAABHNCSVQICAgIfAhkiAAAAAlwSFlzAAALEgAACxIB0t1+/AAAADh0RVh0U29mdHdhcmUAbWF0cGxvdGxpYiB2ZXJzaW9uMy4xLjEsIGh0dHA6Ly9tYXRwbG90bGliLm9yZy8QZhcZAAAgAElEQVR4nO3dfbRkdXng++8Bupuc8cBCcxBbHfvm5TxznWhAxmg0La2hVXy5rUYzE+0IdBBNw71HZKKiYHeyFBMVjLnBq3bEFtTcLDqS6BiMRAGJOAMhNArCQ94wEcxwNJJ00oADXfPH3geLts+pXdVVp15+389atVbt9+epU799nv3bu/aearVaSJKkshwy7AAkSdLKswCQJKlAFgCSJBXIAkCSpAJZAEiSVCALAEmSCnTYsAOYFBGxDrgD+AbQAlYDdwOnZua3lljmFGBDZp6yMlEeWERsBN6amT9/gGkbgFP2jzEi1gAXAicA+4B7gbMz84Y+xPMnwGmZefdBrGMdcHVmrutx+VcD5wKrgN/OzIt6jUXjwTY8WW24XscRwHXASzLzzl7XM6ksAPrr7sw8dnEgIi4A3gv80vBCWlpEHAKcBbwN+HqXi7+RqgfpKZnZiohnA5+JiH+fmf/rYOLKzBcdzPIHKyIeD7wLOB54ALguIq7KzG8MMy6tCNvwBLRhgIh4BrADmBt2LKPKAmCwrgLeDRARJwIXUDW4bwKvbp8xIl4FnA38CLAG2JKZ10XEm4CTqSr06zPz9RHxVOAjVH+/+6mOUP6qbV1PBD57gHjWZ+aetuH/s369Dvh/usztGKojpFXA9zPzKxFxKnBovSPZnpkb6nh2AlfXr88D3wHuAx4DvC4zb4yIQ+vP5WnA9cAG4NNLTH8S8H5gul7X6zPz7yLiOOCjdXw3HyjoiPgYcNx+o9+bmZ9sGz4R+FJm/lO9zC7glcBvdPcRaQLYhhnLNgzVZ3IGcGlXn0pBLAAGJCJWUf3T+Grd1fZJ4AWZuTsi3k21Q9hTz3sI8AaqbqrvRMQW4JyIeBlwDrAWeAj4aH10ehZwQWZeFhEnA88EHt55ZOY/AA8fxSwlM28FTqu7CLv1AeBzwEJEXA18Efh4Zt4fEcstF8ALM/POiDiL6sjqRuB5wM2ZeU/b8pfuP52qm/JK4KWZ+fcR8QKqKv9E4BLgTZl5ZUScBzz3ADmf2iC3tcC324a/DfxMg+U0QWzDSxqHNkxmngbQIZeiWQD019qI2F2/X0NVBb8VeApwV2buBsjMc+Dh84dk5r6IeDnw0qi+rRuAhzLzoYi4DrgB+GOqHcZdEfE54KKIeCHVUcIjjhS6OHroWd34fwp4OlXDfS1wVl3BL+eetnNxv0+1c/01qp3EJ/ab90DT54Afp+qqXJzviIj4UWBtZl5Zj9sJ/Mr+G2949HAI1TngRVNUR2+afLbhyWjDasACoL8ecf5wUd2YW23DRwIzbcOPotrRfAL4MvA14Mx68suojg5OAj4fEa/JzF0R8VXgJVRHEi+m6u4Cmh89HIyIOB+4KDOvr2M/PyK+AmwE7qH6p7loVdv7+9ri/MeISKqd5Yn8IOflpv8k8LeLn3PdrfhYqs+3fZsPHijuhkcP3wLWtw0fQ3UxmCafbXgy2rAa8GeAKyOBoyPiyfXwm6m6CxfNUX35z6c65/gKqvNws1RXJH89M98BfAF4akT8AfD0zPwwcB7VObWV9njgvIhYDRARxwBHU12I9B3gxyLi8Ih4NI/8Z7q/S6nOq16VmXsbTL8deHRELK5zC/CpzPwu8M2IeHE9/tU/vKrG/gz4+YiYjYhp4BeoznuqXLbhpY1iG1YDFgArIDPvBzYDl0TE14AnA7/ZNsvNwG6qhnErsAA8KTMXqC4UuiEibgQOBy6m2sm8PSL+EngP8KsrlUubM6m+P3dExK3AFcBbMvP2+rzk56hyuQy4dpn1XE51RLB/1+EBp2fmA8CrgAvqz/JkftBNuBnYFhE3UXUx9iQz7wLeTrUj3021c7q+1/Vp/NmGx6sNq5kpHwes5cQSvyGWNB5sw1qKPQCSJBXIHgBJkgpkD4AkSQWyAJAkqUBDuQ/AwsKejucdjjpqmu9970C/KBlP5jPaSs1ndnZmquNMB9CkDXcTx7iYpHwmKRcoO59e2/HI9gAcdtihww6hr8xntJnPYIxKHP0ySflMUi5gPr0Y2QJAkiQNjgWAJEkFsgCQJKlAFgCSJBXIAkCSpAJZAEiSVCALAEmSCmQBIElSgSwAJEkqUKNbAUfE0cCNwEbgQWAn0AJuAc7IzH2DClCSJPVfxx6AiFgFfBi4rx51IXBuZq4HpoBNgwtPkiQNQpMegPcBHwLOqYePB66p318BPB+4vNNKImI7sA1g69atzM/Pd9zw7OxMg/DGh/mMNvNZXi9teBBxDNsk5TNJuYD5dGuq1Vr6oV4RcQrwhMx8Z0RcDbwB+FJmrq2nPw/Ykpmbu9lokyeJzc7OsLCwp5vVjjTzGW2l5jPopwGW+rmOg0nKBcrOp9d23KkHYAvQiogTgWOBS4Cj26bPAPf2smFJkjQ8y14DkJnPycwTMnMDsBt4LXBFRGyoZzkJuHagEUqSpL5r9CuA/ZwN7IiI1cBtwK7+hiRJkgatcQFQ9wIsOqH/oUiSpJXijYAkSSqQBYAkSQWyAJAkqUAWAJIkFcgCQJKkAlkASJJUIAsASZIKZAEgSVKBLAAkSSqQBYAkSQWyAJAkqUAWAJIkFcgCQJKkAlkASJJUIAsASZIKZAEgSVKBLAAkSSrQYZ1miIhDgR1AAA8BpwJTwE6gBdwCnJGZ+wYXpiRJ6qcmPQAvBcjMZwPvAC6sX+dm5nqqYmDTwCKUJEl917EAyMw/Ak6vB58E/E/geOCaetwVwIkDiU6SJA3EVKvVajRjRHwceDnwSmBnZq6txz8P2JKZmzssvx3YBrB161bm5+cPImxJfTLVdEbbsDSyGrfjRyzUtAAAiIhjgP8BHJGZR9XjNgEbM/PMputZWNjTcaOzszMsLOxpHNuoM5/RVmo+s7MzPe04mrThbuIYF5OUzyTlAmXn02s77ngKICJ+OSLOqQf3AvuAv4iIDfW4k4Bre9m4JEkajo6/AgA+DXwsIr4MrALeCNwG7IiI1fX7XYMLUZIk9VvHAiAz/w34xQNMOqH/4UiSpJXgjYAkSSqQBYAkSQWyAJAkqUAWAJIkFcgCQJKkAlkASJJUIAsASZIKZAEgSVKBLAAkSSqQBYAkSQWyAJAkqUAWAJIkFcgCQJKkAlkASJJUIAsASZIKZAEgSVKBLAAkSSqQBYAkSQU6bLmJEbEKuBhYB6wB3gl8A9gJtIBbgDMyc99Ao5QkSX3VqQdgM/DdzFwPnAT8LnAhcG49bgrYNNgQJUlSvy3bAwBcBuxqG34QOB64ph6+Ang+cHmnDUXEdmAbwNatW5mfn+8Y3OzsTMd5xon5jDbzWV4vbXgQcQzbMPN5/5V3NJrvrI1zjebzbzPaBp3PVKvV6jhTRMwAnwF2AO/LzLX1+OcBWzJzczcbXVjY03Gjs7MzLCzs6Wa1I818Rlup+czOzkz1sv4mbbibOMbFsPP5yHV3Nprv9Get6zjPsHPpt5Lz6bUdd7wIMCKeCFwFXJqZnwLaz/fPAPf2smFJkjQ8yxYAEfFY4AvAWzLz4nr0TRGxoX5/EnDt4MKTJEmD0OkagLcBRwHnRcR59bh54HciYjVwG4+8RkCSJI2BZQuAzJyn+oe/vxMGE44kSVoJ3ghIkqQCWQBIklQgCwBJkgpkASBJUoEsACRJKpAFgCRJBbIAkCSpQBYAkiQVyAJAkqQCWQBIklSgTs8CkCS1afpIXmj2WF5pWOwBkCSpQBYAkiQVyAJAkqQCWQBIklQgLwKUpAnT5ELF6ek17N37gBcqFsweAEmSCtSoByAingH8VmZuiIifAHYCLeAW4IzM3De4ECVpsnXz08JR1zQXex6Gr2MPQES8Gfg94PB61IXAuZm5HpgCNg0uPEmSNAhNTgH8DfCKtuHjgWvq91cAJ/Y7KEmSNFgdTwFk5h9GxLq2UVOZ2arf7wGObLKhiNgObAPYunUr8/PzHZeZnZ1psuqxYT6jzXyW10sbHkQcwzY9vabxvE1z72ad/TQ9vabvf5+muQziezFp37VB59PLrwDaz/fPAPc2WSgztwPbARYW9rQWFvYsO//s7Ayd5hkn5jPaSs2nmx1Mt224mzjGxezsDHv3PtB4/qa5d7POfln8FUC//z5Nc+n3difxu9Y0n14LhV4KgJsiYkNmXg2cBFzV05YlaYQ0/elcv9cpDUsvBcDZwI6IWA3cBuzqb0iSJGnQGhUAmXkn8Mz6/R3ACQOMSZIkDZh3AtRQNeki9ffC0vB5OmPyeCdASZIKZAEgSVKBPAWggbHLUBp9ttNy2QMgSVKB7AGQal6QKKkk9gBIklQgCwBJkgrkKYAxsZLd00229fZNT+nLtvqlU8x23ZfLi9xGU7//LtPTa9h87OP6us5JZw+AJEkFsgdggngRmySpKXsAJEkqkAWAJEkF8hTAQehXl/s4XqT0/ivvYO/eB4YdRmOdPuNun/N+MNsCT8VIGj57ACRJKpA9AAO2eDQ4Pb1mJI6Yx7G3YZRiHqVYxknTz82eER0Mv2fdsQdAkqQCWQBIklSgnk4BRMQhwAeBnwYeAE7LzL/uZ2AH4sVVkhZ5OkbjqOn3diXuttprD8DLgMMz82eBtwIX9C8kSZI0cK1Wq+vX3NzchXNzc/+lbfiuBstsn5uba9Wv7U3m7yW2UX2Zz2i/zKfZOrtpw36uo/2apFzMp7dXrz0ARwD/3Db8UEQsezohM7dn5lT92t5gG9t6jG1Umc9oM58OemjDA4ljyCYpn0nKBcyna70WAP8CzLSvJzMf7EM8kiRpBfRaAHwFeBFARDwT+HrfIpIkSQPX642ALgc2RsR1wBRwav9CetivD2Cdw2Q+o818BmNU4uiXScpnknIB8+naVKvVGvQ2JEnSiPFGQJIkFcgCQJKkAlkASJJUIAsASZIKZAEgSVKBLAAkSSqQBYAkSQWyAJAkqUAWAJIkFcgCQJKkAlkASJJUIAsASZIK1OvTALWfiFgH3AF8A2gBq4G7gVMz81tLLHMKsCEzT1mZKH9o+48DPgYcA+wD/mtmfmm/eTYAp+wfY0SsAS4ETqiXvRc4OzNv6ENcfwKclpl3H8Q61gFXZ+a6Hpd/NXAusAr47cy8qNdYNB5sw5PVhut1HAFcB7wkM+/sdT2Tyh6A/ro7M4/NzOMy8z8CXwPeO+yglvFe4LOZeSzwS8CnIuLQhsu+ker785TMfCpwDvCZiFh1sEFl5osOZsdxsCLi8cC7gJ8DjgVOj4gnDyserSjb8AS0YYCIeAbw58DcMOMYZfYADNZVwLsBIuJE4AKqBvdN4NXtM0bEq4CzgR8B1gBbMvO6iHgTcDJVhX59Zr4+Ip4KfITq73c/1RHKX7Wt64nAZw8Qz/rM3NM2fDmweLTw18DhwKOAf26Q2zFUR0irgO9n5lci4lTg0Ih4NrA9MzfU8ewErq5fnwe+A9wHPAZ4XWbeWO+0vgk8Dbge2AB8eonpTwLeD0zX63p9Zv5dRBwHfLSO7+YDBR0RHwOO22/0ezPzk23DJwJfysx/qpfZBbwS+I0Gn4smi22YsWzDAK8DzgAubfBZFMkCYEDqKvqVwFfrrrZPAi/IzN0R8W6qHcKeet5DgDdQdVN9JyK2AOdExMuoqvK1wEPAR+uj07OACzLzsog4GXgm8PDOIzP/gerIdVmZ+Ydtg/8VuCkzm+w4AD4AfA5YiIirgS8CH8/M+yNiueUCeGFm3hkRZ1EdtdwIPA+4OTPvaVv+0v2nU3VTXgm8NDP/PiJeAOyg+qd9CfCmzLwyIs4DnnuAnE9tkNta4Nttw98GfqbBcpogtuEljUMbJjNPA+iQS9EsAPprbUTsrt+voaqC3wo8BbgrM3cDZOY58PD5QzJzX0S8HHhpVN/WDcBDmflQRFwH3AD8MdUO466I+BxwUUS8kOoo4RFHCl0cPSzO/0bg9VTnAhupG/9PAU+narivBc6qK/jl3NN2Lu73qXauv0a1k/jEfvMeaPoc8ONUXZWL8x0RET8KrM3MK+txO4Ff2X/jDY8eDqE6B7xoiuroTZPPNjwZbVgNWAD01931ubhHqBtzq234SGCmbfhRVDuaTwBfpjrveGY9+WVURwcnAZ+PiNdk5q6I+CrwEqojiRdTdXcBzY8e6m2/p17+OUtd6LTEcucDF2Xm9XXs50fEV4CNwD1U/zQXtZ9TvK8tzn+MiKTaWZ7YlvNy038S+NvFz7nuVnws1efbvs0HDxR3w6OHbwHr24aPoboYTJPPNjwZbVgNeBHgykjg6LYLyd5M1V24aI7qy38+1TnHV1Cdh5uluiL565n5DuALwFMj4g+Ap2fmh4HzqM6pda0+angu8Oxudhy1xwPnRcTqel3HAEcDX6c6p/djEXF4RDyaR/4z3d+lVOdVr8rMvQ2m3w48OiIW17kF+FRmfhf4ZkS8uB7/6h9eVWN/Bvx8RMxGxDTwC1TnPVUu2/DSRrENqwELgBWQmfcDm4FLIuJrwJOB32yb5WZgN1XDuBVYAJ6UmQtUFwrdEBE3Ul3gczHVTubtEfGXwHuAX+02poiYArZRNfirI2J3/VrbcBVnUn1/7oiIW4ErgLdk5u2ZeSvVucVbgcuAa5dZz+VURwT7dx0ecHpmPgC8Crig/ixP5gfdhJuBbRFxE1UXY08y8y7g7VQ78t1UO6fre12fxp9teLzasJqZarVanedSsWKJ3xBLGg+2YS3FHgBJkgpkD4AkSQWyB0CSpAJZAEiSVKCh3AdgYWFPx/MORx01zfe+d6BflIwn8xltpeYzOzsz1XGmA2jShruJY1xMUj6TlAuUnU+v7XhkewAOO6zp8yzGg/mMNvMZjFGJo18mKZ9JygXMpxcjWwBIkqTBsQCQJKlAFgCSJBXIAkCSpAJZAEiSVCALAEmSCmQBIElSgSwAJEkqUKM7AUbE0cCNwEbgQWAn0AJuAc7IzH2DClCSJPVfxx6AiFgFfBi4rx51IXBuZq4HpoBNgwtPkiQNQpNTAO8DPgTcXQ8fD1xTv78COHEAcUmSpAFa9hRARJwCLGTmn0bEOfXoqcxcfBDIHuDIJhuKiO3ANoCtW7cyPz/fcZnZ2Zkmqx4b5jPazGd5vbThQcQxbJOUzyTlAubTralWa+mHekXEl6nO9beAY4E7gKdl5mH19E3Axsw8s5uNNnmS2OzsDAsLe7pZ7Ugzn9FWaj6DfhpgqZ/rOJikXKDsfAbyNMDMfE5mnpCZG4DdwGuBKyJiQz3LScC1vWxYkiQNT6NfAeznbGBHRKwGbgN29TckSZI0aI0LgLoXYNEJ/Q9FkiStFG8EJElSgSwAJEkqkAWAJEkFsgCQJKlAFgCSJBXIAkCSpAJZAEiSVCALAEmSCmQBIElSgSwAJEkqkAWAJEkFsgCQJKlAFgCSJBXIAkCSpAJZAEiSVCALAEmSCmQBIElSgSwAJEkq0GGdZoiIQ4EdQAAPAacCU8BOoAXcApyRmfsGF6YkSeqnJj0ALwXIzGcD7wAurF/nZuZ6qmJg08AilCRJfTfVarU6zhQRh2XmgxFxMvBs4MXAEzKzFRGbgOdn5hkd1rEd2AawdetW5ufnDzp4SQdtqumMtmFpZDVux49YqEkBABARHwdeDrwS2JmZa+vxzwO2ZObmphtdWNjTcaOzszMsLOxpusqRZz6jrdR8ZmdnetpxNGnD3cQxLiYpn0nKBcrOp9d23PgiwMw8GZijuh7gR9omzQD39rJxSZI0HB0LgIj45Yg4px7cC+wD/iIiNtTjTgKuHUx4kiRpEDr+CgD4NPCxiPgysAp4I3AbsCMiVtfvdw0uREmS1G8dC4DM/DfgFw8w6YT+hyNJklaCNwKSJKlAFgCSJBXIAkCSpAJZAEiSVCALAEmSCmQBIElSgSwAJEkqkAWAJEkFsgCQJKlAFgCSJBXIAkCSpAJZAEiSVCALAEmSCmQBIElSgSwAJEkqkAWAJEkFsgCQJKlAhy03MSJWARcD64A1wDuBbwA7gRZwC3BGZu4baJSSJKmvOvUAbAa+m5nrgZOA3wUuBM6tx00BmwYboiRJ6rdOBcBlwHltww8CxwPX1MNXACcOIC5JkjRAU61Wq+NMETEDfAbYAbwvM9fW458HbMnMzQ3WsR3YBrB161bm5+cPImxJfTLVdEbbsDSyGrfjRyzUqQCIiCcClwMfzMyLI+JbmfmEetomYGNmntnNRhcW9nSsOmZnZ1hY2NPNakea+Yy2UvOZnZ3pacfRpA13E8e4mKR8JikXKDufXtvxsqcAIuKxwBeAt2TmxfXomyJiQ/3+JODaXjYsSZKGZ9lfAQBvA44CzouIxWsB5oHfiYjVwG3ArgHGJ0mSBmDZAiAz56n+4e/vhMGEI0mSVoI3ApIkqUAWAJIkFcgCQJKkAlkASJJUIAsASZIKZAEgSVKBLAAkSSqQBYAkSQWyAJAkqUAWAJIkFcgCQJKkAlkASJJUIAsASZIKZAEgSVKBLAAkSSqQBYAkSQWyAJAkqUAWAJIkFeiwJjNFxDOA38rMDRHxE8BOoAXcApyRmfsGF6LafeS6O5ecdvqz1q1YHJKk8daxByAi3gz8HnB4PepC4NzMXA9MAZsGF54kSRqEJj0AfwO8Ari0Hj4euKZ+fwXwfODyTiuJiO3ANoCtW7cyPz/fccOzszMNwhsf7fm8/8o7lpzvrI1zS06bnl6z5LRP7P52T+vs1ST/fSZBv/PppQ3D8t9LGMx3c5BW+nuy3L4CDu7z8zs/2gadT8cCIDP/MCLWtY2aysxW/X4PcGSTDWXmdmA7wMLCntbCwp5l55+dnaHTPONk/3z27n1gyXmXy3u55ZbT789y0v8+465pPt3sYLptw4vr7/SdHafPfRjfk0F9fqV+58dFN/n0Wij0chFg+/n+GeDenrYsSZKGptFFgPu5KSI2ZObVwEnAVf0NSZLGx3IX5oIX52p09VIAnA3siIjVwG3Arv6GJEmSBq1RAZCZdwLPrN/fAZwwwJi0wvxpoTQ8nXoQpEHxRkCSJBXIAkCSpAL1cg2ABmwQXYJ2M0oHNuiL+Gx7GlX2AEiSVCALAEmSCuQpgIPUtHtvenpNz3fxkySp3+wBkCSpQBYAkiQVyAJAkqQCWQBIklQgLwLUspa6yHF6eg2bj33cygajieTDdA7OwX5+fv7lsgdAkqQC2QOggej17me9Hm2s9Pa0coZ9hNq+/XH8Oe9yvXgrkcuw/35amj0AkiQVyAJAkqQCeQpAPfOhRRoHfqcOzrAfluQpgsGxB0CSpAL11AMQEYcAHwR+GngAOC0z/7qfgUkrYfHo40AXRC135OFFh1Jl2D0sy7VhsM0tp9cegJcBh2fmzwJvBS7oX0iSJGnQei0Afg74PEBm/nfgP/UtIkmSNHitVqvr19zc3O/Nzc2d1Db893Nzc4d1WGb73Nxcq35tb7CNjvOM08t8RvtlPs3W2U0b9nMd7dck5WI+vb167QH4F2CmbfiQzHxwuQUyc3tmTtWv7Q22sa3H2EaV+Yw28+mghzY8kDiGbJLymaRcwHy61msB8BXgRQAR8Uzg632LSJIkDVyv9wG4HNgYEdcBU8Cp/QtJkiQNWk8FQGbuA97Q51j29+sDXv9KM5/RZj6DMSpx9Msk5TNJuYD5dG2q1WoNehuSJGnEeCdASZIKZAEgSVKBLAAkSSqQBYAkSQWyAJAkqUAWAJIkFcgCQJKkAlkASJJUIAsASZIKZAEgSVKBLAAkSSpQr08D1H4iYh1wB/ANoAWsBu4GTs3Mby2xzCnAhsw8ZWWi/KHtPw64FJgF7gden5m795tnA3DK/jFGxBrgQuAEYB9wL3B2Zt7Qh7j+BDgtM+8+iHWsA67OzHU9Lv9q4FxgFfDbmXlRr7FoPNiGJ6sN1+s4ArgOeElm3tnreiaVPQD9dXdmHpuZx2XmfwS+Brx32EEt43xgV2b+NLAN+GAXy76R6vvzlMx8KnAO8JmIWHWwQWXmiw5mx3GwIuLxwLuAnwOOBU6PiCcPKx6tKNvwBLRhgIh4BvDnwNww4xhl9gAM1lXAuwEi4kTgAqoG903g1e0zRsSrgLOBHwHWAFsy87qIeBNwMlWFfn1mvj4ingp8hOrvdz/VEcpfta3ricBnDxDP+szc0zb8K23v/w/ge13kdgzVEdIq4PuZ+ZWIOBU4NCKeDWzPzA11PDuBq+vX54HvAPcBjwFel5k3RsSh9efyNOB6YAPw6SWmPwl4PzBdr+v1mfl3EXEc8NE6vpsPFHREfAw4br/R783MT7YNnwh8KTP/qV5mF/BK4De6+Hw0GWzDjGUbBngdcAZVD4kOwAJgQOoq+pXAV+uutk8CL8jM3RHxbqodwp563kOAN1B1U30nIrYA50TEy6iq8rXAQ8BH66PTs4ALMvOyiDgZeCbw8M4jM/+B6sh1WZm5r97+7cA6YFMXKX4A+BywEBFXA18EPp6Z90fEcssF8MLMvDMizgJ+CbgReB5wc2be07b8pftPp+qmvBJ4aWb+fUS8ANhB9U/7EuBNmXllRJwHPPcAOZ/aILe1wLfbhr8N/EyD5TRBbMNLGoc2TGaeBtAhl6JZAPTX2ohYPP+2hqoKfivwFOCuxXNzmXkOPHz+kMzcFxEvB14a1bd1A/BQZj4UEdcBNwB/TLXDuCsiPgdcFBEvpDpKeMSRQhdHD9Tb/w8RcSzwhYj4D4tHvsupG/9PAU+narivBc6qK/jl3NN2Lu73qXauv0a1k/jEfvMeaPoc8ONUXZWL8x0RET8KrM3MK+txO3nk0RHQ+OjhEKpzwIumqI7eNPlsw5PRhtWABUB/3Z2ZP1S114251TZ8JDDTNvwoqh3NJ4AvU513PLOe/DKqo4OTgM9HxGsyc1dEfBV4CdWRxIupuruA5kcPEfFi4JrM/Nf6qOabwI8BHXceEXE+cFFmXl/Hfn5EfAXYCNxD9U9zUfs5xfva4vzHiEiqneWJbTkvN/0ngb9d/JzrbsXHUn2+7dt88EBxNzx6+BawvkrNtnYAAA7xSURBVG34GKqLwTT5bMOT0YbVgBcBrowEjo4fXEj2ZqruwkVzVF/+86nOOb6C6jzcLNUVyV/PzHcAXwCeGhF/ADw9Mz8MnEd1Tq0XJwOnA9SxHQPc3nDZxwPnRcTqevljgKOBr1Od0/uxiDg8Ih7NI/+Z7u9SqvOqV2Xm3gbTbwceHRGL69wCfCozvwt8s94hwn7nZ7v0Z8DPR8RsREwDv0B13lPlsg0vbRTbsBqwAFgBmXk/sBm4JCK+BjwZ+M22WW4GdlM1jFuBBeBJmblAdaHQDRFxI3A4cDHVTubtEfGXwHuAX+0xtDcCL4iIm4GPAb+Umf/acNkzqb4/d0TErcAVwFsy8/bMvJXq3OKtwGXAtcus53KqI4L9uw4POD0zHwBeBVxQf5Yn84Nuws3Atoi4iaqLsSeZeRfwdqod+W6qndP1va5P4882PF5tWM1MtVqtznOpWLHEb4gljQfbsJZiD4AkSQWyB0CSpALZAyBJUoEsACRJKtBQ7gOwsLCn43mHo46a5nvfO9AvSsaT+Yy2UvOZnZ2Z6jjTATRpw93EMS4mKZ9JygXKzqfXdjyyPQCHHXbosEPoK/MZbeYzGKMSR79MUj6TlAuYTy9GtgCQJEmDYwEgSVKBLAAkSSqQBYAkSQXyaYAD9pHr7gRgenoNe/c+cMB5Tn/WupULSJIk7AGQJKlIFgCSJBXIAkCSpAJZAEiSVKBGFwFGxNHAjcBG4EFgJ9ACbgHOyMx9gwpQkiT1X8cegIhYBXwYuK8edSFwbmauB6aATYMLT5IkDUKTHoD3AR8CzqmHjweuqd9fATwfuLzTSiJiO7ANYOvWrczPz3fc8OzsTIPwRtv09JoDvm83rnmOa9xLMZ/l9dKGBxHHsE1SPpOUC5hPt5YtACLiFGAhM/80IhYLgKnMXHwS2B7gyCYbysztwHaoniS2sLBn2flnZ2foNM84WPzt/3L3ARjHPCfl77Oo1Hy62cF024a7iWNcTFI+k5QLlJ1Pr4VCpx6ALUArIk4EjgUuAY5umz4D3NvTliVJ0tAsWwBk5nMW30fE1cAbgPdGxIbMvBo4CbhqkAGOssW7/EmSNG56uRXw2cCOiFgN3Abs6m9IkiRp0BoXAJm5oW3whP6HIkmSVoo3ApIkqUAWAJIkFcgCQJKkAlkASJJUoF5+BaA+a/pzwtOftW6gcUiSymEPgCRJBbIAkCSpQBYAkiQVyAJAkqQCWQBIklQgCwBJkgpkASBJUoEsACRJKpAFgCRJBbIAkCSpQN4KeIw0uWWwtwuWJDVhD4AkSQXq2AMQEYcCO4AAHgJOBaaAnUALuAU4IzP3DS5MSZLUT016AF4KkJnPBt4BXFi/zs3M9VTFwKaBRShJkvquYwGQmX8EnF4PPgn4n8DxwDX1uCuAEwcSnSRJGohGFwFm5oMR8XHg5cArgZdkZquevAc4stM6ImI7sA1g69atzM/Pd9zu7OxMk/CGZnp6zUDn78VKfmaj/vfplvksr5c2PIg4hm2S8pmkXMB8ujXVarU6z1WLiGOA/wEckZlH1eM2ARsz88ym61lY2NNxo7OzMyws7Gkc2zA0uSp/0fT0GvbufWBwwdRW6lcA4/D36Uap+czOzkz1sv4mbbibOMbFJOUzSblA2fn02o47ngKIiF+OiHPqwb3APuAvImJDPe4k4NpeNi5JkoajySmATwMfi4gvA6uANwK3ATsiYnX9ftfgQpQkSf3WsQDIzH8DfvEAk07ofziSJGkleCMgSZIKZAEgSVKBLAAkSSqQBYAkSQWyAJAkqUAWAJIkFcgCQJKkAlkASJJUIAsASZIKZAEgSVKBLAAkSSqQBYAkSQWyAJAkqUAWAJIkFcgCQJKkAlkASJJUIAsASZIKZAEgSVKBDltuYkSsAi4G1gFrgHcC3wB2Ai3gFuCMzNw30CglSVJfdeoB2Ax8NzPXAycBvwtcCJxbj5sCNg02REmS1G/L9gAAlwG72oYfBI4HrqmHrwCeD1zeaUMRsR3YBrB161bm5+c7Bjc7O9NxnmGanl4z0Pl78Ynd324031kb5w56W6P+9+mW+SyvlzY8iDiGbZLymaRcwHy6NdVqtTrOFBEzwGeAHcD7MnNtPf55wJbM3NzNRhcW9nTc6OzsDAsLe7pZ7Yr7yHV3Np53enoNe/c+MLhgunT6s9Yd1PLj8PfpRqn5zM7OTPWy/iZtuJs4xsUk5TNJuUDZ+fTajjteBBgRTwSuAi7NzE8B7ef7Z4B7e9mwJEkank4XAT4W+AJwZmZ+sR59U0RsyMyrqa4LuGqwIWpYluvhaO/RONjeBEnSyut0DcDbgKOA8yLivHrcPPA7EbEauI1HXiMgSZLGwLIFQGbOU/3D398JgwlHkiStBG8EJElSgSwAJEkqUKdrADShuvkJoyRp8tgDIElSgSwAJEkqkAWAJEkFsgCQJKlAFgCSJBXIAkCSpAJZAEiSVCALAEmSCmQBIElSgSwAJEkqkAWAJEkFsgCQJKlAY/EwoCYPrjn9WesGHockSZPCHgBJkgrUqAcgIp4B/FZmboiInwB2Ai3gFuCMzNw3uBD7y94ESZIa9ABExJuB3wMOr0ddCJybmeuBKWDT4MKTJEmD0OQUwN8Ar2gbPh64pn5/BXBiv4OSJEmD1fEUQGb+YUSsaxs1lZmt+v0e4MgmG4qI7cA2gK1btzI/P99xmdnZGQCmp9c0nreTlV7Xwcw/6hbz+cTub/dtnWdtnOvburrV9O8+LvqdTy9teBBxrLT3X3lH29CBv+udvrePXEf3yw/KuP9t9mc+3enlVwDt5/tngHubLJSZ24HtAAsLe1oLC3uWnX92dobFefbufaDj+jutb9FKr2vR9PSaruYfdYPKp+ln32/t37dJ0DSfbnYw3bbhbuIYZe3f86W+951y7NRWhvEZTcLfpl3J+fRaKPRSANwUERsy82rgJOCqnrYsqQidLrz1ols/Iw1HLwXA2cCOiFgN3Abs6m9IkiRp0BoVAJl5J/DM+v0dwAkDjEmSJA3YWNwJUNLkGnT3d5N7f0gl8k6AkiQVyB4ASTpI9jJoHNkDIElSgSwAJEkqkKcAJGnEeZ8ADYI9AJIkFcgCQJKkAk3MKYB+XoXrFb3D0+Szt7tTkg6ePQCSJBXIAkCSpAJZAEiSVCALAEmSCmQBIElSgSwAJEkq0MT8DFAaF/7UsTveBa+zXn66PD29hr17HwD8DEtlD4AkSQWyAJAkqUA9nQKIiEOADwI/DTwAnJaZf93PwKSlDOJOje3dob2yG3U4vHPnwevHZzjs7//7r7xj2TY87PhGUa89AC8DDs/MnwXeClzQv5AkSdLAtVqtrl9zc3MXzs3N/Ze24bsaLLN9bm6uVb+2N5m/l9hG9WU+o/0yn2br7KYN+7mO9muScjGf3l699gAcAfxz2/BDEbHs6YTM3J6ZU/Vre4NtbOsxtlFlPqPNfDrooQ0PJI4hm6R8JikXMJ+u9VoA/Asw076ezHywD/FIkqQV0GsB8BXgRQAR8Uzg632LSJIkDVyvNwK6HNgYEdcBU8Cp/QvpYb8+gHUOk/mMNvMZjFGJo18mKZ9JygXMp2tTrVZr0NuQJEkjxhsBSZJUIAsASZIKZAEgSVKBLAAkSSqQBYAkSQWyAJAkqUC93gdgYCbhSYMRsQq4GFgHrAHeCXwD2Am0gFuAMzJz35BC7FpEHA3cCGwEHmSMcwGIiHOA/wtYTfV9u4YxzKn+rn2c6rv2EPA6hvz3sQ2Prklqx5PShmF47XgUewAm4UmDm4HvZuZ64CTgd4ELgXPrcVPApiHG15X6y/lh4L561NjmAhARG4BnAc8GTgCeyPjm9CLgsMx8FvAbwLsYfi624RE0Se14wtowDKkdj2IB8HPA5wEy878D/2m44fTkMuC8tuEHgeOpKlSAK4ATVzqog/A+4EPA3fXwOOcC8AKq21dfDnwW+G+Mb053AIfVR91HAP+L4ediGx5Nk9SOJ6kNw5Da8SgWAF0/aXDUZOa/ZuaeiJgBdgHnAlOZuXjbxT3AkUMLsAsRcQqwkJl/2jZ6LHNp86NU/5ReBbwB+CTVA63GMad/peo2vB3YAfwOw//72IZHzAS240lqwzCkdjyKBcBEPGkwIp4IXAVcmpmfAtrP3cwA9w4lsO5toXruw9XAscAlwNFt08cpl0XfBf40M7+fmQnczyMb1zjldBZVLnNU59w/TnVOdNEwcrENj55Ja8eT1IZhSO14FAuAsX/SYEQ8FvgC8JbMvLgefVN93gqqc4rXDiO2bmXmczLzhMzcAOwGXgtcMY65tPlz4IURMRURa4F/B3xxTHP6Hj842v4nYBXD/67ZhkfMBLbjSWrDMKR2PHIPA2q7gvip1E8azMzbhxtVdyLiA8B/purOWTRP1a2zGrgNeF1mPjSE8HpWHz28gepIaAfjnct7gOdSFcFvA/6OMcwpIh5FdbX646hi/wDwFwwxF9vwaJuUdjwpbRiG145HrgCQJEmDN4qnACRJ0oBZAEiSVCALAEmSCmQBIElSgSwAJEkqkAWAlhURPxURrYj4hWHHIql7tmEtxQJAnWyhui/664cdiKSe2IZ1QN4HQEuqnx72LWA9cB3wjMz8m/ruVP8v1QNSvgo8OTM3RMRPAP8f8BhgL/B/Z+ZNQwlekm1Yy7IHQMt5MfDNzLwD+CPg9HqHcinwmsw8juqpVYs+Drw5M58GnA78/ysdsKRHsA1rSRYAWs6pwO/X7/+gHj4OuCczv1aPvxgevpXl04GPRcRu4FPAoyLiMSsbsqQ2tmEtaawe0amVExFHUz2A4viImKe6p/tR9bgDFY6HAvdn5rFt63gC1YMtJK0w27A6sQdAS/ll4IuZ+YTMXJeZTwLeBbwAOCoinlLP92qglZn/DPxVRGwGiIiNwJeHEbgkwDasDuwB0FJOoXrCVruLgDcDzwcuiYh9QAL31dNfA3woIt4MfB/4z5npVabScJyCbVjL8FcA6kr9qNffBH49M/8tIt4EPD4zzx5yaJIasA1rkacA1JXM3Ed1TvCG+kKh5wDnDzcqSU3ZhrXIHgBJkgpkD4AkSQWyAJAkqUAWAJIkFcgCQJKkAlkASJJUoP8NsVxs85OPvrAAAAAASUVORK5CYII\u003d\n"
          },
          "metadata": {
            "needs_background": "light"
          },
          "output_type": "display_data"
        }
      ],
      "source": [
        "# grid \u003d sns.FacetGrid(train_df, col\u003d\u0027Pclass\u0027, hue\u003d\u0027Survived\u0027)\n",
        "grid \u003d sns.FacetGrid(train_df, col\u003d\u0027Survived\u0027, row\u003d\u0027Pclass\u0027, size\u003d2.2, aspect\u003d1.6)\n",
        "grid.map(plt.hist, \u0027Age\u0027, alpha\u003d.5, bins\u003d20)\n",
        "grid.add_legend();"
      ]
    },
    {
      "cell_type": "markdown",
      "metadata": {
        "_cell_guid": "36f5a7c0-c55c-f76f-fdf8-945a32a68cb0",
        "_uuid": "892ab7ee88b1b1c5f1ac987884fa31e111bb0507",
        "pycharm": {}
      },
      "source": [
        "### Correlating categorical features\n",
        "\n",
        "Now we can correlate categorical features with our solution goal.\n",
        "\n",
        "**Observations.**\n",
        "\n",
        "- Female passengers had much better survival rate than males. Confirms classifying (#1).\n",
        "- Exception in Embarked\u003dC where males had higher survival rate. This could be a correlation between Pclass and Embarked and in turn Pclass and Survived, not necessarily direct correlation between Embarked and Survived.\n",
        "- Males had better survival rate in Pclass\u003d3 when compared with Pclass\u003d2 for C and Q ports. Completing (#2).\n",
        "- Ports of embarkation have varying survival rates for Pclass\u003d3 and among male passengers. Correlating (#1).\n",
        "\n",
        "**Decisions.**\n",
        "\n",
        "- Add Sex feature to model training.\n",
        "- Complete and add Embarked feature to model training."
      ]
    },
    {
      "cell_type": "code",
      "execution_count": 18,
      "metadata": {
        "_cell_guid": "db57aabd-0e26-9ff9-9ebd-56d401cdf6e8",
        "_uuid": "c0e1f01b3f58e8f31b938b0e5eb1733132edc8ad",
        "pycharm": {
          "is_executing": false
        }
      },
      "outputs": [
        {
          "name": "stderr",
          "text": [
            "c:\\users\\fengzhiheng\\anaconda3\\envs\\unet\\lib\\site-packages\\seaborn\\axisgrid.py:243: UserWarning: The `size` parameter has been renamed to `height`; please update your code.\n  warnings.warn(msg, UserWarning)\nc:\\users\\fengzhiheng\\anaconda3\\envs\\unet\\lib\\site-packages\\seaborn\\axisgrid.py:728: UserWarning: Using the pointplot function without specifying `order` is likely to produce an incorrect plot.\n  warnings.warn(warning)\nc:\\users\\fengzhiheng\\anaconda3\\envs\\unet\\lib\\site-packages\\seaborn\\axisgrid.py:733: UserWarning: Using the pointplot function without specifying `hue_order` is likely to produce an incorrect plot.\n  warnings.warn(warning)\n"
          ],
          "output_type": "stream"
        },
        {
          "data": {
            "text/plain": "\u003cseaborn.axisgrid.FacetGrid at 0x204d74c0978\u003e"
          },
          "metadata": {},
          "output_type": "execute_result",
          "execution_count": 18
        },
        {
          "data": {
            "text/plain": "\u003cFigure size 319.565x475.2 with 3 Axes\u003e",
            "image/png": "[encoded data removed]"
          },
          "metadata": {
            "needs_background": "light"
          },
          "output_type": "display_data"
        }
      ],
      "source": [
        "# grid \u003d sns.FacetGrid(train_df, col\u003d\u0027Embarked\u0027)\n",
        "grid \u003d sns.FacetGrid(train_df, row\u003d\u0027Embarked\u0027, size\u003d2.2, aspect\u003d1.6)\n",
        "grid.map(sns.pointplot, \u0027Pclass\u0027, \u0027Survived\u0027, \u0027Sex\u0027, palette\u003d\u0027deep\u0027)\n",
        "grid.add_legend()"
      ]
    },
    {
      "cell_type": "markdown",
      "metadata": {
        "_cell_guid": "6b3f73f4-4600-c1ce-34e0-bd7d9eeb074a",
        "_uuid": "fd824f937dcb80edd4117a2927cc0d7f99d934b8",
        "pycharm": {}
      },
      "source": [
        "### Correlating categorical and numerical features\n",
        "\n",
        "We may also want to correlate categorical features (with non-numeric values) and numeric features. We can consider correlating Embarked (Categorical non-numeric), Sex (Categorical non-numeric), Fare (Numeric continuous), with Survived (Categorical numeric).\n",
        "\n",
        "**Observations.**\n",
        "\n",
        "- Higher fare paying passengers had better survival. Confirms our assumption for creating (#4) fare ranges.\n",
        "- Port of embarkation correlates with survival rates. Confirms correlating (#1) and completing (#2).\n",
        "\n",
        "**Decisions.**\n",
        "\n",
        "- Consider banding Fare feature."
      ]
    },
    {
      "cell_type": "code",
      "execution_count": 19,
      "metadata": {
        "_cell_guid": "a21f66ac-c30d-f429-cc64-1da5460d16a9",
        "_uuid": "c8fd535ac1bc90127369027c2101dbc939db118e",
        "pycharm": {
          "is_executing": false
        }
      },
      "outputs": [
        {
          "name": "stderr",
          "text": [
            "c:\\users\\fengzhiheng\\anaconda3\\envs\\unet\\lib\\site-packages\\seaborn\\axisgrid.py:243: UserWarning: The `size` parameter has been renamed to `height`; please update your code.\n  warnings.warn(msg, UserWarning)\n",
            "c:\\users\\fengzhiheng\\anaconda3\\envs\\unet\\lib\\site-packages\\seaborn\\axisgrid.py:728: UserWarning: Using the barplot function without specifying `order` is likely to produce an incorrect plot.\n  warnings.warn(warning)\n"
          ],
          "output_type": "stream"
        },
        {
          "data": {
            "text/plain": "\u003cseaborn.axisgrid.FacetGrid at 0x204d86501d0\u003e"
          },
          "metadata": {},
          "output_type": "execute_result",
          "execution_count": 19
        },
        {
          "data": {
            "text/plain": "\u003cFigure size 514.88x475.2 with 6 Axes\u003e",
            "image/png": "[encoded data removed]"
          },
          "metadata": {
            "needs_background": "light"
          },
          "output_type": "display_data"
        }
      ],
      "source": [
        "# grid \u003d sns.FacetGrid(train_df, col\u003d\u0027Embarked\u0027, hue\u003d\u0027Survived\u0027, palette\u003d{0: \u0027k\u0027, 1: \u0027w\u0027})\n",
        "grid \u003d sns.FacetGrid(train_df, row\u003d\u0027Embarked\u0027, col\u003d\u0027Survived\u0027, size\u003d2.2, aspect\u003d1.6)\n",
        "grid.map(sns.barplot, \u0027Sex\u0027, \u0027Fare\u0027, alpha\u003d.5, ci\u003dNone)\n",
        "grid.add_legend()"
      ]
    },
    {
      "cell_type": "markdown",
      "metadata": {
        "_cell_guid": "cfac6291-33cc-506e-e548-6cad9408623d",
        "_uuid": "73a9111a8dc2a6b8b6c78ef628b6cae2a63fc33f",
        "pycharm": {}
      },
      "source": [
        "## Wrangle data\n",
        "\n",
        "We have collected several assumptions and decisions regarding our datasets and solution requirements. So far we did not have to change a single feature or value to arrive at these. Let us now execute our decisions and assumptions for correcting, creating, and completing goals.\n",
        "\n",
        "### Correcting by dropping features\n",
        "\n",
        "This is a good starting goal to execute. By dropping features we are dealing with fewer data points. Speeds up our notebook and eases the analysis.\n",
        "\n",
        "Based on our assumptions and decisions we want to drop the Cabin (correcting #2) and Ticket (correcting #1) features.\n",
        "\n",
        "Note that where applicable we perform operations on both training and testing datasets together to stay consistent."
      ]
    },
    {
      "cell_type": "code",
      "execution_count": 20,
      "metadata": {
        "_cell_guid": "da057efe-88f0-bf49-917b-bb2fec418ed9",
        "_uuid": "e328d9882affedcfc4c167aa5bb1ac132547558c",
        "pycharm": {
          "is_executing": false
        }
      },
      "outputs": [
        {
          "name": "stdout",
          "text": [
            "Before (891, 12) (418, 11) (891, 12) (418, 11)\n"
          ],
          "output_type": "stream"
        },
        {
          "data": {
            "text/plain": "(\u0027After\u0027, (891, 10), (418, 9), (891, 10), (418, 9))"
          },
          "metadata": {},
          "output_type": "execute_result",
          "execution_count": 20
        }
      ],
      "source": [
        "print(\"Before\", train_df.shape, test_df.shape, combine[0].shape, combine[1].shape)\n",
        "\n",
        "train_df \u003d train_df.drop([\u0027Ticket\u0027, \u0027Cabin\u0027], axis\u003d1)\n",
        "test_df \u003d test_df.drop([\u0027Ticket\u0027, \u0027Cabin\u0027], axis\u003d1)\n",
        "combine \u003d [train_df, test_df]\n",
        "\n",
        "\"After\", train_df.shape, test_df.shape, combine[0].shape, combine[1].shape"
      ]
    },
    {
      "cell_type": "markdown",
      "metadata": {
        "_cell_guid": "6b3a1216-64b6-7fe2-50bc-e89cc964a41c",
        "_uuid": "21d5c47ee69f8fbef967f6f41d736b5d4eb6596f",
        "pycharm": {}
      },
      "source": [
        "### Creating new feature extracting from existing\n",
        "\n",
        "We want to analyze if Name feature can be engineered to extract titles and test correlation between titles and survival, before dropping Name and PassengerId features.\n",
        "\n",
        "In the following code we extract Title feature using regular expressions. The RegEx pattern `(\\w+\\.)` matches the first word which ends with a dot character within Name feature. The `expand\u003dFalse` flag returns a DataFrame.\n",
        "\n",
        "**Observations.**\n",
        "\n",
        "When we plot Title, Age, and Survived, we note the following observations.\n",
        "\n",
        "- Most titles band Age groups accurately. For example: Master title has Age mean of 5 years.\n",
        "- Survival among Title Age bands varies slightly.\n",
        "- Certain titles mostly survived (Mme, Lady, Sir) or did not (Don, Rev, Jonkheer).\n",
        "\n",
        "**Decision.**\n",
        "\n",
        "- We decide to retain the new Title feature for model training."
      ]
    },
    {
      "cell_type": "code",
      "execution_count": 21,
      "metadata": {
        "_cell_guid": "df7f0cd4-992c-4a79-fb19-bf6f0c024d4b",
        "_uuid": "c916644bd151f3dc8fca900f656d415b4c55e2bc",
        "pycharm": {
          "is_executing": false
        }
      },
      "outputs": [
        {
          "data": {
            "text/plain": "Sex       female  male\nTitle                 \nCapt           0     1\nCol            0     2\nCountess       1     0\nDon            0     1\nDr             1     6\nJonkheer       0     1\nLady           1     0\nMajor          0     2\nMaster         0    40\nMiss         182     0\nMlle           2     0\nMme            1     0\nMr             0   517\nMrs          125     0\nMs             1     0\nRev            0     6\nSir            0     1",
            "text/html": "\u003cdiv\u003e\n\u003cstyle scoped\u003e\n    .dataframe tbody tr th:only-of-type {\n        vertical-align: middle;\n    }\n\n    .dataframe tbody tr th {\n        vertical-align: top;\n    }\n\n    .dataframe thead th {\n        text-align: right;\n    }\n\u003c/style\u003e\n\u003ctable border\u003d\"1\" class\u003d\"dataframe\"\u003e\n  \u003cthead\u003e\n    \u003ctr style\u003d\"text-align: right;\"\u003e\n      \u003cth\u003eSex\u003c/th\u003e\n      \u003cth\u003efemale\u003c/th\u003e\n      \u003cth\u003emale\u003c/th\u003e\n    \u003c/tr\u003e\n    \u003ctr\u003e\n      \u003cth\u003eTitle\u003c/th\u003e\n      \u003cth\u003e\u003c/th\u003e\n      \u003cth\u003e\u003c/th\u003e\n    \u003c/tr\u003e\n  \u003c/thead\u003e\n  \u003ctbody\u003e\n    \u003ctr\u003e\n      \u003cth\u003eCapt\u003c/th\u003e\n      \u003ctd\u003e0\u003c/td\u003e\n      \u003ctd\u003e1\u003c/td\u003e\n    \u003c/tr\u003e\n    \u003ctr\u003e\n      \u003cth\u003eCol\u003c/th\u003e\n      \u003ctd\u003e0\u003c/td\u003e\n      \u003ctd\u003e2\u003c/td\u003e\n    \u003c/tr\u003e\n    \u003ctr\u003e\n      \u003cth\u003eCountess\u003c/th\u003e\n      \u003ctd\u003e1\u003c/td\u003e\n      \u003ctd\u003e0\u003c/td\u003e\n    \u003c/tr\u003e\n    \u003ctr\u003e\n      \u003cth\u003eDon\u003c/th\u003e\n      \u003ctd\u003e0\u003c/td\u003e\n      \u003ctd\u003e1\u003c/td\u003e\n    \u003c/tr\u003e\n    \u003ctr\u003e\n      \u003cth\u003eDr\u003c/th\u003e\n      \u003ctd\u003e1\u003c/td\u003e\n      \u003ctd\u003e6\u003c/td\u003e\n    \u003c/tr\u003e\n    \u003ctr\u003e\n      \u003cth\u003eJonkheer\u003c/th\u003e\n      \u003ctd\u003e0\u003c/td\u003e\n      \u003ctd\u003e1\u003c/td\u003e\n    \u003c/tr\u003e\n    \u003ctr\u003e\n      \u003cth\u003eLady\u003c/th\u003e\n      \u003ctd\u003e1\u003c/td\u003e\n      \u003ctd\u003e0\u003c/td\u003e\n    \u003c/tr\u003e\n    \u003ctr\u003e\n      \u003cth\u003eMajor\u003c/th\u003e\n      \u003ctd\u003e0\u003c/td\u003e\n      \u003ctd\u003e2\u003c/td\u003e\n    \u003c/tr\u003e\n    \u003ctr\u003e\n      \u003cth\u003eMaster\u003c/th\u003e\n      \u003ctd\u003e0\u003c/td\u003e\n      \u003ctd\u003e40\u003c/td\u003e\n    \u003c/tr\u003e\n    \u003ctr\u003e\n      \u003cth\u003eMiss\u003c/th\u003e\n      \u003ctd\u003e182\u003c/td\u003e\n      \u003ctd\u003e0\u003c/td\u003e\n    \u003c/tr\u003e\n    \u003ctr\u003e\n      \u003cth\u003eMlle\u003c/th\u003e\n      \u003ctd\u003e2\u003c/td\u003e\n      \u003ctd\u003e0\u003c/td\u003e\n    \u003c/tr\u003e\n    \u003ctr\u003e\n      \u003cth\u003eMme\u003c/th\u003e\n      \u003ctd\u003e1\u003c/td\u003e\n      \u003ctd\u003e0\u003c/td\u003e\n    \u003c/tr\u003e\n    \u003ctr\u003e\n      \u003cth\u003eMr\u003c/th\u003e\n      \u003ctd\u003e0\u003c/td\u003e\n      \u003ctd\u003e517\u003c/td\u003e\n    \u003c/tr\u003e\n    \u003ctr\u003e\n      \u003cth\u003eMrs\u003c/th\u003e\n      \u003ctd\u003e125\u003c/td\u003e\n      \u003ctd\u003e0\u003c/td\u003e\n    \u003c/tr\u003e\n    \u003ctr\u003e\n      \u003cth\u003eMs\u003c/th\u003e\n      \u003ctd\u003e1\u003c/td\u003e\n      \u003ctd\u003e0\u003c/td\u003e\n    \u003c/tr\u003e\n    \u003ctr\u003e\n      \u003cth\u003eRev\u003c/th\u003e\n      \u003ctd\u003e0\u003c/td\u003e\n      \u003ctd\u003e6\u003c/td\u003e\n    \u003c/tr\u003e\n    \u003ctr\u003e\n      \u003cth\u003eSir\u003c/th\u003e\n      \u003ctd\u003e0\u003c/td\u003e\n      \u003ctd\u003e1\u003c/td\u003e\n    \u003c/tr\u003e\n  \u003c/tbody\u003e\n\u003c/table\u003e\n\u003c/div\u003e"
          },
          "metadata": {},
          "output_type": "execute_result",
          "execution_count": 21
        }
      ],
      "source": [
        "for dataset in combine:\n",
        "    dataset[\u0027Title\u0027] \u003d dataset.Name.str.extract(\u0027 ([A-Za-z]+)\\.\u0027, expand\u003dFalse)\n",
        "\n",
        "pd.crosstab(train_df[\u0027Title\u0027], train_df[\u0027Sex\u0027])"
      ]
    },
    {
      "cell_type": "markdown",
      "metadata": {
        "_cell_guid": "908c08a6-3395-19a5-0cd7-13341054012a",
        "_uuid": "f766d512ea5bfe60b5eb7a816f482f2ab688fd2f",
        "pycharm": {}
      },
      "source": [
        "We can replace many titles with a more common name or classify them as `Rare`."
      ]
    },
    {
      "cell_type": "code",
      "execution_count": 22,
      "metadata": {
        "_cell_guid": "553f56d7-002a-ee63-21a4-c0efad10cfe9",
        "_uuid": "b8cd938fba61fb4e226c77521b012f4bb8aa01d0",
        "pycharm": {
          "is_executing": false
        }
      },
      "outputs": [
        {
          "data": {
            "text/plain": "    Title  Survived\n0  Master  0.575000\n1    Miss  0.702703\n2      Mr  0.156673\n3     Mrs  0.793651\n4    Rare  0.347826",
            "text/html": "\u003cdiv\u003e\n\u003cstyle scoped\u003e\n    .dataframe tbody tr th:only-of-type {\n        vertical-align: middle;\n    }\n\n    .dataframe tbody tr th {\n        vertical-align: top;\n    }\n\n    .dataframe thead th {\n        text-align: right;\n    }\n\u003c/style\u003e\n\u003ctable border\u003d\"1\" class\u003d\"dataframe\"\u003e\n  \u003cthead\u003e\n    \u003ctr style\u003d\"text-align: right;\"\u003e\n      \u003cth\u003e\u003c/th\u003e\n      \u003cth\u003eTitle\u003c/th\u003e\n      \u003cth\u003eSurvived\u003c/th\u003e\n    \u003c/tr\u003e\n  \u003c/thead\u003e\n  \u003ctbody\u003e\n    \u003ctr\u003e\n      \u003cth\u003e0\u003c/th\u003e\n      \u003ctd\u003eMaster\u003c/td\u003e\n      \u003ctd\u003e0.575000\u003c/td\u003e\n    \u003c/tr\u003e\n    \u003ctr\u003e\n      \u003cth\u003e1\u003c/th\u003e\n      \u003ctd\u003eMiss\u003c/td\u003e\n      \u003ctd\u003e0.702703\u003c/td\u003e\n    \u003c/tr\u003e\n    \u003ctr\u003e\n      \u003cth\u003e2\u003c/th\u003e\n      \u003ctd\u003eMr\u003c/td\u003e\n      \u003ctd\u003e0.156673\u003c/td\u003e\n    \u003c/tr\u003e\n    \u003ctr\u003e\n      \u003cth\u003e3\u003c/th\u003e\n      \u003ctd\u003eMrs\u003c/td\u003e\n      \u003ctd\u003e0.793651\u003c/td\u003e\n    \u003c/tr\u003e\n    \u003ctr\u003e\n      \u003cth\u003e4\u003c/th\u003e\n      \u003ctd\u003eRare\u003c/td\u003e\n      \u003ctd\u003e0.347826\u003c/td\u003e\n    \u003c/tr\u003e\n  \u003c/tbody\u003e\n\u003c/table\u003e\n\u003c/div\u003e"
          },
          "metadata": {},
          "output_type": "execute_result",
          "execution_count": 22
        }
      ],
      "source": [
        "for dataset in combine:\n",
        "    dataset[\u0027Title\u0027] \u003d dataset[\u0027Title\u0027].replace([\u0027Lady\u0027, \u0027Countess\u0027,\u0027Capt\u0027, \u0027Col\u0027,\\\n",
        " \t\u0027Don\u0027, \u0027Dr\u0027, \u0027Major\u0027, \u0027Rev\u0027, \u0027Sir\u0027, \u0027Jonkheer\u0027, \u0027Dona\u0027], \u0027Rare\u0027)\n",
        "\n",
        "    dataset[\u0027Title\u0027] \u003d dataset[\u0027Title\u0027].replace(\u0027Mlle\u0027, \u0027Miss\u0027)\n",
        "    dataset[\u0027Title\u0027] \u003d dataset[\u0027Title\u0027].replace(\u0027Ms\u0027, \u0027Miss\u0027)\n",
        "    dataset[\u0027Title\u0027] \u003d dataset[\u0027Title\u0027].replace(\u0027Mme\u0027, \u0027Mrs\u0027)\n",
        "    \n",
        "train_df[[\u0027Title\u0027, \u0027Survived\u0027]].groupby([\u0027Title\u0027], as_index\u003dFalse).mean()"
      ]
    },
    {
      "cell_type": "markdown",
      "metadata": {
        "_cell_guid": "6d46be9a-812a-f334-73b9-56ed912c9eca",
        "_uuid": "de245fe76474d46995a5acc31b905b8aaa5893f6",
        "pycharm": {}
      },
      "source": [
        "We can convert the categorical titles to ordinal."
      ]
    },
    {
      "cell_type": "code",
      "execution_count": 23,
      "metadata": {
        "_cell_guid": "67444ebc-4d11-bac1-74a6-059133b6e2e8",
        "_uuid": "e805ad52f0514497b67c3726104ba46d361eb92c",
        "pycharm": {
          "is_executing": false
        }
      },
      "outputs": [
        {
          "data": {
            "text/plain": "   PassengerId  Survived  Pclass  \\\n0            1         0       3   \n1            2         1       1   \n2            3         1       3   \n3            4         1       1   \n4            5         0       3   \n\n                                                Name     Sex   Age  SibSp  \\\n0                            Braund, Mr. Owen Harris    male  22.0      1   \n1  Cumings, Mrs. John Bradley (Florence Briggs Th...  female  38.0      1   \n2                             Heikkinen, Miss. Laina  female  26.0      0   \n3       Futrelle, Mrs. Jacques Heath (Lily May Peel)  female  35.0      1   \n4                           Allen, Mr. William Henry    male  35.0      0   \n\n   Parch     Fare Embarked  Title  \n0      0   7.2500        S      1  \n1      0  71.2833        C      3  \n2      0   7.9250        S      2  \n3      0  53.1000        S      3  \n4      0   8.0500        S      1  ",
            "text/html": "\u003cdiv\u003e\n\u003cstyle scoped\u003e\n    .dataframe tbody tr th:only-of-type {\n        vertical-align: middle;\n    }\n\n    .dataframe tbody tr th {\n        vertical-align: top;\n    }\n\n    .dataframe thead th {\n        text-align: right;\n    }\n\u003c/style\u003e\n\u003ctable border\u003d\"1\" class\u003d\"dataframe\"\u003e\n  \u003cthead\u003e\n    \u003ctr style\u003d\"text-align: right;\"\u003e\n      \u003cth\u003e\u003c/th\u003e\n      \u003cth\u003ePassengerId\u003c/th\u003e\n      \u003cth\u003eSurvived\u003c/th\u003e\n      \u003cth\u003ePclass\u003c/th\u003e\n      \u003cth\u003eName\u003c/th\u003e\n      \u003cth\u003eSex\u003c/th\u003e\n      \u003cth\u003eAge\u003c/th\u003e\n      \u003cth\u003eSibSp\u003c/th\u003e\n      \u003cth\u003eParch\u003c/th\u003e\n      \u003cth\u003eFare\u003c/th\u003e\n      \u003cth\u003eEmbarked\u003c/th\u003e\n      \u003cth\u003eTitle\u003c/th\u003e\n    \u003c/tr\u003e\n  \u003c/thead\u003e\n  \u003ctbody\u003e\n    \u003ctr\u003e\n      \u003cth\u003e0\u003c/th\u003e\n      \u003ctd\u003e1\u003c/td\u003e\n      \u003ctd\u003e0\u003c/td\u003e\n      \u003ctd\u003e3\u003c/td\u003e\n      \u003ctd\u003eBraund, Mr. Owen Harris\u003c/td\u003e\n      \u003ctd\u003emale\u003c/td\u003e\n      \u003ctd\u003e22.0\u003c/td\u003e\n      \u003ctd\u003e1\u003c/td\u003e\n      \u003ctd\u003e0\u003c/td\u003e\n      \u003ctd\u003e7.2500\u003c/td\u003e\n      \u003ctd\u003eS\u003c/td\u003e\n      \u003ctd\u003e1\u003c/td\u003e\n    \u003c/tr\u003e\n    \u003ctr\u003e\n      \u003cth\u003e1\u003c/th\u003e\n      \u003ctd\u003e2\u003c/td\u003e\n      \u003ctd\u003e1\u003c/td\u003e\n      \u003ctd\u003e1\u003c/td\u003e\n      \u003ctd\u003eCumings, Mrs. John Bradley (Florence Briggs Th...\u003c/td\u003e\n      \u003ctd\u003efemale\u003c/td\u003e\n      \u003ctd\u003e38.0\u003c/td\u003e\n      \u003ctd\u003e1\u003c/td\u003e\n      \u003ctd\u003e0\u003c/td\u003e\n      \u003ctd\u003e71.2833\u003c/td\u003e\n      \u003ctd\u003eC\u003c/td\u003e\n      \u003ctd\u003e3\u003c/td\u003e\n    \u003c/tr\u003e\n    \u003ctr\u003e\n      \u003cth\u003e2\u003c/th\u003e\n      \u003ctd\u003e3\u003c/td\u003e\n      \u003ctd\u003e1\u003c/td\u003e\n      \u003ctd\u003e3\u003c/td\u003e\n      \u003ctd\u003eHeikkinen, Miss. Laina\u003c/td\u003e\n      \u003ctd\u003efemale\u003c/td\u003e\n      \u003ctd\u003e26.0\u003c/td\u003e\n      \u003ctd\u003e0\u003c/td\u003e\n      \u003ctd\u003e0\u003c/td\u003e\n      \u003ctd\u003e7.9250\u003c/td\u003e\n      \u003ctd\u003eS\u003c/td\u003e\n      \u003ctd\u003e2\u003c/td\u003e\n    \u003c/tr\u003e\n    \u003ctr\u003e\n      \u003cth\u003e3\u003c/th\u003e\n      \u003ctd\u003e4\u003c/td\u003e\n      \u003ctd\u003e1\u003c/td\u003e\n      \u003ctd\u003e1\u003c/td\u003e\n      \u003ctd\u003eFutrelle, Mrs. Jacques Heath (Lily May Peel)\u003c/td\u003e\n      \u003ctd\u003efemale\u003c/td\u003e\n      \u003ctd\u003e35.0\u003c/td\u003e\n      \u003ctd\u003e1\u003c/td\u003e\n      \u003ctd\u003e0\u003c/td\u003e\n      \u003ctd\u003e53.1000\u003c/td\u003e\n      \u003ctd\u003eS\u003c/td\u003e\n      \u003ctd\u003e3\u003c/td\u003e\n    \u003c/tr\u003e\n    \u003ctr\u003e\n      \u003cth\u003e4\u003c/th\u003e\n      \u003ctd\u003e5\u003c/td\u003e\n      \u003ctd\u003e0\u003c/td\u003e\n      \u003ctd\u003e3\u003c/td\u003e\n      \u003ctd\u003eAllen, Mr. William Henry\u003c/td\u003e\n      \u003ctd\u003emale\u003c/td\u003e\n      \u003ctd\u003e35.0\u003c/td\u003e\n      \u003ctd\u003e0\u003c/td\u003e\n      \u003ctd\u003e0\u003c/td\u003e\n      \u003ctd\u003e8.0500\u003c/td\u003e\n      \u003ctd\u003eS\u003c/td\u003e\n      \u003ctd\u003e1\u003c/td\u003e\n    \u003c/tr\u003e\n  \u003c/tbody\u003e\n\u003c/table\u003e\n\u003c/div\u003e"
          },
          "metadata": {},
          "output_type": "execute_result",
          "execution_count": 23
        }
      ],
      "source": [
        "title_mapping \u003d {\"Mr\": 1, \"Miss\": 2, \"Mrs\": 3, \"Master\": 4, \"Rare\": 5}\n",
        "for dataset in combine:\n",
        "    dataset[\u0027Title\u0027] \u003d dataset[\u0027Title\u0027].map(title_mapping)\n",
        "    dataset[\u0027Title\u0027] \u003d dataset[\u0027Title\u0027].fillna(0)\n",
        "\n",
        "train_df.head()"
      ]
    },
    {
      "cell_type": "markdown",
      "metadata": {
        "_cell_guid": "f27bb974-a3d7-07a1-f7e4-876f6da87e62",
        "_uuid": "5fefaa1b37c537dda164c87a757fe705a99815d9",
        "pycharm": {}
      },
      "source": [
        "Now we can safely drop the Name feature from training and testing datasets. We also do not need the PassengerId feature in the training dataset."
      ]
    },
    {
      "cell_type": "code",
      "execution_count": 24,
      "metadata": {
        "_cell_guid": "9d61dded-5ff0-5018-7580-aecb4ea17506",
        "_uuid": "1da299cf2ffd399fd5b37d74fb40665d16ba5347",
        "pycharm": {
          "is_executing": false
        }
      },
      "outputs": [
        {
          "data": {
            "text/plain": "((891, 9), (418, 9))"
          },
          "metadata": {},
          "output_type": "execute_result",
          "execution_count": 24
        }
      ],
      "source": [
        "train_df \u003d train_df.drop([\u0027Name\u0027, \u0027PassengerId\u0027], axis\u003d1)\n",
        "test_df \u003d test_df.drop([\u0027Name\u0027], axis\u003d1)\n",
        "combine \u003d [train_df, test_df]\n",
        "train_df.shape, test_df.shape"
      ]
    },
    {
      "cell_type": "markdown",
      "metadata": {
        "_cell_guid": "2c8e84bb-196d-bd4a-4df9-f5213561b5d3",
        "_uuid": "a1ac66c79b279d94860e66996d3d8dba801a6d9a",
        "pycharm": {}
      },
      "source": [
        "### Converting a categorical feature\n",
        "\n",
        "Now we can convert features which contain strings to numerical values. This is required by most model algorithms. Doing so will also help us in achieving the feature completing goal.\n",
        "\n",
        "Let us start by converting Sex feature to a new feature called Gender where female\u003d1 and male\u003d0."
      ]
    },
    {
      "cell_type": "code",
      "execution_count": 25,
      "metadata": {
        "_cell_guid": "c20c1df2-157c-e5a0-3e24-15a828095c96",
        "_uuid": "840498eaee7baaca228499b0a5652da9d4edaf37",
        "pycharm": {
          "is_executing": false
        }
      },
      "outputs": [
        {
          "data": {
            "text/plain": "   Survived  Pclass  Sex   Age  SibSp  Parch     Fare Embarked  Title\n0         0       3    0  22.0      1      0   7.2500        S      1\n1         1       1    1  38.0      1      0  71.2833        C      3\n2         1       3    1  26.0      0      0   7.9250        S      2\n3         1       1    1  35.0      1      0  53.1000        S      3\n4         0       3    0  35.0      0      0   8.0500        S      1",
            "text/html": "\u003cdiv\u003e\n\u003cstyle scoped\u003e\n    .dataframe tbody tr th:only-of-type {\n        vertical-align: middle;\n    }\n\n    .dataframe tbody tr th {\n        vertical-align: top;\n    }\n\n    .dataframe thead th {\n        text-align: right;\n    }\n\u003c/style\u003e\n\u003ctable border\u003d\"1\" class\u003d\"dataframe\"\u003e\n  \u003cthead\u003e\n    \u003ctr style\u003d\"text-align: right;\"\u003e\n      \u003cth\u003e\u003c/th\u003e\n      \u003cth\u003eSurvived\u003c/th\u003e\n      \u003cth\u003ePclass\u003c/th\u003e\n      \u003cth\u003eSex\u003c/th\u003e\n      \u003cth\u003eAge\u003c/th\u003e\n      \u003cth\u003eSibSp\u003c/th\u003e\n      \u003cth\u003eParch\u003c/th\u003e\n      \u003cth\u003eFare\u003c/th\u003e\n      \u003cth\u003eEmbarked\u003c/th\u003e\n      \u003cth\u003eTitle\u003c/th\u003e\n    \u003c/tr\u003e\n  \u003c/thead\u003e\n  \u003ctbody\u003e\n    \u003ctr\u003e\n      \u003cth\u003e0\u003c/th\u003e\n      \u003ctd\u003e0\u003c/td\u003e\n      \u003ctd\u003e3\u003c/td\u003e\n      \u003ctd\u003e0\u003c/td\u003e\n      \u003ctd\u003e22.0\u003c/td\u003e\n      \u003ctd\u003e1\u003c/td\u003e\n      \u003ctd\u003e0\u003c/td\u003e\n      \u003ctd\u003e7.2500\u003c/td\u003e\n      \u003ctd\u003eS\u003c/td\u003e\n      \u003ctd\u003e1\u003c/td\u003e\n    \u003c/tr\u003e\n    \u003ctr\u003e\n      \u003cth\u003e1\u003c/th\u003e\n      \u003ctd\u003e1\u003c/td\u003e\n      \u003ctd\u003e1\u003c/td\u003e\n      \u003ctd\u003e1\u003c/td\u003e\n      \u003ctd\u003e38.0\u003c/td\u003e\n      \u003ctd\u003e1\u003c/td\u003e\n      \u003ctd\u003e0\u003c/td\u003e\n      \u003ctd\u003e71.2833\u003c/td\u003e\n      \u003ctd\u003eC\u003c/td\u003e\n      \u003ctd\u003e3\u003c/td\u003e\n    \u003c/tr\u003e\n    \u003ctr\u003e\n      \u003cth\u003e2\u003c/th\u003e\n      \u003ctd\u003e1\u003c/td\u003e\n      \u003ctd\u003e3\u003c/td\u003e\n      \u003ctd\u003e1\u003c/td\u003e\n      \u003ctd\u003e26.0\u003c/td\u003e\n      \u003ctd\u003e0\u003c/td\u003e\n      \u003ctd\u003e0\u003c/td\u003e\n      \u003ctd\u003e7.9250\u003c/td\u003e\n      \u003ctd\u003eS\u003c/td\u003e\n      \u003ctd\u003e2\u003c/td\u003e\n    \u003c/tr\u003e\n    \u003ctr\u003e\n      \u003cth\u003e3\u003c/th\u003e\n      \u003ctd\u003e1\u003c/td\u003e\n      \u003ctd\u003e1\u003c/td\u003e\n      \u003ctd\u003e1\u003c/td\u003e\n      \u003ctd\u003e35.0\u003c/td\u003e\n      \u003ctd\u003e1\u003c/td\u003e\n      \u003ctd\u003e0\u003c/td\u003e\n      \u003ctd\u003e53.1000\u003c/td\u003e\n      \u003ctd\u003eS\u003c/td\u003e\n      \u003ctd\u003e3\u003c/td\u003e\n    \u003c/tr\u003e\n    \u003ctr\u003e\n      \u003cth\u003e4\u003c/th\u003e\n      \u003ctd\u003e0\u003c/td\u003e\n      \u003ctd\u003e3\u003c/td\u003e\n      \u003ctd\u003e0\u003c/td\u003e\n      \u003ctd\u003e35.0\u003c/td\u003e\n      \u003ctd\u003e0\u003c/td\u003e\n      \u003ctd\u003e0\u003c/td\u003e\n      \u003ctd\u003e8.0500\u003c/td\u003e\n      \u003ctd\u003eS\u003c/td\u003e\n      \u003ctd\u003e1\u003c/td\u003e\n    \u003c/tr\u003e\n  \u003c/tbody\u003e\n\u003c/table\u003e\n\u003c/div\u003e"
          },
          "metadata": {},
          "output_type": "execute_result",
          "execution_count": 25
        }
      ],
      "source": [
        "for dataset in combine:\n",
        "    dataset[\u0027Sex\u0027] \u003d dataset[\u0027Sex\u0027].map( {\u0027female\u0027: 1, \u0027male\u0027: 0} ).astype(int)\n",
        "\n",
        "train_df.head()"
      ]
    },
    {
      "cell_type": "markdown",
      "metadata": {
        "_cell_guid": "d72cb29e-5034-1597-b459-83a9640d3d3a",
        "_uuid": "6da8bfe6c832f4bd2aa1312bdd6b8b4af48a012e",
        "pycharm": {}
      },
      "source": [
        "### Completing a numerical continuous feature\n",
        "\n",
        "Now we should start estimating and completing features with missing or null values. We will first do this for the Age feature.\n",
        "\n",
        "We can consider three methods to complete a numerical continuous feature.\n",
        "\n",
        "1. A simple way is to generate random numbers between mean and [standard deviation](https://en.wikipedia.org/wiki/Standard_deviation).\n",
        "\n",
        "2. More accurate way of guessing missing values is to use other correlated features. In our case we note correlation among Age, Gender, and Pclass. Guess Age values using [median](https://en.wikipedia.org/wiki/Median) values for Age across sets of Pclass and Gender feature combinations. So, median Age for Pclass\u003d1 and Gender\u003d0, Pclass\u003d1 and Gender\u003d1, and so on...\n",
        "\n",
        "3. Combine methods 1 and 2. So instead of guessing age values based on median, use random numbers between mean and standard deviation, based on sets of Pclass and Gender combinations.\n",
        "\n",
        "Method 1 and 3 will introduce random noise into our models. The results from multiple executions might vary. We will prefer method 2."
      ]
    },
    {
      "cell_type": "code",
      "execution_count": 26,
      "metadata": {
        "_cell_guid": "c311c43d-6554-3b52-8ef8-533ca08b2f68",
        "_uuid": "345038c8dd1bac9a9bc5e2cfee13fcc1f833eee0",
        "pycharm": {
          "is_executing": false
        }
      },
      "outputs": [
        {
          "name": "stderr",
          "text": [
            "c:\\users\\fengzhiheng\\anaconda3\\envs\\unet\\lib\\site-packages\\seaborn\\axisgrid.py:243: UserWarning: The `size` parameter has been renamed to `height`; please update your code.\n  warnings.warn(msg, UserWarning)\n"
          ],
          "output_type": "stream"
        },
        {
          "data": {
            "text/plain": "\u003cseaborn.axisgrid.FacetGrid at 0x204d889d9b0\u003e"
          },
          "metadata": {},
          "output_type": "execute_result",
          "execution_count": 26
        },
        {
          "data": {
            "text/plain": "\u003cFigure size 514.88x475.2 with 6 Axes\u003e",
            "image/png": "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\u003d\n"
          },
          "metadata": {
            "needs_background": "light"
          },
          "output_type": "display_data"
        }
      ],
      "source": [
        "# grid \u003d sns.FacetGrid(train_df, col\u003d\u0027Pclass\u0027, hue\u003d\u0027Gender\u0027)\n",
        "grid \u003d sns.FacetGrid(train_df, row\u003d\u0027Pclass\u0027, col\u003d\u0027Sex\u0027, size\u003d2.2, aspect\u003d1.6)\n",
        "grid.map(plt.hist, \u0027Age\u0027, alpha\u003d.5, bins\u003d20)\n",
        "grid.add_legend()"
      ]
    },
    {
      "cell_type": "markdown",
      "metadata": {
        "_cell_guid": "a4f166f9-f5f9-1819-66c3-d89dd5b0d8ff",
        "_uuid": "6b22ac53d95c7979d5f4580bd5fd29d27155c347",
        "pycharm": {}
      },
      "source": [
        "Let us start by preparing an empty array to contain guessed Age values based on Pclass x Gender combinations."
      ]
    },
    {
      "cell_type": "code",
      "execution_count": 27,
      "metadata": {
        "_cell_guid": "9299523c-dcf1-fb00-e52f-e2fb860a3920",
        "_uuid": "24a0971daa4cbc3aa700bae42e68c17ce9f3a6e2",
        "pycharm": {
          "is_executing": false
        }
      },
      "outputs": [
        {
          "data": {
            "text/plain": "array([[0., 0., 0.],\n       [0., 0., 0.]])"
          },
          "metadata": {},
          "output_type": "execute_result",
          "execution_count": 27
        }
      ],
      "source": [
        "guess_ages \u003d np.zeros((2,3))\n",
        "guess_ages"
      ]
    },
    {
      "cell_type": "markdown",
      "metadata": {
        "_cell_guid": "ec9fed37-16b1-5518-4fa8-0a7f579dbc82",
        "_uuid": "8acd90569767b544f055d573bbbb8f6012853385",
        "pycharm": {}
      },
      "source": [
        "Now we iterate over Sex (0 or 1) and Pclass (1, 2, 3) to calculate guessed values of Age for the six combinations."
      ]
    },
    {
      "cell_type": "code",
      "execution_count": 28,
      "metadata": {
        "_cell_guid": "a4015dfa-a0ab-65bc-0cbe-efecf1eb2569",
        "_uuid": "31198f0ad0dbbb74290ebe135abffa994b8f58f3",
        "pycharm": {
          "is_executing": false
        }
      },
      "outputs": [
        {
          "data": {
            "text/plain": "   Survived  Pclass  Sex  Age  SibSp  Parch     Fare Embarked  Title\n0         0       3    0   22      1      0   7.2500        S      1\n1         1       1    1   38      1      0  71.2833        C      3\n2         1       3    1   26      0      0   7.9250        S      2\n3         1       1    1   35      1      0  53.1000        S      3\n4         0       3    0   35      0      0   8.0500        S      1",
            "text/html": "\u003cdiv\u003e\n\u003cstyle scoped\u003e\n    .dataframe tbody tr th:only-of-type {\n        vertical-align: middle;\n    }\n\n    .dataframe tbody tr th {\n        vertical-align: top;\n    }\n\n    .dataframe thead th {\n        text-align: right;\n    }\n\u003c/style\u003e\n\u003ctable border\u003d\"1\" class\u003d\"dataframe\"\u003e\n  \u003cthead\u003e\n    \u003ctr style\u003d\"text-align: right;\"\u003e\n      \u003cth\u003e\u003c/th\u003e\n      \u003cth\u003eSurvived\u003c/th\u003e\n      \u003cth\u003ePclass\u003c/th\u003e\n      \u003cth\u003eSex\u003c/th\u003e\n      \u003cth\u003eAge\u003c/th\u003e\n      \u003cth\u003eSibSp\u003c/th\u003e\n      \u003cth\u003eParch\u003c/th\u003e\n      \u003cth\u003eFare\u003c/th\u003e\n      \u003cth\u003eEmbarked\u003c/th\u003e\n      \u003cth\u003eTitle\u003c/th\u003e\n    \u003c/tr\u003e\n  \u003c/thead\u003e\n  \u003ctbody\u003e\n    \u003ctr\u003e\n      \u003cth\u003e0\u003c/th\u003e\n      \u003ctd\u003e0\u003c/td\u003e\n      \u003ctd\u003e3\u003c/td\u003e\n      \u003ctd\u003e0\u003c/td\u003e\n      \u003ctd\u003e22\u003c/td\u003e\n      \u003ctd\u003e1\u003c/td\u003e\n      \u003ctd\u003e0\u003c/td\u003e\n      \u003ctd\u003e7.2500\u003c/td\u003e\n      \u003ctd\u003eS\u003c/td\u003e\n      \u003ctd\u003e1\u003c/td\u003e\n    \u003c/tr\u003e\n    \u003ctr\u003e\n      \u003cth\u003e1\u003c/th\u003e\n      \u003ctd\u003e1\u003c/td\u003e\n      \u003ctd\u003e1\u003c/td\u003e\n      \u003ctd\u003e1\u003c/td\u003e\n      \u003ctd\u003e38\u003c/td\u003e\n      \u003ctd\u003e1\u003c/td\u003e\n      \u003ctd\u003e0\u003c/td\u003e\n      \u003ctd\u003e71.2833\u003c/td\u003e\n      \u003ctd\u003eC\u003c/td\u003e\n      \u003ctd\u003e3\u003c/td\u003e\n    \u003c/tr\u003e\n    \u003ctr\u003e\n      \u003cth\u003e2\u003c/th\u003e\n      \u003ctd\u003e1\u003c/td\u003e\n      \u003ctd\u003e3\u003c/td\u003e\n      \u003ctd\u003e1\u003c/td\u003e\n      \u003ctd\u003e26\u003c/td\u003e\n      \u003ctd\u003e0\u003c/td\u003e\n      \u003ctd\u003e0\u003c/td\u003e\n      \u003ctd\u003e7.9250\u003c/td\u003e\n      \u003ctd\u003eS\u003c/td\u003e\n      \u003ctd\u003e2\u003c/td\u003e\n    \u003c/tr\u003e\n    \u003ctr\u003e\n      \u003cth\u003e3\u003c/th\u003e\n      \u003ctd\u003e1\u003c/td\u003e\n      \u003ctd\u003e1\u003c/td\u003e\n      \u003ctd\u003e1\u003c/td\u003e\n      \u003ctd\u003e35\u003c/td\u003e\n      \u003ctd\u003e1\u003c/td\u003e\n      \u003ctd\u003e0\u003c/td\u003e\n      \u003ctd\u003e53.1000\u003c/td\u003e\n      \u003ctd\u003eS\u003c/td\u003e\n      \u003ctd\u003e3\u003c/td\u003e\n    \u003c/tr\u003e\n    \u003ctr\u003e\n      \u003cth\u003e4\u003c/th\u003e\n      \u003ctd\u003e0\u003c/td\u003e\n      \u003ctd\u003e3\u003c/td\u003e\n      \u003ctd\u003e0\u003c/td\u003e\n      \u003ctd\u003e35\u003c/td\u003e\n      \u003ctd\u003e0\u003c/td\u003e\n      \u003ctd\u003e0\u003c/td\u003e\n      \u003ctd\u003e8.0500\u003c/td\u003e\n      \u003ctd\u003eS\u003c/td\u003e\n      \u003ctd\u003e1\u003c/td\u003e\n    \u003c/tr\u003e\n  \u003c/tbody\u003e\n\u003c/table\u003e\n\u003c/div\u003e"
          },
          "metadata": {},
          "output_type": "execute_result",
          "execution_count": 28
        }
      ],
      "source": [
        "for dataset in combine:\n",
        "    for i in range(0, 2):\n",
        "        for j in range(0, 3):\n",
        "            guess_df \u003d dataset[(dataset[\u0027Sex\u0027] \u003d\u003d i) \u0026 \\\n",
        "                                  (dataset[\u0027Pclass\u0027] \u003d\u003d j+1)][\u0027Age\u0027].dropna()\n",
        "\n",
        "            # age_mean \u003d guess_df.mean()\n",
        "            # age_std \u003d guess_df.std()\n",
        "            # age_guess \u003d rnd.uniform(age_mean - age_std, age_mean + age_std)\n",
        "\n",
        "            age_guess \u003d guess_df.median()\n",
        "\n",
        "            # Convert random age float to nearest .5 age\n",
        "            guess_ages[i,j] \u003d int( age_guess/0.5 + 0.5 ) * 0.5\n",
        "            \n",
        "    for i in range(0, 2):\n",
        "        for j in range(0, 3):\n",
        "            dataset.loc[ (dataset.Age.isnull()) \u0026 (dataset.Sex \u003d\u003d i) \u0026 (dataset.Pclass \u003d\u003d j+1),\\\n",
        "                    \u0027Age\u0027] \u003d guess_ages[i,j]\n",
        "\n",
        "    dataset[\u0027Age\u0027] \u003d dataset[\u0027Age\u0027].astype(int)\n",
        "\n",
        "train_df.head()"
      ]
    },
    {
      "cell_type": "markdown",
      "metadata": {
        "_cell_guid": "dbe0a8bf-40bc-c581-e10e-76f07b3b71d4",
        "_uuid": "e7c52b44b703f28e4b6f4ddba67ab65f40274550",
        "pycharm": {}
      },
      "source": [
        "Let us create Age bands and determine correlations with Survived."
      ]
    },
    {
      "cell_type": "code",
      "execution_count": 29,
      "metadata": {
        "_cell_guid": "725d1c84-6323-9d70-5812-baf9994d3aa1",
        "_uuid": "5c8b4cbb302f439ef0d6278dcfbdafd952675353",
        "pycharm": {
          "is_executing": false
        }
      },
      "outputs": [
        {
          "data": {
            "text/plain": "         AgeBand  Survived\n0  (-0.08, 16.0]  0.550000\n1   (16.0, 32.0]  0.337374\n2   (32.0, 48.0]  0.412037\n3   (48.0, 64.0]  0.434783\n4   (64.0, 80.0]  0.090909",
            "text/html": "\u003cdiv\u003e\n\u003cstyle scoped\u003e\n    .dataframe tbody tr th:only-of-type {\n        vertical-align: middle;\n    }\n\n    .dataframe tbody tr th {\n        vertical-align: top;\n    }\n\n    .dataframe thead th {\n        text-align: right;\n    }\n\u003c/style\u003e\n\u003ctable border\u003d\"1\" class\u003d\"dataframe\"\u003e\n  \u003cthead\u003e\n    \u003ctr style\u003d\"text-align: right;\"\u003e\n      \u003cth\u003e\u003c/th\u003e\n      \u003cth\u003eAgeBand\u003c/th\u003e\n      \u003cth\u003eSurvived\u003c/th\u003e\n    \u003c/tr\u003e\n  \u003c/thead\u003e\n  \u003ctbody\u003e\n    \u003ctr\u003e\n      \u003cth\u003e0\u003c/th\u003e\n      \u003ctd\u003e(-0.08, 16.0]\u003c/td\u003e\n      \u003ctd\u003e0.550000\u003c/td\u003e\n    \u003c/tr\u003e\n    \u003ctr\u003e\n      \u003cth\u003e1\u003c/th\u003e\n      \u003ctd\u003e(16.0, 32.0]\u003c/td\u003e\n      \u003ctd\u003e0.337374\u003c/td\u003e\n    \u003c/tr\u003e\n    \u003ctr\u003e\n      \u003cth\u003e2\u003c/th\u003e\n      \u003ctd\u003e(32.0, 48.0]\u003c/td\u003e\n      \u003ctd\u003e0.412037\u003c/td\u003e\n    \u003c/tr\u003e\n    \u003ctr\u003e\n      \u003cth\u003e3\u003c/th\u003e\n      \u003ctd\u003e(48.0, 64.0]\u003c/td\u003e\n      \u003ctd\u003e0.434783\u003c/td\u003e\n    \u003c/tr\u003e\n    \u003ctr\u003e\n      \u003cth\u003e4\u003c/th\u003e\n      \u003ctd\u003e(64.0, 80.0]\u003c/td\u003e\n      \u003ctd\u003e0.090909\u003c/td\u003e\n    \u003c/tr\u003e\n  \u003c/tbody\u003e\n\u003c/table\u003e\n\u003c/div\u003e"
          },
          "metadata": {},
          "output_type": "execute_result",
          "execution_count": 29
        }
      ],
      "source": [
        "train_df[\u0027AgeBand\u0027] \u003d pd.cut(train_df[\u0027Age\u0027], 5)\n",
        "train_df[[\u0027AgeBand\u0027, \u0027Survived\u0027]].groupby([\u0027AgeBand\u0027], as_index\u003dFalse).mean().sort_values(by\u003d\u0027AgeBand\u0027, ascending\u003dTrue)"
      ]
    },
    {
      "cell_type": "markdown",
      "metadata": {
        "_cell_guid": "ba4be3a0-e524-9c57-fbec-c8ecc5cde5c6",
        "_uuid": "856392dd415ac14ab74a885a37d068fc7a58f3a5",
        "pycharm": {}
      },
      "source": [
        "Let us replace Age with ordinals based on these bands."
      ]
    },
    {
      "cell_type": "code",
      "execution_count": 30,
      "metadata": {
        "_cell_guid": "797b986d-2c45-a9ee-e5b5-088de817c8b2",
        "_uuid": "ee13831345f389db407c178f66c19cc8331445b0",
        "pycharm": {
          "is_executing": false
        }
      },
      "outputs": [
        {
          "data": {
            "text/plain": "   Survived  Pclass  Sex  Age  SibSp  Parch     Fare Embarked  Title  \\\n0         0       3    0    1      1      0   7.2500        S      1   \n1         1       1    1    2      1      0  71.2833        C      3   \n2         1       3    1    1      0      0   7.9250        S      2   \n3         1       1    1    2      1      0  53.1000        S      3   \n4         0       3    0    2      0      0   8.0500        S      1   \n\n        AgeBand  \n0  (16.0, 32.0]  \n1  (32.0, 48.0]  \n2  (16.0, 32.0]  \n3  (32.0, 48.0]  \n4  (32.0, 48.0]  ",
            "text/html": "\u003cdiv\u003e\n\u003cstyle scoped\u003e\n    .dataframe tbody tr th:only-of-type {\n        vertical-align: middle;\n    }\n\n    .dataframe tbody tr th {\n        vertical-align: top;\n    }\n\n    .dataframe thead th {\n        text-align: right;\n    }\n\u003c/style\u003e\n\u003ctable border\u003d\"1\" class\u003d\"dataframe\"\u003e\n  \u003cthead\u003e\n    \u003ctr style\u003d\"text-align: right;\"\u003e\n      \u003cth\u003e\u003c/th\u003e\n      \u003cth\u003eSurvived\u003c/th\u003e\n      \u003cth\u003ePclass\u003c/th\u003e\n      \u003cth\u003eSex\u003c/th\u003e\n      \u003cth\u003eAge\u003c/th\u003e\n      \u003cth\u003eSibSp\u003c/th\u003e\n      \u003cth\u003eParch\u003c/th\u003e\n      \u003cth\u003eFare\u003c/th\u003e\n      \u003cth\u003eEmbarked\u003c/th\u003e\n      \u003cth\u003eTitle\u003c/th\u003e\n      \u003cth\u003eAgeBand\u003c/th\u003e\n    \u003c/tr\u003e\n  \u003c/thead\u003e\n  \u003ctbody\u003e\n    \u003ctr\u003e\n      \u003cth\u003e0\u003c/th\u003e\n      \u003ctd\u003e0\u003c/td\u003e\n      \u003ctd\u003e3\u003c/td\u003e\n      \u003ctd\u003e0\u003c/td\u003e\n      \u003ctd\u003e1\u003c/td\u003e\n      \u003ctd\u003e1\u003c/td\u003e\n      \u003ctd\u003e0\u003c/td\u003e\n      \u003ctd\u003e7.2500\u003c/td\u003e\n      \u003ctd\u003eS\u003c/td\u003e\n      \u003ctd\u003e1\u003c/td\u003e\n      \u003ctd\u003e(16.0, 32.0]\u003c/td\u003e\n    \u003c/tr\u003e\n    \u003ctr\u003e\n      \u003cth\u003e1\u003c/th\u003e\n      \u003ctd\u003e1\u003c/td\u003e\n      \u003ctd\u003e1\u003c/td\u003e\n      \u003ctd\u003e1\u003c/td\u003e\n      \u003ctd\u003e2\u003c/td\u003e\n      \u003ctd\u003e1\u003c/td\u003e\n      \u003ctd\u003e0\u003c/td\u003e\n      \u003ctd\u003e71.2833\u003c/td\u003e\n      \u003ctd\u003eC\u003c/td\u003e\n      \u003ctd\u003e3\u003c/td\u003e\n      \u003ctd\u003e(32.0, 48.0]\u003c/td\u003e\n    \u003c/tr\u003e\n    \u003ctr\u003e\n      \u003cth\u003e2\u003c/th\u003e\n      \u003ctd\u003e1\u003c/td\u003e\n      \u003ctd\u003e3\u003c/td\u003e\n      \u003ctd\u003e1\u003c/td\u003e\n      \u003ctd\u003e1\u003c/td\u003e\n      \u003ctd\u003e0\u003c/td\u003e\n      \u003ctd\u003e0\u003c/td\u003e\n      \u003ctd\u003e7.9250\u003c/td\u003e\n      \u003ctd\u003eS\u003c/td\u003e\n      \u003ctd\u003e2\u003c/td\u003e\n      \u003ctd\u003e(16.0, 32.0]\u003c/td\u003e\n    \u003c/tr\u003e\n    \u003ctr\u003e\n      \u003cth\u003e3\u003c/th\u003e\n      \u003ctd\u003e1\u003c/td\u003e\n      \u003ctd\u003e1\u003c/td\u003e\n      \u003ctd\u003e1\u003c/td\u003e\n      \u003ctd\u003e2\u003c/td\u003e\n      \u003ctd\u003e1\u003c/td\u003e\n      \u003ctd\u003e0\u003c/td\u003e\n      \u003ctd\u003e53.1000\u003c/td\u003e\n      \u003ctd\u003eS\u003c/td\u003e\n      \u003ctd\u003e3\u003c/td\u003e\n      \u003ctd\u003e(32.0, 48.0]\u003c/td\u003e\n    \u003c/tr\u003e\n    \u003ctr\u003e\n      \u003cth\u003e4\u003c/th\u003e\n      \u003ctd\u003e0\u003c/td\u003e\n      \u003ctd\u003e3\u003c/td\u003e\n      \u003ctd\u003e0\u003c/td\u003e\n      \u003ctd\u003e2\u003c/td\u003e\n      \u003ctd\u003e0\u003c/td\u003e\n      \u003ctd\u003e0\u003c/td\u003e\n      \u003ctd\u003e8.0500\u003c/td\u003e\n      \u003ctd\u003eS\u003c/td\u003e\n      \u003ctd\u003e1\u003c/td\u003e\n      \u003ctd\u003e(32.0, 48.0]\u003c/td\u003e\n    \u003c/tr\u003e\n  \u003c/tbody\u003e\n\u003c/table\u003e\n\u003c/div\u003e"
          },
          "metadata": {},
          "output_type": "execute_result",
          "execution_count": 30
        }
      ],
      "source": [
        "for dataset in combine:    \n",
        "    dataset.loc[ dataset[\u0027Age\u0027] \u003c\u003d 16, \u0027Age\u0027] \u003d 0\n",
        "    dataset.loc[(dataset[\u0027Age\u0027] \u003e 16) \u0026 (dataset[\u0027Age\u0027] \u003c\u003d 32), \u0027Age\u0027] \u003d 1\n",
        "    dataset.loc[(dataset[\u0027Age\u0027] \u003e 32) \u0026 (dataset[\u0027Age\u0027] \u003c\u003d 48), \u0027Age\u0027] \u003d 2\n",
        "    dataset.loc[(dataset[\u0027Age\u0027] \u003e 48) \u0026 (dataset[\u0027Age\u0027] \u003c\u003d 64), \u0027Age\u0027] \u003d 3\n",
        "    dataset.loc[ dataset[\u0027Age\u0027] \u003e 64, \u0027Age\u0027]\n",
        "train_df.head()"
      ]
    },
    {
      "cell_type": "markdown",
      "metadata": {
        "_cell_guid": "004568b6-dd9a-ff89-43d5-13d4e9370b1d",
        "_uuid": "8e3fbc95e0fd6600e28347567416d3f0d77a24cc",
        "pycharm": {}
      },
      "source": [
        "We can not remove the AgeBand feature."
      ]
    },
    {
      "cell_type": "code",
      "execution_count": 28,
      "metadata": {
        "_cell_guid": "875e55d4-51b0-5061-b72c-8a23946133a3",
        "_uuid": "1ea01ccc4a24e8951556d97c990aa0136da19721",
        "pycharm": {}
      },
      "outputs": [
        {
          "data": {
            "text/html": [
              "\u003cdiv\u003e\n",
              "\u003cstyle scoped\u003e\n",
              "    .dataframe tbody tr th:only-of-type {\n",
              "        vertical-align: middle;\n",
              "    }\n",
              "\n",
              "    .dataframe tbody tr th {\n",
              "        vertical-align: top;\n",
              "    }\n",
              "\n",
              "    .dataframe thead th {\n",
              "        text-align: right;\n",
              "    }\n",
              "\u003c/style\u003e\n",
              "\u003ctable border\u003d\"1\" class\u003d\"dataframe\"\u003e\n",
              "  \u003cthead\u003e\n",
              "    \u003ctr style\u003d\"text-align: right;\"\u003e\n",
              "      \u003cth\u003e\u003c/th\u003e\n",
              "      \u003cth\u003eSurvived\u003c/th\u003e\n",
              "      \u003cth\u003ePclass\u003c/th\u003e\n",
              "      \u003cth\u003eSex\u003c/th\u003e\n",
              "      \u003cth\u003eAge\u003c/th\u003e\n",
              "      \u003cth\u003eSibSp\u003c/th\u003e\n",
              "      \u003cth\u003eParch\u003c/th\u003e\n",
              "      \u003cth\u003eFare\u003c/th\u003e\n",
              "      \u003cth\u003eEmbarked\u003c/th\u003e\n",
              "      \u003cth\u003eTitle\u003c/th\u003e\n",
              "    \u003c/tr\u003e\n",
              "  \u003c/thead\u003e\n",
              "  \u003ctbody\u003e\n",
              "    \u003ctr\u003e\n",
              "      \u003cth\u003e0\u003c/th\u003e\n",
              "      \u003ctd\u003e0\u003c/td\u003e\n",
              "      \u003ctd\u003e3\u003c/td\u003e\n",
              "      \u003ctd\u003e0\u003c/td\u003e\n",
              "      \u003ctd\u003e1\u003c/td\u003e\n",
              "      \u003ctd\u003e1\u003c/td\u003e\n",
              "      \u003ctd\u003e0\u003c/td\u003e\n",
              "      \u003ctd\u003e7.2500\u003c/td\u003e\n",
              "      \u003ctd\u003eS\u003c/td\u003e\n",
              "      \u003ctd\u003e1\u003c/td\u003e\n",
              "    \u003c/tr\u003e\n",
              "    \u003ctr\u003e\n",
              "      \u003cth\u003e1\u003c/th\u003e\n",
              "      \u003ctd\u003e1\u003c/td\u003e\n",
              "      \u003ctd\u003e1\u003c/td\u003e\n",
              "      \u003ctd\u003e1\u003c/td\u003e\n",
              "      \u003ctd\u003e2\u003c/td\u003e\n",
              "      \u003ctd\u003e1\u003c/td\u003e\n",
              "      \u003ctd\u003e0\u003c/td\u003e\n",
              "      \u003ctd\u003e71.2833\u003c/td\u003e\n",
              "      \u003ctd\u003eC\u003c/td\u003e\n",
              "      \u003ctd\u003e3\u003c/td\u003e\n",
              "    \u003c/tr\u003e\n",
              "    \u003ctr\u003e\n",
              "      \u003cth\u003e2\u003c/th\u003e\n",
              "      \u003ctd\u003e1\u003c/td\u003e\n",
              "      \u003ctd\u003e3\u003c/td\u003e\n",
              "      \u003ctd\u003e1\u003c/td\u003e\n",
              "      \u003ctd\u003e1\u003c/td\u003e\n",
              "      \u003ctd\u003e0\u003c/td\u003e\n",
              "      \u003ctd\u003e0\u003c/td\u003e\n",
              "      \u003ctd\u003e7.9250\u003c/td\u003e\n",
              "      \u003ctd\u003eS\u003c/td\u003e\n",
              "      \u003ctd\u003e2\u003c/td\u003e\n",
              "    \u003c/tr\u003e\n",
              "    \u003ctr\u003e\n",
              "      \u003cth\u003e3\u003c/th\u003e\n",
              "      \u003ctd\u003e1\u003c/td\u003e\n",
              "      \u003ctd\u003e1\u003c/td\u003e\n",
              "      \u003ctd\u003e1\u003c/td\u003e\n",
              "      \u003ctd\u003e2\u003c/td\u003e\n",
              "      \u003ctd\u003e1\u003c/td\u003e\n",
              "      \u003ctd\u003e0\u003c/td\u003e\n",
              "      \u003ctd\u003e53.1000\u003c/td\u003e\n",
              "      \u003ctd\u003eS\u003c/td\u003e\n",
              "      \u003ctd\u003e3\u003c/td\u003e\n",
              "    \u003c/tr\u003e\n",
              "    \u003ctr\u003e\n",
              "      \u003cth\u003e4\u003c/th\u003e\n",
              "      \u003ctd\u003e0\u003c/td\u003e\n",
              "      \u003ctd\u003e3\u003c/td\u003e\n",
              "      \u003ctd\u003e0\u003c/td\u003e\n",
              "      \u003ctd\u003e2\u003c/td\u003e\n",
              "      \u003ctd\u003e0\u003c/td\u003e\n",
              "      \u003ctd\u003e0\u003c/td\u003e\n",
              "      \u003ctd\u003e8.0500\u003c/td\u003e\n",
              "      \u003ctd\u003eS\u003c/td\u003e\n",
              "      \u003ctd\u003e1\u003c/td\u003e\n",
              "    \u003c/tr\u003e\n",
              "  \u003c/tbody\u003e\n",
              "\u003c/table\u003e\n",
              "\u003c/div\u003e"
            ],
            "text/plain": [
              "   Survived  Pclass  Sex  Age  SibSp  Parch     Fare Embarked  Title\n",
              "0         0       3    0    1      1      0   7.2500        S      1\n",
              "1         1       1    1    2      1      0  71.2833        C      3\n",
              "2         1       3    1    1      0      0   7.9250        S      2\n",
              "3         1       1    1    2      1      0  53.1000        S      3\n",
              "4         0       3    0    2      0      0   8.0500        S      1"
            ]
          },
          "execution_count": 28,
          "metadata": {},
          "output_type": "execute_result"
        }
      ],
      "source": [
        "train_df \u003d train_df.drop([\u0027AgeBand\u0027], axis\u003d1)\n",
        "combine \u003d [train_df, test_df]\n",
        "train_df.head()"
      ]
    },
    {
      "cell_type": "markdown",
      "metadata": {
        "_cell_guid": "1c237b76-d7ac-098f-0156-480a838a64a9",
        "_uuid": "e3d4a2040c053fbd0486c8cfc4fec3224bd3ebb3",
        "pycharm": {}
      },
      "source": [
        "### Create new feature combining existing features\n",
        "\n",
        "We can create a new feature for FamilySize which combines Parch and SibSp. This will enable us to drop Parch and SibSp from our datasets."
      ]
    },
    {
      "cell_type": "code",
      "execution_count": 29,
      "metadata": {
        "_cell_guid": "7e6c04ed-cfaa-3139-4378-574fd095d6ba",
        "_uuid": "33d1236ce4a8ab888b9fac2d5af1c78d174b32c7",
        "pycharm": {}
      },
      "outputs": [
        {
          "data": {
            "text/html": [
              "\u003cdiv\u003e\n",
              "\u003cstyle scoped\u003e\n",
              "    .dataframe tbody tr th:only-of-type {\n",
              "        vertical-align: middle;\n",
              "    }\n",
              "\n",
              "    .dataframe tbody tr th {\n",
              "        vertical-align: top;\n",
              "    }\n",
              "\n",
              "    .dataframe thead th {\n",
              "        text-align: right;\n",
              "    }\n",
              "\u003c/style\u003e\n",
              "\u003ctable border\u003d\"1\" class\u003d\"dataframe\"\u003e\n",
              "  \u003cthead\u003e\n",
              "    \u003ctr style\u003d\"text-align: right;\"\u003e\n",
              "      \u003cth\u003e\u003c/th\u003e\n",
              "      \u003cth\u003eFamilySize\u003c/th\u003e\n",
              "      \u003cth\u003eSurvived\u003c/th\u003e\n",
              "    \u003c/tr\u003e\n",
              "  \u003c/thead\u003e\n",
              "  \u003ctbody\u003e\n",
              "    \u003ctr\u003e\n",
              "      \u003cth\u003e3\u003c/th\u003e\n",
              "      \u003ctd\u003e4\u003c/td\u003e\n",
              "      \u003ctd\u003e0.724138\u003c/td\u003e\n",
              "    \u003c/tr\u003e\n",
              "    \u003ctr\u003e\n",
              "      \u003cth\u003e2\u003c/th\u003e\n",
              "      \u003ctd\u003e3\u003c/td\u003e\n",
              "      \u003ctd\u003e0.578431\u003c/td\u003e\n",
              "    \u003c/tr\u003e\n",
              "    \u003ctr\u003e\n",
              "      \u003cth\u003e1\u003c/th\u003e\n",
              "      \u003ctd\u003e2\u003c/td\u003e\n",
              "      \u003ctd\u003e0.552795\u003c/td\u003e\n",
              "    \u003c/tr\u003e\n",
              "    \u003ctr\u003e\n",
              "      \u003cth\u003e6\u003c/th\u003e\n",
              "      \u003ctd\u003e7\u003c/td\u003e\n",
              "      \u003ctd\u003e0.333333\u003c/td\u003e\n",
              "    \u003c/tr\u003e\n",
              "    \u003ctr\u003e\n",
              "      \u003cth\u003e0\u003c/th\u003e\n",
              "      \u003ctd\u003e1\u003c/td\u003e\n",
              "      \u003ctd\u003e0.303538\u003c/td\u003e\n",
              "    \u003c/tr\u003e\n",
              "    \u003ctr\u003e\n",
              "      \u003cth\u003e4\u003c/th\u003e\n",
              "      \u003ctd\u003e5\u003c/td\u003e\n",
              "      \u003ctd\u003e0.200000\u003c/td\u003e\n",
              "    \u003c/tr\u003e\n",
              "    \u003ctr\u003e\n",
              "      \u003cth\u003e5\u003c/th\u003e\n",
              "      \u003ctd\u003e6\u003c/td\u003e\n",
              "      \u003ctd\u003e0.136364\u003c/td\u003e\n",
              "    \u003c/tr\u003e\n",
              "    \u003ctr\u003e\n",
              "      \u003cth\u003e7\u003c/th\u003e\n",
              "      \u003ctd\u003e8\u003c/td\u003e\n",
              "      \u003ctd\u003e0.000000\u003c/td\u003e\n",
              "    \u003c/tr\u003e\n",
              "    \u003ctr\u003e\n",
              "      \u003cth\u003e8\u003c/th\u003e\n",
              "      \u003ctd\u003e11\u003c/td\u003e\n",
              "      \u003ctd\u003e0.000000\u003c/td\u003e\n",
              "    \u003c/tr\u003e\n",
              "  \u003c/tbody\u003e\n",
              "\u003c/table\u003e\n",
              "\u003c/div\u003e"
            ],
            "text/plain": [
              "   FamilySize  Survived\n",
              "3           4  0.724138\n",
              "2           3  0.578431\n",
              "1           2  0.552795\n",
              "6           7  0.333333\n",
              "0           1  0.303538\n",
              "4           5  0.200000\n",
              "5           6  0.136364\n",
              "7           8  0.000000\n",
              "8          11  0.000000"
            ]
          },
          "execution_count": 29,
          "metadata": {},
          "output_type": "execute_result"
        }
      ],
      "source": [
        "for dataset in combine:\n",
        "    dataset[\u0027FamilySize\u0027] \u003d dataset[\u0027SibSp\u0027] + dataset[\u0027Parch\u0027] + 1\n",
        "\n",
        "train_df[[\u0027FamilySize\u0027, \u0027Survived\u0027]].groupby([\u0027FamilySize\u0027], as_index\u003dFalse).mean().sort_values(by\u003d\u0027Survived\u0027, ascending\u003dFalse)"
      ]
    },
    {
      "cell_type": "markdown",
      "metadata": {
        "_cell_guid": "842188e6-acf8-2476-ccec-9e3451e4fa86",
        "_uuid": "67f8e4474cd1ecf4261c153ce8b40ea23cf659e4",
        "pycharm": {}
      },
      "source": [
        "We can create another feature called IsAlone."
      ]
    },
    {
      "cell_type": "code",
      "execution_count": 30,
      "metadata": {
        "_cell_guid": "5c778c69-a9ae-1b6b-44fe-a0898d07be7a",
        "_uuid": "3b8db81cc3513b088c6bcd9cd1938156fe77992f",
        "pycharm": {}
      },
      "outputs": [
        {
          "data": {
            "text/html": [
              "\u003cdiv\u003e\n",
              "\u003cstyle scoped\u003e\n",
              "    .dataframe tbody tr th:only-of-type {\n",
              "        vertical-align: middle;\n",
              "    }\n",
              "\n",
              "    .dataframe tbody tr th {\n",
              "        vertical-align: top;\n",
              "    }\n",
              "\n",
              "    .dataframe thead th {\n",
              "        text-align: right;\n",
              "    }\n",
              "\u003c/style\u003e\n",
              "\u003ctable border\u003d\"1\" class\u003d\"dataframe\"\u003e\n",
              "  \u003cthead\u003e\n",
              "    \u003ctr style\u003d\"text-align: right;\"\u003e\n",
              "      \u003cth\u003e\u003c/th\u003e\n",
              "      \u003cth\u003eIsAlone\u003c/th\u003e\n",
              "      \u003cth\u003eSurvived\u003c/th\u003e\n",
              "    \u003c/tr\u003e\n",
              "  \u003c/thead\u003e\n",
              "  \u003ctbody\u003e\n",
              "    \u003ctr\u003e\n",
              "      \u003cth\u003e0\u003c/th\u003e\n",
              "      \u003ctd\u003e0\u003c/td\u003e\n",
              "      \u003ctd\u003e0.505650\u003c/td\u003e\n",
              "    \u003c/tr\u003e\n",
              "    \u003ctr\u003e\n",
              "      \u003cth\u003e1\u003c/th\u003e\n",
              "      \u003ctd\u003e1\u003c/td\u003e\n",
              "      \u003ctd\u003e0.303538\u003c/td\u003e\n",
              "    \u003c/tr\u003e\n",
              "  \u003c/tbody\u003e\n",
              "\u003c/table\u003e\n",
              "\u003c/div\u003e"
            ],
            "text/plain": [
              "   IsAlone  Survived\n",
              "0        0  0.505650\n",
              "1        1  0.303538"
            ]
          },
          "execution_count": 30,
          "metadata": {},
          "output_type": "execute_result"
        }
      ],
      "source": [
        "for dataset in combine:\n",
        "    dataset[\u0027IsAlone\u0027] \u003d 0\n",
        "    dataset.loc[dataset[\u0027FamilySize\u0027] \u003d\u003d 1, \u0027IsAlone\u0027] \u003d 1\n",
        "\n",
        "train_df[[\u0027IsAlone\u0027, \u0027Survived\u0027]].groupby([\u0027IsAlone\u0027], as_index\u003dFalse).mean()"
      ]
    },
    {
      "cell_type": "markdown",
      "metadata": {
        "_cell_guid": "e6b87c09-e7b2-f098-5b04-4360080d26bc",
        "_uuid": "3da4204b2c78faa54a94bbad78a8aa85fbf90c87",
        "pycharm": {}
      },
      "source": [
        "Let us drop Parch, SibSp, and FamilySize features in favor of IsAlone."
      ]
    },
    {
      "cell_type": "code",
      "execution_count": 31,
      "metadata": {
        "_cell_guid": "74ee56a6-7357-f3bc-b605-6c41f8aa6566",
        "_uuid": "1e3479690ef7cd8ee10538d4f39d7117246887f0",
        "pycharm": {}
      },
      "outputs": [
        {
          "data": {
            "text/html": [
              "\u003cdiv\u003e\n",
              "\u003cstyle scoped\u003e\n",
              "    .dataframe tbody tr th:only-of-type {\n",
              "        vertical-align: middle;\n",
              "    }\n",
              "\n",
              "    .dataframe tbody tr th {\n",
              "        vertical-align: top;\n",
              "    }\n",
              "\n",
              "    .dataframe thead th {\n",
              "        text-align: right;\n",
              "    }\n",
              "\u003c/style\u003e\n",
              "\u003ctable border\u003d\"1\" class\u003d\"dataframe\"\u003e\n",
              "  \u003cthead\u003e\n",
              "    \u003ctr style\u003d\"text-align: right;\"\u003e\n",
              "      \u003cth\u003e\u003c/th\u003e\n",
              "      \u003cth\u003eSurvived\u003c/th\u003e\n",
              "      \u003cth\u003ePclass\u003c/th\u003e\n",
              "      \u003cth\u003eSex\u003c/th\u003e\n",
              "      \u003cth\u003eAge\u003c/th\u003e\n",
              "      \u003cth\u003eFare\u003c/th\u003e\n",
              "      \u003cth\u003eEmbarked\u003c/th\u003e\n",
              "      \u003cth\u003eTitle\u003c/th\u003e\n",
              "      \u003cth\u003eIsAlone\u003c/th\u003e\n",
              "    \u003c/tr\u003e\n",
              "  \u003c/thead\u003e\n",
              "  \u003ctbody\u003e\n",
              "    \u003ctr\u003e\n",
              "      \u003cth\u003e0\u003c/th\u003e\n",
              "      \u003ctd\u003e0\u003c/td\u003e\n",
              "      \u003ctd\u003e3\u003c/td\u003e\n",
              "      \u003ctd\u003e0\u003c/td\u003e\n",
              "      \u003ctd\u003e1\u003c/td\u003e\n",
              "      \u003ctd\u003e7.2500\u003c/td\u003e\n",
              "      \u003ctd\u003eS\u003c/td\u003e\n",
              "      \u003ctd\u003e1\u003c/td\u003e\n",
              "      \u003ctd\u003e0\u003c/td\u003e\n",
              "    \u003c/tr\u003e\n",
              "    \u003ctr\u003e\n",
              "      \u003cth\u003e1\u003c/th\u003e\n",
              "      \u003ctd\u003e1\u003c/td\u003e\n",
              "      \u003ctd\u003e1\u003c/td\u003e\n",
              "      \u003ctd\u003e1\u003c/td\u003e\n",
              "      \u003ctd\u003e2\u003c/td\u003e\n",
              "      \u003ctd\u003e71.2833\u003c/td\u003e\n",
              "      \u003ctd\u003eC\u003c/td\u003e\n",
              "      \u003ctd\u003e3\u003c/td\u003e\n",
              "      \u003ctd\u003e0\u003c/td\u003e\n",
              "    \u003c/tr\u003e\n",
              "    \u003ctr\u003e\n",
              "      \u003cth\u003e2\u003c/th\u003e\n",
              "      \u003ctd\u003e1\u003c/td\u003e\n",
              "      \u003ctd\u003e3\u003c/td\u003e\n",
              "      \u003ctd\u003e1\u003c/td\u003e\n",
              "      \u003ctd\u003e1\u003c/td\u003e\n",
              "      \u003ctd\u003e7.9250\u003c/td\u003e\n",
              "      \u003ctd\u003eS\u003c/td\u003e\n",
              "      \u003ctd\u003e2\u003c/td\u003e\n",
              "      \u003ctd\u003e1\u003c/td\u003e\n",
              "    \u003c/tr\u003e\n",
              "    \u003ctr\u003e\n",
              "      \u003cth\u003e3\u003c/th\u003e\n",
              "      \u003ctd\u003e1\u003c/td\u003e\n",
              "      \u003ctd\u003e1\u003c/td\u003e\n",
              "      \u003ctd\u003e1\u003c/td\u003e\n",
              "      \u003ctd\u003e2\u003c/td\u003e\n",
              "      \u003ctd\u003e53.1000\u003c/td\u003e\n",
              "      \u003ctd\u003eS\u003c/td\u003e\n",
              "      \u003ctd\u003e3\u003c/td\u003e\n",
              "      \u003ctd\u003e0\u003c/td\u003e\n",
              "    \u003c/tr\u003e\n",
              "    \u003ctr\u003e\n",
              "      \u003cth\u003e4\u003c/th\u003e\n",
              "      \u003ctd\u003e0\u003c/td\u003e\n",
              "      \u003ctd\u003e3\u003c/td\u003e\n",
              "      \u003ctd\u003e0\u003c/td\u003e\n",
              "      \u003ctd\u003e2\u003c/td\u003e\n",
              "      \u003ctd\u003e8.0500\u003c/td\u003e\n",
              "      \u003ctd\u003eS\u003c/td\u003e\n",
              "      \u003ctd\u003e1\u003c/td\u003e\n",
              "      \u003ctd\u003e1\u003c/td\u003e\n",
              "    \u003c/tr\u003e\n",
              "  \u003c/tbody\u003e\n",
              "\u003c/table\u003e\n",
              "\u003c/div\u003e"
            ],
            "text/plain": [
              "   Survived  Pclass  Sex  Age     Fare Embarked  Title  IsAlone\n",
              "0         0       3    0    1   7.2500        S      1        0\n",
              "1         1       1    1    2  71.2833        C      3        0\n",
              "2         1       3    1    1   7.9250        S      2        1\n",
              "3         1       1    1    2  53.1000        S      3        0\n",
              "4         0       3    0    2   8.0500        S      1        1"
            ]
          },
          "execution_count": 31,
          "metadata": {},
          "output_type": "execute_result"
        }
      ],
      "source": [
        "train_df \u003d train_df.drop([\u0027Parch\u0027, \u0027SibSp\u0027, \u0027FamilySize\u0027], axis\u003d1)\n",
        "test_df \u003d test_df.drop([\u0027Parch\u0027, \u0027SibSp\u0027, \u0027FamilySize\u0027], axis\u003d1)\n",
        "combine \u003d [train_df, test_df]\n",
        "\n",
        "train_df.head()"
      ]
    },
    {
      "cell_type": "markdown",
      "metadata": {
        "_cell_guid": "f890b730-b1fe-919e-fb07-352fbd7edd44",
        "_uuid": "71b800ed96407eba05220f76a1288366a22ec887",
        "pycharm": {}
      },
      "source": [
        "We can also create an artificial feature combining Pclass and Age."
      ]
    },
    {
      "cell_type": "code",
      "execution_count": 32,
      "metadata": {
        "_cell_guid": "305402aa-1ea1-c245-c367-056eef8fe453",
        "_uuid": "aac2c5340c06210a8b0199e15461e9049fbf2cff",
        "pycharm": {}
      },
      "outputs": [
        {
          "data": {
            "text/html": [
              "\u003cdiv\u003e\n",
              "\u003cstyle scoped\u003e\n",
              "    .dataframe tbody tr th:only-of-type {\n",
              "        vertical-align: middle;\n",
              "    }\n",
              "\n",
              "    .dataframe tbody tr th {\n",
              "        vertical-align: top;\n",
              "    }\n",
              "\n",
              "    .dataframe thead th {\n",
              "        text-align: right;\n",
              "    }\n",
              "\u003c/style\u003e\n",
              "\u003ctable border\u003d\"1\" class\u003d\"dataframe\"\u003e\n",
              "  \u003cthead\u003e\n",
              "    \u003ctr style\u003d\"text-align: right;\"\u003e\n",
              "      \u003cth\u003e\u003c/th\u003e\n",
              "      \u003cth\u003eAge*Class\u003c/th\u003e\n",
              "      \u003cth\u003eAge\u003c/th\u003e\n",
              "      \u003cth\u003ePclass\u003c/th\u003e\n",
              "    \u003c/tr\u003e\n",
              "  \u003c/thead\u003e\n",
              "  \u003ctbody\u003e\n",
              "    \u003ctr\u003e\n",
              "      \u003cth\u003e0\u003c/th\u003e\n",
              "      \u003ctd\u003e3\u003c/td\u003e\n",
              "      \u003ctd\u003e1\u003c/td\u003e\n",
              "      \u003ctd\u003e3\u003c/td\u003e\n",
              "    \u003c/tr\u003e\n",
              "    \u003ctr\u003e\n",
              "      \u003cth\u003e1\u003c/th\u003e\n",
              "      \u003ctd\u003e2\u003c/td\u003e\n",
              "      \u003ctd\u003e2\u003c/td\u003e\n",
              "      \u003ctd\u003e1\u003c/td\u003e\n",
              "    \u003c/tr\u003e\n",
              "    \u003ctr\u003e\n",
              "      \u003cth\u003e2\u003c/th\u003e\n",
              "      \u003ctd\u003e3\u003c/td\u003e\n",
              "      \u003ctd\u003e1\u003c/td\u003e\n",
              "      \u003ctd\u003e3\u003c/td\u003e\n",
              "    \u003c/tr\u003e\n",
              "    \u003ctr\u003e\n",
              "      \u003cth\u003e3\u003c/th\u003e\n",
              "      \u003ctd\u003e2\u003c/td\u003e\n",
              "      \u003ctd\u003e2\u003c/td\u003e\n",
              "      \u003ctd\u003e1\u003c/td\u003e\n",
              "    \u003c/tr\u003e\n",
              "    \u003ctr\u003e\n",
              "      \u003cth\u003e4\u003c/th\u003e\n",
              "      \u003ctd\u003e6\u003c/td\u003e\n",
              "      \u003ctd\u003e2\u003c/td\u003e\n",
              "      \u003ctd\u003e3\u003c/td\u003e\n",
              "    \u003c/tr\u003e\n",
              "    \u003ctr\u003e\n",
              "      \u003cth\u003e5\u003c/th\u003e\n",
              "      \u003ctd\u003e3\u003c/td\u003e\n",
              "      \u003ctd\u003e1\u003c/td\u003e\n",
              "      \u003ctd\u003e3\u003c/td\u003e\n",
              "    \u003c/tr\u003e\n",
              "    \u003ctr\u003e\n",
              "      \u003cth\u003e6\u003c/th\u003e\n",
              "      \u003ctd\u003e3\u003c/td\u003e\n",
              "      \u003ctd\u003e3\u003c/td\u003e\n",
              "      \u003ctd\u003e1\u003c/td\u003e\n",
              "    \u003c/tr\u003e\n",
              "    \u003ctr\u003e\n",
              "      \u003cth\u003e7\u003c/th\u003e\n",
              "      \u003ctd\u003e0\u003c/td\u003e\n",
              "      \u003ctd\u003e0\u003c/td\u003e\n",
              "      \u003ctd\u003e3\u003c/td\u003e\n",
              "    \u003c/tr\u003e\n",
              "    \u003ctr\u003e\n",
              "      \u003cth\u003e8\u003c/th\u003e\n",
              "      \u003ctd\u003e3\u003c/td\u003e\n",
              "      \u003ctd\u003e1\u003c/td\u003e\n",
              "      \u003ctd\u003e3\u003c/td\u003e\n",
              "    \u003c/tr\u003e\n",
              "    \u003ctr\u003e\n",
              "      \u003cth\u003e9\u003c/th\u003e\n",
              "      \u003ctd\u003e0\u003c/td\u003e\n",
              "      \u003ctd\u003e0\u003c/td\u003e\n",
              "      \u003ctd\u003e2\u003c/td\u003e\n",
              "    \u003c/tr\u003e\n",
              "  \u003c/tbody\u003e\n",
              "\u003c/table\u003e\n",
              "\u003c/div\u003e"
            ],
            "text/plain": [
              "   Age*Class  Age  Pclass\n",
              "0          3    1       3\n",
              "1          2    2       1\n",
              "2          3    1       3\n",
              "3          2    2       1\n",
              "4          6    2       3\n",
              "5          3    1       3\n",
              "6          3    3       1\n",
              "7          0    0       3\n",
              "8          3    1       3\n",
              "9          0    0       2"
            ]
          },
          "execution_count": 32,
          "metadata": {},
          "output_type": "execute_result"
        }
      ],
      "source": [
        "for dataset in combine:\n",
        "    dataset[\u0027Age*Class\u0027] \u003d dataset.Age * dataset.Pclass\n",
        "\n",
        "train_df.loc[:, [\u0027Age*Class\u0027, \u0027Age\u0027, \u0027Pclass\u0027]].head(10)"
      ]
    },
    {
      "cell_type": "markdown",
      "metadata": {
        "_cell_guid": "13292c1b-020d-d9aa-525c-941331bb996a",
        "_uuid": "8264cc5676db8cd3e0b3e3f078cbaa74fd585a3c",
        "pycharm": {}
      },
      "source": [
        "### Completing a categorical feature\n",
        "\n",
        "Embarked feature takes S, Q, C values based on port of embarkation. Our training dataset has two missing values. We simply fill these with the most common occurance."
      ]
    },
    {
      "cell_type": "code",
      "execution_count": 33,
      "metadata": {
        "_cell_guid": "bf351113-9b7f-ef56-7211-e8dd00665b18",
        "_uuid": "1e3f8af166f60a1b3125a6b046eff5fff02d63cf",
        "pycharm": {}
      },
      "outputs": [
        {
          "data": {
            "text/plain": [
              "\u0027S\u0027"
            ]
          },
          "execution_count": 33,
          "metadata": {},
          "output_type": "execute_result"
        }
      ],
      "source": [
        "freq_port \u003d train_df.Embarked.dropna().mode()[0]\n",
        "freq_port"
      ]
    },
    {
      "cell_type": "code",
      "execution_count": 34,
      "metadata": {
        "_cell_guid": "51c21fcc-f066-cd80-18c8-3d140be6cbae",
        "_uuid": "d85b5575fb45f25749298641f6a0a38803e1ff22",
        "pycharm": {}
      },
      "outputs": [
        {
          "data": {
            "text/html": [
              "\u003cdiv\u003e\n",
              "\u003cstyle scoped\u003e\n",
              "    .dataframe tbody tr th:only-of-type {\n",
              "        vertical-align: middle;\n",
              "    }\n",
              "\n",
              "    .dataframe tbody tr th {\n",
              "        vertical-align: top;\n",
              "    }\n",
              "\n",
              "    .dataframe thead th {\n",
              "        text-align: right;\n",
              "    }\n",
              "\u003c/style\u003e\n",
              "\u003ctable border\u003d\"1\" class\u003d\"dataframe\"\u003e\n",
              "  \u003cthead\u003e\n",
              "    \u003ctr style\u003d\"text-align: right;\"\u003e\n",
              "      \u003cth\u003e\u003c/th\u003e\n",
              "      \u003cth\u003eEmbarked\u003c/th\u003e\n",
              "      \u003cth\u003eSurvived\u003c/th\u003e\n",
              "    \u003c/tr\u003e\n",
              "  \u003c/thead\u003e\n",
              "  \u003ctbody\u003e\n",
              "    \u003ctr\u003e\n",
              "      \u003cth\u003e0\u003c/th\u003e\n",
              "      \u003ctd\u003eC\u003c/td\u003e\n",
              "      \u003ctd\u003e0.553571\u003c/td\u003e\n",
              "    \u003c/tr\u003e\n",
              "    \u003ctr\u003e\n",
              "      \u003cth\u003e1\u003c/th\u003e\n",
              "      \u003ctd\u003eQ\u003c/td\u003e\n",
              "      \u003ctd\u003e0.389610\u003c/td\u003e\n",
              "    \u003c/tr\u003e\n",
              "    \u003ctr\u003e\n",
              "      \u003cth\u003e2\u003c/th\u003e\n",
              "      \u003ctd\u003eS\u003c/td\u003e\n",
              "      \u003ctd\u003e0.339009\u003c/td\u003e\n",
              "    \u003c/tr\u003e\n",
              "  \u003c/tbody\u003e\n",
              "\u003c/table\u003e\n",
              "\u003c/div\u003e"
            ],
            "text/plain": [
              "  Embarked  Survived\n",
              "0        C  0.553571\n",
              "1        Q  0.389610\n",
              "2        S  0.339009"
            ]
          },
          "execution_count": 34,
          "metadata": {},
          "output_type": "execute_result"
        }
      ],
      "source": [
        "for dataset in combine:\n",
        "    dataset[\u0027Embarked\u0027] \u003d dataset[\u0027Embarked\u0027].fillna(freq_port)\n",
        "    \n",
        "train_df[[\u0027Embarked\u0027, \u0027Survived\u0027]].groupby([\u0027Embarked\u0027], as_index\u003dFalse).mean().sort_values(by\u003d\u0027Survived\u0027, ascending\u003dFalse)"
      ]
    },
    {
      "cell_type": "markdown",
      "metadata": {
        "_cell_guid": "f6acf7b2-0db3-e583-de50-7e14b495de34",
        "_uuid": "d8830e997995145314328b6218b5606df04499b0",
        "pycharm": {}
      },
      "source": [
        "### Converting categorical feature to numeric\n",
        "\n",
        "We can now convert the EmbarkedFill feature by creating a new numeric Port feature."
      ]
    },
    {
      "cell_type": "code",
      "execution_count": 35,
      "metadata": {
        "_cell_guid": "89a91d76-2cc0-9bbb-c5c5-3c9ecae33c66",
        "_uuid": "e480a1ef145de0b023821134896391d568a6f4f9",
        "pycharm": {}
      },
      "outputs": [
        {
          "data": {
            "text/html": [
              "\u003cdiv\u003e\n",
              "\u003cstyle scoped\u003e\n",
              "    .dataframe tbody tr th:only-of-type {\n",
              "        vertical-align: middle;\n",
              "    }\n",
              "\n",
              "    .dataframe tbody tr th {\n",
              "        vertical-align: top;\n",
              "    }\n",
              "\n",
              "    .dataframe thead th {\n",
              "        text-align: right;\n",
              "    }\n",
              "\u003c/style\u003e\n",
              "\u003ctable border\u003d\"1\" class\u003d\"dataframe\"\u003e\n",
              "  \u003cthead\u003e\n",
              "    \u003ctr style\u003d\"text-align: right;\"\u003e\n",
              "      \u003cth\u003e\u003c/th\u003e\n",
              "      \u003cth\u003eSurvived\u003c/th\u003e\n",
              "      \u003cth\u003ePclass\u003c/th\u003e\n",
              "      \u003cth\u003eSex\u003c/th\u003e\n",
              "      \u003cth\u003eAge\u003c/th\u003e\n",
              "      \u003cth\u003eFare\u003c/th\u003e\n",
              "      \u003cth\u003eEmbarked\u003c/th\u003e\n",
              "      \u003cth\u003eTitle\u003c/th\u003e\n",
              "      \u003cth\u003eIsAlone\u003c/th\u003e\n",
              "      \u003cth\u003eAge*Class\u003c/th\u003e\n",
              "    \u003c/tr\u003e\n",
              "  \u003c/thead\u003e\n",
              "  \u003ctbody\u003e\n",
              "    \u003ctr\u003e\n",
              "      \u003cth\u003e0\u003c/th\u003e\n",
              "      \u003ctd\u003e0\u003c/td\u003e\n",
              "      \u003ctd\u003e3\u003c/td\u003e\n",
              "      \u003ctd\u003e0\u003c/td\u003e\n",
              "      \u003ctd\u003e1\u003c/td\u003e\n",
              "      \u003ctd\u003e7.2500\u003c/td\u003e\n",
              "      \u003ctd\u003e0\u003c/td\u003e\n",
              "      \u003ctd\u003e1\u003c/td\u003e\n",
              "      \u003ctd\u003e0\u003c/td\u003e\n",
              "      \u003ctd\u003e3\u003c/td\u003e\n",
              "    \u003c/tr\u003e\n",
              "    \u003ctr\u003e\n",
              "      \u003cth\u003e1\u003c/th\u003e\n",
              "      \u003ctd\u003e1\u003c/td\u003e\n",
              "      \u003ctd\u003e1\u003c/td\u003e\n",
              "      \u003ctd\u003e1\u003c/td\u003e\n",
              "      \u003ctd\u003e2\u003c/td\u003e\n",
              "      \u003ctd\u003e71.2833\u003c/td\u003e\n",
              "      \u003ctd\u003e1\u003c/td\u003e\n",
              "      \u003ctd\u003e3\u003c/td\u003e\n",
              "      \u003ctd\u003e0\u003c/td\u003e\n",
              "      \u003ctd\u003e2\u003c/td\u003e\n",
              "    \u003c/tr\u003e\n",
              "    \u003ctr\u003e\n",
              "      \u003cth\u003e2\u003c/th\u003e\n",
              "      \u003ctd\u003e1\u003c/td\u003e\n",
              "      \u003ctd\u003e3\u003c/td\u003e\n",
              "      \u003ctd\u003e1\u003c/td\u003e\n",
              "      \u003ctd\u003e1\u003c/td\u003e\n",
              "      \u003ctd\u003e7.9250\u003c/td\u003e\n",
              "      \u003ctd\u003e0\u003c/td\u003e\n",
              "      \u003ctd\u003e2\u003c/td\u003e\n",
              "      \u003ctd\u003e1\u003c/td\u003e\n",
              "      \u003ctd\u003e3\u003c/td\u003e\n",
              "    \u003c/tr\u003e\n",
              "    \u003ctr\u003e\n",
              "      \u003cth\u003e3\u003c/th\u003e\n",
              "      \u003ctd\u003e1\u003c/td\u003e\n",
              "      \u003ctd\u003e1\u003c/td\u003e\n",
              "      \u003ctd\u003e1\u003c/td\u003e\n",
              "      \u003ctd\u003e2\u003c/td\u003e\n",
              "      \u003ctd\u003e53.1000\u003c/td\u003e\n",
              "      \u003ctd\u003e0\u003c/td\u003e\n",
              "      \u003ctd\u003e3\u003c/td\u003e\n",
              "      \u003ctd\u003e0\u003c/td\u003e\n",
              "      \u003ctd\u003e2\u003c/td\u003e\n",
              "    \u003c/tr\u003e\n",
              "    \u003ctr\u003e\n",
              "      \u003cth\u003e4\u003c/th\u003e\n",
              "      \u003ctd\u003e0\u003c/td\u003e\n",
              "      \u003ctd\u003e3\u003c/td\u003e\n",
              "      \u003ctd\u003e0\u003c/td\u003e\n",
              "      \u003ctd\u003e2\u003c/td\u003e\n",
              "      \u003ctd\u003e8.0500\u003c/td\u003e\n",
              "      \u003ctd\u003e0\u003c/td\u003e\n",
              "      \u003ctd\u003e1\u003c/td\u003e\n",
              "      \u003ctd\u003e1\u003c/td\u003e\n",
              "      \u003ctd\u003e6\u003c/td\u003e\n",
              "    \u003c/tr\u003e\n",
              "  \u003c/tbody\u003e\n",
              "\u003c/table\u003e\n",
              "\u003c/div\u003e"
            ],
            "text/plain": [
              "   Survived  Pclass  Sex  Age    ...      Embarked  Title  IsAlone  Age*Class\n",
              "0         0       3    0    1    ...             0      1        0          3\n",
              "1         1       1    1    2    ...             1      3        0          2\n",
              "2         1       3    1    1    ...             0      2        1          3\n",
              "3         1       1    1    2    ...             0      3        0          2\n",
              "4         0       3    0    2    ...             0      1        1          6\n",
              "\n",
              "[5 rows x 9 columns]"
            ]
          },
          "execution_count": 35,
          "metadata": {},
          "output_type": "execute_result"
        }
      ],
      "source": [
        "for dataset in combine:\n",
        "    dataset[\u0027Embarked\u0027] \u003d dataset[\u0027Embarked\u0027].map( {\u0027S\u0027: 0, \u0027C\u0027: 1, \u0027Q\u0027: 2} ).astype(int)\n",
        "\n",
        "train_df.head()"
      ]
    },
    {
      "cell_type": "markdown",
      "metadata": {
        "_cell_guid": "e3dfc817-e1c1-a274-a111-62c1c814cecf",
        "_uuid": "d79834ebc4ab9d48ed404584711475dbf8611b91",
        "pycharm": {}
      },
      "source": [
        "### Quick completing and converting a numeric feature\n",
        "\n",
        "We can now complete the Fare feature for single missing value in test dataset using mode to get the value that occurs most frequently for this feature. We do this in a single line of code.\n",
        "\n",
        "Note that we are not creating an intermediate new feature or doing any further analysis for correlation to guess missing feature as we are replacing only a single value. The completion goal achieves desired requirement for model algorithm to operate on non-null values.\n",
        "\n",
        "We may also want round off the fare to two decimals as it represents currency."
      ]
    },
    {
      "cell_type": "code",
      "execution_count": 36,
      "metadata": {
        "_cell_guid": "3600cb86-cf5f-d87b-1b33-638dc8db1564",
        "_uuid": "aacb62f3526072a84795a178bd59222378bab180",
        "pycharm": {}
      },
      "outputs": [
        {
          "data": {
            "text/html": [
              "\u003cdiv\u003e\n",
              "\u003cstyle scoped\u003e\n",
              "    .dataframe tbody tr th:only-of-type {\n",
              "        vertical-align: middle;\n",
              "    }\n",
              "\n",
              "    .dataframe tbody tr th {\n",
              "        vertical-align: top;\n",
              "    }\n",
              "\n",
              "    .dataframe thead th {\n",
              "        text-align: right;\n",
              "    }\n",
              "\u003c/style\u003e\n",
              "\u003ctable border\u003d\"1\" class\u003d\"dataframe\"\u003e\n",
              "  \u003cthead\u003e\n",
              "    \u003ctr style\u003d\"text-align: right;\"\u003e\n",
              "      \u003cth\u003e\u003c/th\u003e\n",
              "      \u003cth\u003ePassengerId\u003c/th\u003e\n",
              "      \u003cth\u003ePclass\u003c/th\u003e\n",
              "      \u003cth\u003eSex\u003c/th\u003e\n",
              "      \u003cth\u003eAge\u003c/th\u003e\n",
              "      \u003cth\u003eFare\u003c/th\u003e\n",
              "      \u003cth\u003eEmbarked\u003c/th\u003e\n",
              "      \u003cth\u003eTitle\u003c/th\u003e\n",
              "      \u003cth\u003eIsAlone\u003c/th\u003e\n",
              "      \u003cth\u003eAge*Class\u003c/th\u003e\n",
              "    \u003c/tr\u003e\n",
              "  \u003c/thead\u003e\n",
              "  \u003ctbody\u003e\n",
              "    \u003ctr\u003e\n",
              "      \u003cth\u003e0\u003c/th\u003e\n",
              "      \u003ctd\u003e892\u003c/td\u003e\n",
              "      \u003ctd\u003e3\u003c/td\u003e\n",
              "      \u003ctd\u003e0\u003c/td\u003e\n",
              "      \u003ctd\u003e2\u003c/td\u003e\n",
              "      \u003ctd\u003e7.8292\u003c/td\u003e\n",
              "      \u003ctd\u003e2\u003c/td\u003e\n",
              "      \u003ctd\u003e1\u003c/td\u003e\n",
              "      \u003ctd\u003e1\u003c/td\u003e\n",
              "      \u003ctd\u003e6\u003c/td\u003e\n",
              "    \u003c/tr\u003e\n",
              "    \u003ctr\u003e\n",
              "      \u003cth\u003e1\u003c/th\u003e\n",
              "      \u003ctd\u003e893\u003c/td\u003e\n",
              "      \u003ctd\u003e3\u003c/td\u003e\n",
              "      \u003ctd\u003e1\u003c/td\u003e\n",
              "      \u003ctd\u003e2\u003c/td\u003e\n",
              "      \u003ctd\u003e7.0000\u003c/td\u003e\n",
              "      \u003ctd\u003e0\u003c/td\u003e\n",
              "      \u003ctd\u003e3\u003c/td\u003e\n",
              "      \u003ctd\u003e0\u003c/td\u003e\n",
              "      \u003ctd\u003e6\u003c/td\u003e\n",
              "    \u003c/tr\u003e\n",
              "    \u003ctr\u003e\n",
              "      \u003cth\u003e2\u003c/th\u003e\n",
              "      \u003ctd\u003e894\u003c/td\u003e\n",
              "      \u003ctd\u003e2\u003c/td\u003e\n",
              "      \u003ctd\u003e0\u003c/td\u003e\n",
              "      \u003ctd\u003e3\u003c/td\u003e\n",
              "      \u003ctd\u003e9.6875\u003c/td\u003e\n",
              "      \u003ctd\u003e2\u003c/td\u003e\n",
              "      \u003ctd\u003e1\u003c/td\u003e\n",
              "      \u003ctd\u003e1\u003c/td\u003e\n",
              "      \u003ctd\u003e6\u003c/td\u003e\n",
              "    \u003c/tr\u003e\n",
              "    \u003ctr\u003e\n",
              "      \u003cth\u003e3\u003c/th\u003e\n",
              "      \u003ctd\u003e895\u003c/td\u003e\n",
              "      \u003ctd\u003e3\u003c/td\u003e\n",
              "      \u003ctd\u003e0\u003c/td\u003e\n",
              "      \u003ctd\u003e1\u003c/td\u003e\n",
              "      \u003ctd\u003e8.6625\u003c/td\u003e\n",
              "      \u003ctd\u003e0\u003c/td\u003e\n",
              "      \u003ctd\u003e1\u003c/td\u003e\n",
              "      \u003ctd\u003e1\u003c/td\u003e\n",
              "      \u003ctd\u003e3\u003c/td\u003e\n",
              "    \u003c/tr\u003e\n",
              "    \u003ctr\u003e\n",
              "      \u003cth\u003e4\u003c/th\u003e\n",
              "      \u003ctd\u003e896\u003c/td\u003e\n",
              "      \u003ctd\u003e3\u003c/td\u003e\n",
              "      \u003ctd\u003e1\u003c/td\u003e\n",
              "      \u003ctd\u003e1\u003c/td\u003e\n",
              "      \u003ctd\u003e12.2875\u003c/td\u003e\n",
              "      \u003ctd\u003e0\u003c/td\u003e\n",
              "      \u003ctd\u003e3\u003c/td\u003e\n",
              "      \u003ctd\u003e0\u003c/td\u003e\n",
              "      \u003ctd\u003e3\u003c/td\u003e\n",
              "    \u003c/tr\u003e\n",
              "  \u003c/tbody\u003e\n",
              "\u003c/table\u003e\n",
              "\u003c/div\u003e"
            ],
            "text/plain": [
              "   PassengerId  Pclass  Sex  Age    ...      Embarked  Title  IsAlone  Age*Class\n",
              "0          892       3    0    2    ...             2      1        1          6\n",
              "1          893       3    1    2    ...             0      3        0          6\n",
              "2          894       2    0    3    ...             2      1        1          6\n",
              "3          895       3    0    1    ...             0      1        1          3\n",
              "4          896       3    1    1    ...             0      3        0          3\n",
              "\n",
              "[5 rows x 9 columns]"
            ]
          },
          "execution_count": 36,
          "metadata": {},
          "output_type": "execute_result"
        }
      ],
      "source": [
        "test_df[\u0027Fare\u0027].fillna(test_df[\u0027Fare\u0027].dropna().median(), inplace\u003dTrue)\n",
        "test_df.head()"
      ]
    },
    {
      "cell_type": "markdown",
      "metadata": {
        "_cell_guid": "4b816bc7-d1fb-c02b-ed1d-ee34b819497d",
        "_uuid": "3466d98e83899d8b38a36ede794c68c5656f48e6",
        "pycharm": {}
      },
      "source": [
        "We can not create FareBand."
      ]
    },
    {
      "cell_type": "code",
      "execution_count": 37,
      "metadata": {
        "_cell_guid": "0e9018b1-ced5-9999-8ce1-258a0952cbf2",
        "_uuid": "b9a78f6b4c72520d4ad99d2c89c84c591216098d",
        "pycharm": {}
      },
      "outputs": [
        {
          "data": {
            "text/html": [
              "\u003cdiv\u003e\n",
              "\u003cstyle scoped\u003e\n",
              "    .dataframe tbody tr th:only-of-type {\n",
              "        vertical-align: middle;\n",
              "    }\n",
              "\n",
              "    .dataframe tbody tr th {\n",
              "        vertical-align: top;\n",
              "    }\n",
              "\n",
              "    .dataframe thead th {\n",
              "        text-align: right;\n",
              "    }\n",
              "\u003c/style\u003e\n",
              "\u003ctable border\u003d\"1\" class\u003d\"dataframe\"\u003e\n",
              "  \u003cthead\u003e\n",
              "    \u003ctr style\u003d\"text-align: right;\"\u003e\n",
              "      \u003cth\u003e\u003c/th\u003e\n",
              "      \u003cth\u003eFareBand\u003c/th\u003e\n",
              "      \u003cth\u003eSurvived\u003c/th\u003e\n",
              "    \u003c/tr\u003e\n",
              "  \u003c/thead\u003e\n",
              "  \u003ctbody\u003e\n",
              "    \u003ctr\u003e\n",
              "      \u003cth\u003e0\u003c/th\u003e\n",
              "      \u003ctd\u003e(-0.001, 7.91]\u003c/td\u003e\n",
              "      \u003ctd\u003e0.197309\u003c/td\u003e\n",
              "    \u003c/tr\u003e\n",
              "    \u003ctr\u003e\n",
              "      \u003cth\u003e1\u003c/th\u003e\n",
              "      \u003ctd\u003e(7.91, 14.454]\u003c/td\u003e\n",
              "      \u003ctd\u003e0.303571\u003c/td\u003e\n",
              "    \u003c/tr\u003e\n",
              "    \u003ctr\u003e\n",
              "      \u003cth\u003e2\u003c/th\u003e\n",
              "      \u003ctd\u003e(14.454, 31.0]\u003c/td\u003e\n",
              "      \u003ctd\u003e0.454955\u003c/td\u003e\n",
              "    \u003c/tr\u003e\n",
              "    \u003ctr\u003e\n",
              "      \u003cth\u003e3\u003c/th\u003e\n",
              "      \u003ctd\u003e(31.0, 512.329]\u003c/td\u003e\n",
              "      \u003ctd\u003e0.581081\u003c/td\u003e\n",
              "    \u003c/tr\u003e\n",
              "  \u003c/tbody\u003e\n",
              "\u003c/table\u003e\n",
              "\u003c/div\u003e"
            ],
            "text/plain": [
              "          FareBand  Survived\n",
              "0   (-0.001, 7.91]  0.197309\n",
              "1   (7.91, 14.454]  0.303571\n",
              "2   (14.454, 31.0]  0.454955\n",
              "3  (31.0, 512.329]  0.581081"
            ]
          },
          "execution_count": 37,
          "metadata": {},
          "output_type": "execute_result"
        }
      ],
      "source": [
        "train_df[\u0027FareBand\u0027] \u003d pd.qcut(train_df[\u0027Fare\u0027], 4)\n",
        "train_df[[\u0027FareBand\u0027, \u0027Survived\u0027]].groupby([\u0027FareBand\u0027], as_index\u003dFalse).mean().sort_values(by\u003d\u0027FareBand\u0027, ascending\u003dTrue)"
      ]
    },
    {
      "cell_type": "markdown",
      "metadata": {
        "_cell_guid": "d65901a5-3684-6869-e904-5f1a7cce8a6d",
        "_uuid": "89400fba71af02d09ff07adf399fb36ac4913db6",
        "pycharm": {}
      },
      "source": [
        "Convert the Fare feature to ordinal values based on the FareBand."
      ]
    },
    {
      "cell_type": "code",
      "execution_count": 38,
      "metadata": {
        "_cell_guid": "385f217a-4e00-76dc-1570-1de4eec0c29c",
        "_uuid": "640f305061ec4221a45ba250f8d54bb391035a57",
        "pycharm": {}
      },
      "outputs": [
        {
          "data": {
            "text/html": [
              "\u003cdiv\u003e\n",
              "\u003cstyle scoped\u003e\n",
              "    .dataframe tbody tr th:only-of-type {\n",
              "        vertical-align: middle;\n",
              "    }\n",
              "\n",
              "    .dataframe tbody tr th {\n",
              "        vertical-align: top;\n",
              "    }\n",
              "\n",
              "    .dataframe thead th {\n",
              "        text-align: right;\n",
              "    }\n",
              "\u003c/style\u003e\n",
              "\u003ctable border\u003d\"1\" class\u003d\"dataframe\"\u003e\n",
              "  \u003cthead\u003e\n",
              "    \u003ctr style\u003d\"text-align: right;\"\u003e\n",
              "      \u003cth\u003e\u003c/th\u003e\n",
              "      \u003cth\u003eSurvived\u003c/th\u003e\n",
              "      \u003cth\u003ePclass\u003c/th\u003e\n",
              "      \u003cth\u003eSex\u003c/th\u003e\n",
              "      \u003cth\u003eAge\u003c/th\u003e\n",
              "      \u003cth\u003eFare\u003c/th\u003e\n",
              "      \u003cth\u003eEmbarked\u003c/th\u003e\n",
              "      \u003cth\u003eTitle\u003c/th\u003e\n",
              "      \u003cth\u003eIsAlone\u003c/th\u003e\n",
              "      \u003cth\u003eAge*Class\u003c/th\u003e\n",
              "    \u003c/tr\u003e\n",
              "  \u003c/thead\u003e\n",
              "  \u003ctbody\u003e\n",
              "    \u003ctr\u003e\n",
              "      \u003cth\u003e0\u003c/th\u003e\n",
              "      \u003ctd\u003e0\u003c/td\u003e\n",
              "      \u003ctd\u003e3\u003c/td\u003e\n",
              "      \u003ctd\u003e0\u003c/td\u003e\n",
              "      \u003ctd\u003e1\u003c/td\u003e\n",
              "      \u003ctd\u003e0\u003c/td\u003e\n",
              "      \u003ctd\u003e0\u003c/td\u003e\n",
              "      \u003ctd\u003e1\u003c/td\u003e\n",
              "      \u003ctd\u003e0\u003c/td\u003e\n",
              "      \u003ctd\u003e3\u003c/td\u003e\n",
              "    \u003c/tr\u003e\n",
              "    \u003ctr\u003e\n",
              "      \u003cth\u003e1\u003c/th\u003e\n",
              "      \u003ctd\u003e1\u003c/td\u003e\n",
              "      \u003ctd\u003e1\u003c/td\u003e\n",
              "      \u003ctd\u003e1\u003c/td\u003e\n",
              "      \u003ctd\u003e2\u003c/td\u003e\n",
              "      \u003ctd\u003e3\u003c/td\u003e\n",
              "      \u003ctd\u003e1\u003c/td\u003e\n",
              "      \u003ctd\u003e3\u003c/td\u003e\n",
              "      \u003ctd\u003e0\u003c/td\u003e\n",
              "      \u003ctd\u003e2\u003c/td\u003e\n",
              "    \u003c/tr\u003e\n",
              "    \u003ctr\u003e\n",
              "      \u003cth\u003e2\u003c/th\u003e\n",
              "      \u003ctd\u003e1\u003c/td\u003e\n",
              "      \u003ctd\u003e3\u003c/td\u003e\n",
              "      \u003ctd\u003e1\u003c/td\u003e\n",
              "      \u003ctd\u003e1\u003c/td\u003e\n",
              "      \u003ctd\u003e1\u003c/td\u003e\n",
              "      \u003ctd\u003e0\u003c/td\u003e\n",
              "      \u003ctd\u003e2\u003c/td\u003e\n",
              "      \u003ctd\u003e1\u003c/td\u003e\n",
              "      \u003ctd\u003e3\u003c/td\u003e\n",
              "    \u003c/tr\u003e\n",
              "    \u003ctr\u003e\n",
              "      \u003cth\u003e3\u003c/th\u003e\n",
              "      \u003ctd\u003e1\u003c/td\u003e\n",
              "      \u003ctd\u003e1\u003c/td\u003e\n",
              "      \u003ctd\u003e1\u003c/td\u003e\n",
              "      \u003ctd\u003e2\u003c/td\u003e\n",
              "      \u003ctd\u003e3\u003c/td\u003e\n",
              "      \u003ctd\u003e0\u003c/td\u003e\n",
              "      \u003ctd\u003e3\u003c/td\u003e\n",
              "      \u003ctd\u003e0\u003c/td\u003e\n",
              "      \u003ctd\u003e2\u003c/td\u003e\n",
              "    \u003c/tr\u003e\n",
              "    \u003ctr\u003e\n",
              "      \u003cth\u003e4\u003c/th\u003e\n",
              "      \u003ctd\u003e0\u003c/td\u003e\n",
              "      \u003ctd\u003e3\u003c/td\u003e\n",
              "      \u003ctd\u003e0\u003c/td\u003e\n",
              "      \u003ctd\u003e2\u003c/td\u003e\n",
              "      \u003ctd\u003e1\u003c/td\u003e\n",
              "      \u003ctd\u003e0\u003c/td\u003e\n",
              "      \u003ctd\u003e1\u003c/td\u003e\n",
              "      \u003ctd\u003e1\u003c/td\u003e\n",
              "      \u003ctd\u003e6\u003c/td\u003e\n",
              "    \u003c/tr\u003e\n",
              "    \u003ctr\u003e\n",
              "      \u003cth\u003e5\u003c/th\u003e\n",
              "      \u003ctd\u003e0\u003c/td\u003e\n",
              "      \u003ctd\u003e3\u003c/td\u003e\n",
              "      \u003ctd\u003e0\u003c/td\u003e\n",
              "      \u003ctd\u003e1\u003c/td\u003e\n",
              "      \u003ctd\u003e1\u003c/td\u003e\n",
              "      \u003ctd\u003e2\u003c/td\u003e\n",
              "      \u003ctd\u003e1\u003c/td\u003e\n",
              "      \u003ctd\u003e1\u003c/td\u003e\n",
              "      \u003ctd\u003e3\u003c/td\u003e\n",
              "    \u003c/tr\u003e\n",
              "    \u003ctr\u003e\n",
              "      \u003cth\u003e6\u003c/th\u003e\n",
              "      \u003ctd\u003e0\u003c/td\u003e\n",
              "      \u003ctd\u003e1\u003c/td\u003e\n",
              "      \u003ctd\u003e0\u003c/td\u003e\n",
              "      \u003ctd\u003e3\u003c/td\u003e\n",
              "      \u003ctd\u003e3\u003c/td\u003e\n",
              "      \u003ctd\u003e0\u003c/td\u003e\n",
              "      \u003ctd\u003e1\u003c/td\u003e\n",
              "      \u003ctd\u003e1\u003c/td\u003e\n",
              "      \u003ctd\u003e3\u003c/td\u003e\n",
              "    \u003c/tr\u003e\n",
              "    \u003ctr\u003e\n",
              "      \u003cth\u003e7\u003c/th\u003e\n",
              "      \u003ctd\u003e0\u003c/td\u003e\n",
              "      \u003ctd\u003e3\u003c/td\u003e\n",
              "      \u003ctd\u003e0\u003c/td\u003e\n",
              "      \u003ctd\u003e0\u003c/td\u003e\n",
              "      \u003ctd\u003e2\u003c/td\u003e\n",
              "      \u003ctd\u003e0\u003c/td\u003e\n",
              "      \u003ctd\u003e4\u003c/td\u003e\n",
              "      \u003ctd\u003e0\u003c/td\u003e\n",
              "      \u003ctd\u003e0\u003c/td\u003e\n",
              "    \u003c/tr\u003e\n",
              "    \u003ctr\u003e\n",
              "      \u003cth\u003e8\u003c/th\u003e\n",
              "      \u003ctd\u003e1\u003c/td\u003e\n",
              "      \u003ctd\u003e3\u003c/td\u003e\n",
              "      \u003ctd\u003e1\u003c/td\u003e\n",
              "      \u003ctd\u003e1\u003c/td\u003e\n",
              "      \u003ctd\u003e1\u003c/td\u003e\n",
              "      \u003ctd\u003e0\u003c/td\u003e\n",
              "      \u003ctd\u003e3\u003c/td\u003e\n",
              "      \u003ctd\u003e0\u003c/td\u003e\n",
              "      \u003ctd\u003e3\u003c/td\u003e\n",
              "    \u003c/tr\u003e\n",
              "    \u003ctr\u003e\n",
              "      \u003cth\u003e9\u003c/th\u003e\n",
              "      \u003ctd\u003e1\u003c/td\u003e\n",
              "      \u003ctd\u003e2\u003c/td\u003e\n",
              "      \u003ctd\u003e1\u003c/td\u003e\n",
              "      \u003ctd\u003e0\u003c/td\u003e\n",
              "      \u003ctd\u003e2\u003c/td\u003e\n",
              "      \u003ctd\u003e1\u003c/td\u003e\n",
              "      \u003ctd\u003e3\u003c/td\u003e\n",
              "      \u003ctd\u003e0\u003c/td\u003e\n",
              "      \u003ctd\u003e0\u003c/td\u003e\n",
              "    \u003c/tr\u003e\n",
              "  \u003c/tbody\u003e\n",
              "\u003c/table\u003e\n",
              "\u003c/div\u003e"
            ],
            "text/plain": [
              "   Survived  Pclass  Sex  Age    ...      Embarked  Title  IsAlone  Age*Class\n",
              "0         0       3    0    1    ...             0      1        0          3\n",
              "1         1       1    1    2    ...             1      3        0          2\n",
              "2         1       3    1    1    ...             0      2        1          3\n",
              "3         1       1    1    2    ...             0      3        0          2\n",
              "4         0       3    0    2    ...             0      1        1          6\n",
              "5         0       3    0    1    ...             2      1        1          3\n",
              "6         0       1    0    3    ...             0      1        1          3\n",
              "7         0       3    0    0    ...             0      4        0          0\n",
              "8         1       3    1    1    ...             0      3        0          3\n",
              "9         1       2    1    0    ...             1      3        0          0\n",
              "\n",
              "[10 rows x 9 columns]"
            ]
          },
          "execution_count": 38,
          "metadata": {},
          "output_type": "execute_result"
        }
      ],
      "source": [
        "for dataset in combine:\n",
        "    dataset.loc[ dataset[\u0027Fare\u0027] \u003c\u003d 7.91, \u0027Fare\u0027] \u003d 0\n",
        "    dataset.loc[(dataset[\u0027Fare\u0027] \u003e 7.91) \u0026 (dataset[\u0027Fare\u0027] \u003c\u003d 14.454), \u0027Fare\u0027] \u003d 1\n",
        "    dataset.loc[(dataset[\u0027Fare\u0027] \u003e 14.454) \u0026 (dataset[\u0027Fare\u0027] \u003c\u003d 31), \u0027Fare\u0027]   \u003d 2\n",
        "    dataset.loc[ dataset[\u0027Fare\u0027] \u003e 31, \u0027Fare\u0027] \u003d 3\n",
        "    dataset[\u0027Fare\u0027] \u003d dataset[\u0027Fare\u0027].astype(int)\n",
        "\n",
        "train_df \u003d train_df.drop([\u0027FareBand\u0027], axis\u003d1)\n",
        "combine \u003d [train_df, test_df]\n",
        "    \n",
        "train_df.head(10)"
      ]
    },
    {
      "cell_type": "markdown",
      "metadata": {
        "_cell_guid": "27272bb9-3c64-4f9a-4a3b-54f02e1c8289",
        "_uuid": "531994ed95a3002d1759ceb74d9396db706a41e2",
        "pycharm": {}
      },
      "source": [
        "And the test dataset."
      ]
    },
    {
      "cell_type": "code",
      "execution_count": 39,
      "metadata": {
        "_cell_guid": "d2334d33-4fe5-964d-beac-6aa620066e15",
        "_uuid": "8453cecad81fcc44de3f4e4e4c3ce6afa977740d",
        "pycharm": {}
      },
      "outputs": [
        {
          "data": {
            "text/html": [
              "\u003cdiv\u003e\n",
              "\u003cstyle scoped\u003e\n",
              "    .dataframe tbody tr th:only-of-type {\n",
              "        vertical-align: middle;\n",
              "    }\n",
              "\n",
              "    .dataframe tbody tr th {\n",
              "        vertical-align: top;\n",
              "    }\n",
              "\n",
              "    .dataframe thead th {\n",
              "        text-align: right;\n",
              "    }\n",
              "\u003c/style\u003e\n",
              "\u003ctable border\u003d\"1\" class\u003d\"dataframe\"\u003e\n",
              "  \u003cthead\u003e\n",
              "    \u003ctr style\u003d\"text-align: right;\"\u003e\n",
              "      \u003cth\u003e\u003c/th\u003e\n",
              "      \u003cth\u003ePassengerId\u003c/th\u003e\n",
              "      \u003cth\u003ePclass\u003c/th\u003e\n",
              "      \u003cth\u003eSex\u003c/th\u003e\n",
              "      \u003cth\u003eAge\u003c/th\u003e\n",
              "      \u003cth\u003eFare\u003c/th\u003e\n",
              "      \u003cth\u003eEmbarked\u003c/th\u003e\n",
              "      \u003cth\u003eTitle\u003c/th\u003e\n",
              "      \u003cth\u003eIsAlone\u003c/th\u003e\n",
              "      \u003cth\u003eAge*Class\u003c/th\u003e\n",
              "    \u003c/tr\u003e\n",
              "  \u003c/thead\u003e\n",
              "  \u003ctbody\u003e\n",
              "    \u003ctr\u003e\n",
              "      \u003cth\u003e0\u003c/th\u003e\n",
              "      \u003ctd\u003e892\u003c/td\u003e\n",
              "      \u003ctd\u003e3\u003c/td\u003e\n",
              "      \u003ctd\u003e0\u003c/td\u003e\n",
              "      \u003ctd\u003e2\u003c/td\u003e\n",
              "      \u003ctd\u003e0\u003c/td\u003e\n",
              "      \u003ctd\u003e2\u003c/td\u003e\n",
              "      \u003ctd\u003e1\u003c/td\u003e\n",
              "      \u003ctd\u003e1\u003c/td\u003e\n",
              "      \u003ctd\u003e6\u003c/td\u003e\n",
              "    \u003c/tr\u003e\n",
              "    \u003ctr\u003e\n",
              "      \u003cth\u003e1\u003c/th\u003e\n",
              "      \u003ctd\u003e893\u003c/td\u003e\n",
              "      \u003ctd\u003e3\u003c/td\u003e\n",
              "      \u003ctd\u003e1\u003c/td\u003e\n",
              "      \u003ctd\u003e2\u003c/td\u003e\n",
              "      \u003ctd\u003e0\u003c/td\u003e\n",
              "      \u003ctd\u003e0\u003c/td\u003e\n",
              "      \u003ctd\u003e3\u003c/td\u003e\n",
              "      \u003ctd\u003e0\u003c/td\u003e\n",
              "      \u003ctd\u003e6\u003c/td\u003e\n",
              "    \u003c/tr\u003e\n",
              "    \u003ctr\u003e\n",
              "      \u003cth\u003e2\u003c/th\u003e\n",
              "      \u003ctd\u003e894\u003c/td\u003e\n",
              "      \u003ctd\u003e2\u003c/td\u003e\n",
              "      \u003ctd\u003e0\u003c/td\u003e\n",
              "      \u003ctd\u003e3\u003c/td\u003e\n",
              "      \u003ctd\u003e1\u003c/td\u003e\n",
              "      \u003ctd\u003e2\u003c/td\u003e\n",
              "      \u003ctd\u003e1\u003c/td\u003e\n",
              "      \u003ctd\u003e1\u003c/td\u003e\n",
              "      \u003ctd\u003e6\u003c/td\u003e\n",
              "    \u003c/tr\u003e\n",
              "    \u003ctr\u003e\n",
              "      \u003cth\u003e3\u003c/th\u003e\n",
              "      \u003ctd\u003e895\u003c/td\u003e\n",
              "      \u003ctd\u003e3\u003c/td\u003e\n",
              "      \u003ctd\u003e0\u003c/td\u003e\n",
              "      \u003ctd\u003e1\u003c/td\u003e\n",
              "      \u003ctd\u003e1\u003c/td\u003e\n",
              "      \u003ctd\u003e0\u003c/td\u003e\n",
              "      \u003ctd\u003e1\u003c/td\u003e\n",
              "      \u003ctd\u003e1\u003c/td\u003e\n",
              "      \u003ctd\u003e3\u003c/td\u003e\n",
              "    \u003c/tr\u003e\n",
              "    \u003ctr\u003e\n",
              "      \u003cth\u003e4\u003c/th\u003e\n",
              "      \u003ctd\u003e896\u003c/td\u003e\n",
              "      \u003ctd\u003e3\u003c/td\u003e\n",
              "      \u003ctd\u003e1\u003c/td\u003e\n",
              "      \u003ctd\u003e1\u003c/td\u003e\n",
              "      \u003ctd\u003e1\u003c/td\u003e\n",
              "      \u003ctd\u003e0\u003c/td\u003e\n",
              "      \u003ctd\u003e3\u003c/td\u003e\n",
              "      \u003ctd\u003e0\u003c/td\u003e\n",
              "      \u003ctd\u003e3\u003c/td\u003e\n",
              "    \u003c/tr\u003e\n",
              "    \u003ctr\u003e\n",
              "      \u003cth\u003e5\u003c/th\u003e\n",
              "      \u003ctd\u003e897\u003c/td\u003e\n",
              "      \u003ctd\u003e3\u003c/td\u003e\n",
              "      \u003ctd\u003e0\u003c/td\u003e\n",
              "      \u003ctd\u003e0\u003c/td\u003e\n",
              "      \u003ctd\u003e1\u003c/td\u003e\n",
              "      \u003ctd\u003e0\u003c/td\u003e\n",
              "      \u003ctd\u003e1\u003c/td\u003e\n",
              "      \u003ctd\u003e1\u003c/td\u003e\n",
              "      \u003ctd\u003e0\u003c/td\u003e\n",
              "    \u003c/tr\u003e\n",
              "    \u003ctr\u003e\n",
              "      \u003cth\u003e6\u003c/th\u003e\n",
              "      \u003ctd\u003e898\u003c/td\u003e\n",
              "      \u003ctd\u003e3\u003c/td\u003e\n",
              "      \u003ctd\u003e1\u003c/td\u003e\n",
              "      \u003ctd\u003e1\u003c/td\u003e\n",
              "      \u003ctd\u003e0\u003c/td\u003e\n",
              "      \u003ctd\u003e2\u003c/td\u003e\n",
              "      \u003ctd\u003e2\u003c/td\u003e\n",
              "      \u003ctd\u003e1\u003c/td\u003e\n",
              "      \u003ctd\u003e3\u003c/td\u003e\n",
              "    \u003c/tr\u003e\n",
              "    \u003ctr\u003e\n",
              "      \u003cth\u003e7\u003c/th\u003e\n",
              "      \u003ctd\u003e899\u003c/td\u003e\n",
              "      \u003ctd\u003e2\u003c/td\u003e\n",
              "      \u003ctd\u003e0\u003c/td\u003e\n",
              "      \u003ctd\u003e1\u003c/td\u003e\n",
              "      \u003ctd\u003e2\u003c/td\u003e\n",
              "      \u003ctd\u003e0\u003c/td\u003e\n",
              "      \u003ctd\u003e1\u003c/td\u003e\n",
              "      \u003ctd\u003e0\u003c/td\u003e\n",
              "      \u003ctd\u003e2\u003c/td\u003e\n",
              "    \u003c/tr\u003e\n",
              "    \u003ctr\u003e\n",
              "      \u003cth\u003e8\u003c/th\u003e\n",
              "      \u003ctd\u003e900\u003c/td\u003e\n",
              "      \u003ctd\u003e3\u003c/td\u003e\n",
              "      \u003ctd\u003e1\u003c/td\u003e\n",
              "      \u003ctd\u003e1\u003c/td\u003e\n",
              "      \u003ctd\u003e0\u003c/td\u003e\n",
              "      \u003ctd\u003e1\u003c/td\u003e\n",
              "      \u003ctd\u003e3\u003c/td\u003e\n",
              "      \u003ctd\u003e1\u003c/td\u003e\n",
              "      \u003ctd\u003e3\u003c/td\u003e\n",
              "    \u003c/tr\u003e\n",
              "    \u003ctr\u003e\n",
              "      \u003cth\u003e9\u003c/th\u003e\n",
              "      \u003ctd\u003e901\u003c/td\u003e\n",
              "      \u003ctd\u003e3\u003c/td\u003e\n",
              "      \u003ctd\u003e0\u003c/td\u003e\n",
              "      \u003ctd\u003e1\u003c/td\u003e\n",
              "      \u003ctd\u003e2\u003c/td\u003e\n",
              "      \u003ctd\u003e0\u003c/td\u003e\n",
              "      \u003ctd\u003e1\u003c/td\u003e\n",
              "      \u003ctd\u003e0\u003c/td\u003e\n",
              "      \u003ctd\u003e3\u003c/td\u003e\n",
              "    \u003c/tr\u003e\n",
              "  \u003c/tbody\u003e\n",
              "\u003c/table\u003e\n",
              "\u003c/div\u003e"
            ],
            "text/plain": [
              "   PassengerId  Pclass  Sex  Age    ...      Embarked  Title  IsAlone  Age*Class\n",
              "0          892       3    0    2    ...             2      1        1          6\n",
              "1          893       3    1    2    ...             0      3        0          6\n",
              "2          894       2    0    3    ...             2      1        1          6\n",
              "3          895       3    0    1    ...             0      1        1          3\n",
              "4          896       3    1    1    ...             0      3        0          3\n",
              "5          897       3    0    0    ...             0      1        1          0\n",
              "6          898       3    1    1    ...             2      2        1          3\n",
              "7          899       2    0    1    ...             0      1        0          2\n",
              "8          900       3    1    1    ...             1      3        1          3\n",
              "9          901       3    0    1    ...             0      1        0          3\n",
              "\n",
              "[10 rows x 9 columns]"
            ]
          },
          "execution_count": 39,
          "metadata": {},
          "output_type": "execute_result"
        }
      ],
      "source": [
        "test_df.head(10)"
      ]
    },
    {
      "cell_type": "markdown",
      "metadata": {
        "_cell_guid": "69783c08-c8cc-a6ca-2a9a-5e75581c6d31",
        "_uuid": "a55f20dd6654610ff2d66c1bf3e4c6c73dcef9e5",
        "pycharm": {}
      },
      "source": [
        "## Model, predict and solve\n",
        "\n",
        "Now we are ready to train a model and predict the required solution. There are 60+ predictive modelling algorithms to choose from. We must understand the type of problem and solution requirement to narrow down to a select few models which we can evaluate. Our problem is a classification and regression problem. We want to identify relationship between output (Survived or not) with other variables or features (Gender, Age, Port...). We are also perfoming a category of machine learning which is called supervised learning as we are training our model with a given dataset. With these two criteria - Supervised Learning plus Classification and Regression, we can narrow down our choice of models to a few. These include:\n",
        "\n",
        "- Logistic Regression\n",
        "- KNN or k-Nearest Neighbors\n",
        "- Support Vector Machines\n",
        "- Naive Bayes classifier\n",
        "- Decision Tree\n",
        "- Random Forrest\n",
        "- Perceptron\n",
        "- Artificial neural network\n",
        "- RVM or Relevance Vector Machine"
      ]
    },
    {
      "cell_type": "code",
      "execution_count": 40,
      "metadata": {
        "_cell_guid": "0acf54f9-6cf5-24b5-72d9-29b30052823a",
        "_uuid": "04d2235855f40cffd81f76b977a500fceaae87ad",
        "pycharm": {}
      },
      "outputs": [
        {
          "data": {
            "text/plain": [
              "((891, 8), (891,), (418, 8))"
            ]
          },
          "execution_count": 40,
          "metadata": {},
          "output_type": "execute_result"
        }
      ],
      "source": [
        "X_train \u003d train_df.drop(\"Survived\", axis\u003d1)\n",
        "Y_train \u003d train_df[\"Survived\"]\n",
        "X_test  \u003d test_df.drop(\"PassengerId\", axis\u003d1).copy()\n",
        "X_train.shape, Y_train.shape, X_test.shape"
      ]
    },
    {
      "cell_type": "markdown",
      "metadata": {
        "_cell_guid": "579bc004-926a-bcfe-e9bb-c8df83356876",
        "_uuid": "782903c09ec9ee4b6f3e03f7c8b5a62c00461deb",
        "pycharm": {}
      },
      "source": [
        "Logistic Regression is a useful model to run early in the workflow. Logistic regression measures the relationship between the categorical dependent variable (feature) and one or more independent variables (features) by estimating probabilities using a logistic function, which is the cumulative logistic distribution. Reference [Wikipedia](https://en.wikipedia.org/wiki/Logistic_regression).\n",
        "\n",
        "Note the confidence score generated by the model based on our training dataset."
      ]
    },
    {
      "cell_type": "code",
      "execution_count": 41,
      "metadata": {
        "_cell_guid": "0edd9322-db0b-9c37-172d-a3a4f8dec229",
        "_uuid": "a649b9c53f4c7b40694f60f5c8dc14ec5ef519ec",
        "pycharm": {}
      },
      "outputs": [
        {
          "name": "stderr",
          "output_type": "stream",
          "text": [
            "/opt/conda/lib/python3.6/site-packages/sklearn/linear_model/logistic.py:433: FutureWarning: Default solver will be changed to \u0027lbfgs\u0027 in 0.22. Specify a solver to silence this warning.\n",
            "  FutureWarning)\n"
          ]
        },
        {
          "data": {
            "text/plain": [
              "80.36"
            ]
          },
          "execution_count": 41,
          "metadata": {},
          "output_type": "execute_result"
        }
      ],
      "source": [
        "# Logistic Regression\n",
        "\n",
        "logreg \u003d LogisticRegression()\n",
        "logreg.fit(X_train, Y_train)\n",
        "Y_pred \u003d logreg.predict(X_test)\n",
        "acc_log \u003d round(logreg.score(X_train, Y_train) * 100, 2)\n",
        "acc_log"
      ]
    },
    {
      "cell_type": "markdown",
      "metadata": {
        "_cell_guid": "3af439ae-1f04-9236-cdc2-ec8170a0d4ee",
        "_uuid": "180e27c96c821656a84889f73986c6ddfff51ed3",
        "pycharm": {}
      },
      "source": [
        "We can use Logistic Regression to validate our assumptions and decisions for feature creating and completing goals. This can be done by calculating the coefficient of the features in the decision function.\n",
        "\n",
        "Positive coefficients increase the log-odds of the response (and thus increase the probability), and negative coefficients decrease the log-odds of the response (and thus decrease the probability).\n",
        "\n",
        "- Sex is highest positivie coefficient, implying as the Sex value increases (male: 0 to female: 1), the probability of Survived\u003d1 increases the most.\n",
        "- Inversely as Pclass increases, probability of Survived\u003d1 decreases the most.\n",
        "- This way Age*Class is a good artificial feature to model as it has second highest negative correlation with Survived.\n",
        "- So is Title as second highest positive correlation."
      ]
    },
    {
      "cell_type": "code",
      "execution_count": 42,
      "metadata": {
        "_cell_guid": "e545d5aa-4767-7a41-5799-a4c5e529ce72",
        "_uuid": "6e6f58053fae405fc93d312fc999f3904e708dbe",
        "pycharm": {}
      },
      "outputs": [
        {
          "data": {
            "text/html": [
              "\u003cdiv\u003e\n",
              "\u003cstyle scoped\u003e\n",
              "    .dataframe tbody tr th:only-of-type {\n",
              "        vertical-align: middle;\n",
              "    }\n",
              "\n",
              "    .dataframe tbody tr th {\n",
              "        vertical-align: top;\n",
              "    }\n",
              "\n",
              "    .dataframe thead th {\n",
              "        text-align: right;\n",
              "    }\n",
              "\u003c/style\u003e\n",
              "\u003ctable border\u003d\"1\" class\u003d\"dataframe\"\u003e\n",
              "  \u003cthead\u003e\n",
              "    \u003ctr style\u003d\"text-align: right;\"\u003e\n",
              "      \u003cth\u003e\u003c/th\u003e\n",
              "      \u003cth\u003eFeature\u003c/th\u003e\n",
              "      \u003cth\u003eCorrelation\u003c/th\u003e\n",
              "    \u003c/tr\u003e\n",
              "  \u003c/thead\u003e\n",
              "  \u003ctbody\u003e\n",
              "    \u003ctr\u003e\n",
              "      \u003cth\u003e1\u003c/th\u003e\n",
              "      \u003ctd\u003eSex\u003c/td\u003e\n",
              "      \u003ctd\u003e2.201527\u003c/td\u003e\n",
              "    \u003c/tr\u003e\n",
              "    \u003ctr\u003e\n",
              "      \u003cth\u003e5\u003c/th\u003e\n",
              "      \u003ctd\u003eTitle\u003c/td\u003e\n",
              "      \u003ctd\u003e0.398234\u003c/td\u003e\n",
              "    \u003c/tr\u003e\n",
              "    \u003ctr\u003e\n",
              "      \u003cth\u003e2\u003c/th\u003e\n",
              "      \u003ctd\u003eAge\u003c/td\u003e\n",
              "      \u003ctd\u003e0.287163\u003c/td\u003e\n",
              "    \u003c/tr\u003e\n",
              "    \u003ctr\u003e\n",
              "      \u003cth\u003e4\u003c/th\u003e\n",
              "      \u003ctd\u003eEmbarked\u003c/td\u003e\n",
              "      \u003ctd\u003e0.261762\u003c/td\u003e\n",
              "    \u003c/tr\u003e\n",
              "    \u003ctr\u003e\n",
              "      \u003cth\u003e6\u003c/th\u003e\n",
              "      \u003ctd\u003eIsAlone\u003c/td\u003e\n",
              "      \u003ctd\u003e0.129140\u003c/td\u003e\n",
              "    \u003c/tr\u003e\n",
              "    \u003ctr\u003e\n",
              "      \u003cth\u003e3\u003c/th\u003e\n",
              "      \u003ctd\u003eFare\u003c/td\u003e\n",
              "      \u003ctd\u003e-0.085150\u003c/td\u003e\n",
              "    \u003c/tr\u003e\n",
              "    \u003ctr\u003e\n",
              "      \u003cth\u003e7\u003c/th\u003e\n",
              "      \u003ctd\u003eAge*Class\u003c/td\u003e\n",
              "      \u003ctd\u003e-0.311200\u003c/td\u003e\n",
              "    \u003c/tr\u003e\n",
              "    \u003ctr\u003e\n",
              "      \u003cth\u003e0\u003c/th\u003e\n",
              "      \u003ctd\u003ePclass\u003c/td\u003e\n",
              "      \u003ctd\u003e-0.749007\u003c/td\u003e\n",
              "    \u003c/tr\u003e\n",
              "  \u003c/tbody\u003e\n",
              "\u003c/table\u003e\n",
              "\u003c/div\u003e"
            ],
            "text/plain": [
              "     Feature  Correlation\n",
              "1        Sex     2.201527\n",
              "5      Title     0.398234\n",
              "2        Age     0.287163\n",
              "4   Embarked     0.261762\n",
              "6    IsAlone     0.129140\n",
              "3       Fare    -0.085150\n",
              "7  Age*Class    -0.311200\n",
              "0     Pclass    -0.749007"
            ]
          },
          "execution_count": 42,
          "metadata": {},
          "output_type": "execute_result"
        }
      ],
      "source": [
        "coeff_df \u003d pd.DataFrame(train_df.columns.delete(0))\n",
        "coeff_df.columns \u003d [\u0027Feature\u0027]\n",
        "coeff_df[\"Correlation\"] \u003d pd.Series(logreg.coef_[0])\n",
        "\n",
        "coeff_df.sort_values(by\u003d\u0027Correlation\u0027, ascending\u003dFalse)"
      ]
    },
    {
      "cell_type": "markdown",
      "metadata": {
        "_cell_guid": "ac041064-1693-8584-156b-66674117e4d0",
        "_uuid": "ccba9ac0a9c3c648ef9bc778977ab99066ab3945",
        "pycharm": {}
      },
      "source": [
        "Next we model using Support Vector Machines which are supervised learning models with associated learning algorithms that analyze data used for classification and regression analysis. Given a set of training samples, each marked as belonging to one or the other of **two categories**, an SVM training algorithm builds a model that assigns new test samples to one category or the other, making it a non-probabilistic binary linear classifier. Reference [Wikipedia](https://en.wikipedia.org/wiki/Support_vector_machine).\n",
        "\n",
        "Note that the model generates a confidence score which is higher than Logistics Regression model."
      ]
    },
    {
      "cell_type": "code",
      "execution_count": 43,
      "metadata": {
        "_cell_guid": "7a63bf04-a410-9c81-5310-bdef7963298f",
        "_uuid": "60039d5377da49f1aa9ac4a924331328bd69add1",
        "pycharm": {}
      },
      "outputs": [
        {
          "name": "stderr",
          "output_type": "stream",
          "text": [
            "/opt/conda/lib/python3.6/site-packages/sklearn/svm/base.py:196: FutureWarning: The default value of gamma will change from \u0027auto\u0027 to \u0027scale\u0027 in version 0.22 to account better for unscaled features. Set gamma explicitly to \u0027auto\u0027 or \u0027scale\u0027 to avoid this warning.\n",
            "  \"avoid this warning.\", FutureWarning)\n"
          ]
        },
        {
          "data": {
            "text/plain": [
              "83.84"
            ]
          },
          "execution_count": 43,
          "metadata": {},
          "output_type": "execute_result"
        }
      ],
      "source": [
        "# Support Vector Machines\n",
        "\n",
        "svc \u003d SVC()\n",
        "svc.fit(X_train, Y_train)\n",
        "Y_pred \u003d svc.predict(X_test)\n",
        "acc_svc \u003d round(svc.score(X_train, Y_train) * 100, 2)\n",
        "acc_svc"
      ]
    },
    {
      "cell_type": "markdown",
      "metadata": {
        "_cell_guid": "172a6286-d495-5ac4-1a9c-5b77b74ca6d2",
        "_uuid": "bb3ed027c45664148b61e3aa5e2ca8111aac8793",
        "pycharm": {}
      },
      "source": [
        "In pattern recognition, the k-Nearest Neighbors algorithm (or k-NN for short) is a non-parametric method used for classification and regression. A sample is classified by a majority vote of its neighbors, with the sample being assigned to the class most common among its k nearest neighbors (k is a positive integer, typically small). If k \u003d 1, then the object is simply assigned to the class of that single nearest neighbor. Reference [Wikipedia](https://en.wikipedia.org/wiki/K-nearest_neighbors_algorithm).\n",
        "\n",
        "KNN confidence score is better than Logistics Regression but worse than SVM."
      ]
    },
    {
      "cell_type": "code",
      "execution_count": 44,
      "metadata": {
        "_cell_guid": "ca14ae53-f05e-eb73-201c-064d7c3ed610",
        "_uuid": "54d86cd45703d459d452f89572771deaa8877999",
        "pycharm": {}
      },
      "outputs": [
        {
          "data": {
            "text/plain": [
              "84.74"
            ]
          },
          "execution_count": 44,
          "metadata": {},
          "output_type": "execute_result"
        }
      ],
      "source": [
        "knn \u003d KNeighborsClassifier(n_neighbors \u003d 3)\n",
        "knn.fit(X_train, Y_train)\n",
        "Y_pred \u003d knn.predict(X_test)\n",
        "acc_knn \u003d round(knn.score(X_train, Y_train) * 100, 2)\n",
        "acc_knn"
      ]
    },
    {
      "cell_type": "markdown",
      "metadata": {
        "_cell_guid": "810f723d-2313-8dfd-e3e2-26673b9caa90",
        "_uuid": "1535f18113f851e480cd53e0c612dc05835690f3",
        "pycharm": {}
      },
      "source": [
        "In machine learning, naive Bayes classifiers are a family of simple probabilistic classifiers based on applying Bayes\u0027 theorem with strong (naive) independence assumptions between the features. Naive Bayes classifiers are highly scalable, requiring a number of parameters linear in the number of variables (features) in a learning problem. Reference [Wikipedia](https://en.wikipedia.org/wiki/Naive_Bayes_classifier).\n",
        "\n",
        "The model generated confidence score is the lowest among the models evaluated so far."
      ]
    },
    {
      "cell_type": "code",
      "execution_count": 45,
      "metadata": {
        "_cell_guid": "50378071-7043-ed8d-a782-70c947520dae",
        "_uuid": "723c835c29e8727bc9bad4b564731f2ca98025d0",
        "pycharm": {}
      },
      "outputs": [
        {
          "data": {
            "text/plain": [
              "72.28"
            ]
          },
          "execution_count": 45,
          "metadata": {},
          "output_type": "execute_result"
        }
      ],
      "source": [
        "# Gaussian Naive Bayes\n",
        "\n",
        "gaussian \u003d GaussianNB()\n",
        "gaussian.fit(X_train, Y_train)\n",
        "Y_pred \u003d gaussian.predict(X_test)\n",
        "acc_gaussian \u003d round(gaussian.score(X_train, Y_train) * 100, 2)\n",
        "acc_gaussian"
      ]
    },
    {
      "cell_type": "markdown",
      "metadata": {
        "_cell_guid": "1e286e19-b714-385a-fcfa-8cf5ec19956a",
        "_uuid": "df148bf93e11c9ec2c97162d5c0c0605b75d9334",
        "pycharm": {}
      },
      "source": [
        "The perceptron is an algorithm for supervised learning of binary classifiers (functions that can decide whether an input, represented by a vector of numbers, belongs to some specific class or not). It is a type of linear classifier, i.e. a classification algorithm that makes its predictions based on a linear predictor function combining a set of weights with the feature vector. The algorithm allows for online learning, in that it processes elements in the training set one at a time. Reference [Wikipedia](https://en.wikipedia.org/wiki/Perceptron)."
      ]
    },
    {
      "cell_type": "code",
      "execution_count": 46,
      "metadata": {
        "_cell_guid": "ccc22a86-b7cb-c2dd-74bd-53b218d6ed0d",
        "_uuid": "c19d08949f9c3a26931e28adedc848b4deaa8ab6",
        "pycharm": {}
      },
      "outputs": [
        {
          "name": "stderr",
          "output_type": "stream",
          "text": [
            "/opt/conda/lib/python3.6/site-packages/sklearn/linear_model/stochastic_gradient.py:166: FutureWarning: max_iter and tol parameters have been added in Perceptron in 0.19. If both are left unset, they default to max_iter\u003d5 and tol\u003dNone. If tol is not None, max_iter defaults to max_iter\u003d1000. From 0.21, default max_iter will be 1000, and default tol will be 1e-3.\n",
            "  FutureWarning)\n"
          ]
        },
        {
          "data": {
            "text/plain": [
              "78.0"
            ]
          },
          "execution_count": 46,
          "metadata": {},
          "output_type": "execute_result"
        }
      ],
      "source": [
        "# Perceptron\n",
        "\n",
        "perceptron \u003d Perceptron()\n",
        "perceptron.fit(X_train, Y_train)\n",
        "Y_pred \u003d perceptron.predict(X_test)\n",
        "acc_perceptron \u003d round(perceptron.score(X_train, Y_train) * 100, 2)\n",
        "acc_perceptron"
      ]
    },
    {
      "cell_type": "code",
      "execution_count": 47,
      "metadata": {
        "_cell_guid": "a4d56857-9432-55bb-14c0-52ebeb64d198",
        "_uuid": "52ea4f44dd626448dd2199cb284b592670b1394b",
        "pycharm": {}
      },
      "outputs": [
        {
          "name": "stderr",
          "output_type": "stream",
          "text": [
            "/opt/conda/lib/python3.6/site-packages/sklearn/svm/base.py:931: ConvergenceWarning: Liblinear failed to converge, increase the number of iterations.\n",
            "  \"the number of iterations.\", ConvergenceWarning)\n"
          ]
        },
        {
          "data": {
            "text/plain": [
              "79.01"
            ]
          },
          "execution_count": 47,
          "metadata": {},
          "output_type": "execute_result"
        }
      ],
      "source": [
        "# Linear SVC\n",
        "\n",
        "linear_svc \u003d LinearSVC()\n",
        "linear_svc.fit(X_train, Y_train)\n",
        "Y_pred \u003d linear_svc.predict(X_test)\n",
        "acc_linear_svc \u003d round(linear_svc.score(X_train, Y_train) * 100, 2)\n",
        "acc_linear_svc"
      ]
    },
    {
      "cell_type": "code",
      "execution_count": 48,
      "metadata": {
        "_cell_guid": "dc98ed72-3aeb-861f-804d-b6e3d178bf4b",
        "_uuid": "3a016c1f24da59c85648204302d61ea15920e740",
        "pycharm": {}
      },
      "outputs": [
        {
          "name": "stderr",
          "output_type": "stream",
          "text": [
            "/opt/conda/lib/python3.6/site-packages/sklearn/linear_model/stochastic_gradient.py:166: FutureWarning: max_iter and tol parameters have been added in SGDClassifier in 0.19. If both are left unset, they default to max_iter\u003d5 and tol\u003dNone. If tol is not None, max_iter defaults to max_iter\u003d1000. From 0.21, default max_iter will be 1000, and default tol will be 1e-3.\n",
            "  FutureWarning)\n"
          ]
        },
        {
          "data": {
            "text/plain": [
              "77.89"
            ]
          },
          "execution_count": 48,
          "metadata": {},
          "output_type": "execute_result"
        }
      ],
      "source": [
        "# Stochastic Gradient Descent\n",
        "\n",
        "sgd \u003d SGDClassifier()\n",
        "sgd.fit(X_train, Y_train)\n",
        "Y_pred \u003d sgd.predict(X_test)\n",
        "acc_sgd \u003d round(sgd.score(X_train, Y_train) * 100, 2)\n",
        "acc_sgd"
      ]
    },
    {
      "cell_type": "markdown",
      "metadata": {
        "_cell_guid": "bae7f8d7-9da0-f4fd-bdb1-d97e719a18d7",
        "_uuid": "1c70e99920ae34adce03aaef38d61e2b83ff6a9c",
        "pycharm": {}
      },
      "source": [
        "This model uses a decision tree as a predictive model which maps features (tree branches) to conclusions about the target value (tree leaves). Tree models where the target variable can take a finite set of values are called classification trees; in these tree structures, leaves represent class labels and branches represent conjunctions of features that lead to those class labels. Decision trees where the target variable can take continuous values (typically real numbers) are called regression trees. Reference [Wikipedia](https://en.wikipedia.org/wiki/Decision_tree_learning).\n",
        "\n",
        "The model confidence score is the highest among models evaluated so far."
      ]
    },
    {
      "cell_type": "code",
      "execution_count": 49,
      "metadata": {
        "_cell_guid": "dd85f2b7-ace2-0306-b4ec-79c68cd3fea0",
        "_uuid": "1f94308b23b934123c03067e84027b507b989e52",
        "pycharm": {}
      },
      "outputs": [
        {
          "data": {
            "text/plain": [
              "86.76"
            ]
          },
          "execution_count": 49,
          "metadata": {},
          "output_type": "execute_result"
        }
      ],
      "source": [
        "# Decision Tree\n",
        "\n",
        "decision_tree \u003d DecisionTreeClassifier()\n",
        "decision_tree.fit(X_train, Y_train)\n",
        "Y_pred \u003d decision_tree.predict(X_test)\n",
        "acc_decision_tree \u003d round(decision_tree.score(X_train, Y_train) * 100, 2)\n",
        "acc_decision_tree"
      ]
    },
    {
      "cell_type": "markdown",
      "metadata": {
        "_cell_guid": "85693668-0cd5-4319-7768-eddb62d2b7d0",
        "_uuid": "24f4e46f202a858076be91752170cad52aa9aefa",
        "pycharm": {}
      },
      "source": [
        "The next model Random Forests is one of the most popular. Random forests or random decision forests are an ensemble learning method for classification, regression and other tasks, that operate by constructing a multitude of decision trees (n_estimators\u003d100) at training time and outputting the class that is the mode of the classes (classification) or mean prediction (regression) of the individual trees. Reference [Wikipedia](https://en.wikipedia.org/wiki/Random_forest).\n",
        "\n",
        "The model confidence score is the highest among models evaluated so far. We decide to use this model\u0027s output (Y_pred) for creating our competition submission of results."
      ]
    },
    {
      "cell_type": "code",
      "execution_count": 50,
      "metadata": {
        "_cell_guid": "f0694a8e-b618-8ed9-6f0d-8c6fba2c4567",
        "_uuid": "483c647d2759a2703d20785a44f51b6dee47d0db",
        "pycharm": {}
      },
      "outputs": [
        {
          "data": {
            "text/plain": [
              "86.76"
            ]
          },
          "execution_count": 50,
          "metadata": {},
          "output_type": "execute_result"
        }
      ],
      "source": [
        "# Random Forest\n",
        "\n",
        "random_forest \u003d RandomForestClassifier(n_estimators\u003d100)\n",
        "random_forest.fit(X_train, Y_train)\n",
        "Y_pred \u003d random_forest.predict(X_test)\n",
        "random_forest.score(X_train, Y_train)\n",
        "acc_random_forest \u003d round(random_forest.score(X_train, Y_train) * 100, 2)\n",
        "acc_random_forest"
      ]
    },
    {
      "cell_type": "markdown",
      "metadata": {
        "_cell_guid": "f6c9eef8-83dd-581c-2d8e-ce932fe3a44d",
        "_uuid": "2c1428d022430ea594af983a433757e11b47c50c",
        "pycharm": {}
      },
      "source": [
        "### Model evaluation\n",
        "\n",
        "We can now rank our evaluation of all the models to choose the best one for our problem. While both Decision Tree and Random Forest score the same, we choose to use Random Forest as they correct for decision trees\u0027 habit of overfitting to their training set. "
      ]
    },
    {
      "cell_type": "code",
      "execution_count": 51,
      "metadata": {
        "_cell_guid": "1f3cebe0-31af-70b2-1ce4-0fd406bcdfc6",
        "_uuid": "06a52babe50e0dd837b553c78fc73872168e1c7d",
        "pycharm": {}
      },
      "outputs": [
        {
          "data": {
            "text/html": [
              "\u003cdiv\u003e\n",
              "\u003cstyle scoped\u003e\n",
              "    .dataframe tbody tr th:only-of-type {\n",
              "        vertical-align: middle;\n",
              "    }\n",
              "\n",
              "    .dataframe tbody tr th {\n",
              "        vertical-align: top;\n",
              "    }\n",
              "\n",
              "    .dataframe thead th {\n",
              "        text-align: right;\n",
              "    }\n",
              "\u003c/style\u003e\n",
              "\u003ctable border\u003d\"1\" class\u003d\"dataframe\"\u003e\n",
              "  \u003cthead\u003e\n",
              "    \u003ctr style\u003d\"text-align: right;\"\u003e\n",
              "      \u003cth\u003e\u003c/th\u003e\n",
              "      \u003cth\u003eModel\u003c/th\u003e\n",
              "      \u003cth\u003eScore\u003c/th\u003e\n",
              "    \u003c/tr\u003e\n",
              "  \u003c/thead\u003e\n",
              "  \u003ctbody\u003e\n",
              "    \u003ctr\u003e\n",
              "      \u003cth\u003e3\u003c/th\u003e\n",
              "      \u003ctd\u003eRandom Forest\u003c/td\u003e\n",
              "      \u003ctd\u003e86.76\u003c/td\u003e\n",
              "    \u003c/tr\u003e\n",
              "    \u003ctr\u003e\n",
              "      \u003cth\u003e8\u003c/th\u003e\n",
              "      \u003ctd\u003eDecision Tree\u003c/td\u003e\n",
              "      \u003ctd\u003e86.76\u003c/td\u003e\n",
              "    \u003c/tr\u003e\n",
              "    \u003ctr\u003e\n",
              "      \u003cth\u003e1\u003c/th\u003e\n",
              "      \u003ctd\u003eKNN\u003c/td\u003e\n",
              "      \u003ctd\u003e84.74\u003c/td\u003e\n",
              "    \u003c/tr\u003e\n",
              "    \u003ctr\u003e\n",
              "      \u003cth\u003e0\u003c/th\u003e\n",
              "      \u003ctd\u003eSupport Vector Machines\u003c/td\u003e\n",
              "      \u003ctd\u003e83.84\u003c/td\u003e\n",
              "    \u003c/tr\u003e\n",
              "    \u003ctr\u003e\n",
              "      \u003cth\u003e2\u003c/th\u003e\n",
              "      \u003ctd\u003eLogistic Regression\u003c/td\u003e\n",
              "      \u003ctd\u003e80.36\u003c/td\u003e\n",
              "    \u003c/tr\u003e\n",
              "    \u003ctr\u003e\n",
              "      \u003cth\u003e7\u003c/th\u003e\n",
              "      \u003ctd\u003eLinear SVC\u003c/td\u003e\n",
              "      \u003ctd\u003e79.01\u003c/td\u003e\n",
              "    \u003c/tr\u003e\n",
              "    \u003ctr\u003e\n",
              "      \u003cth\u003e5\u003c/th\u003e\n",
              "      \u003ctd\u003ePerceptron\u003c/td\u003e\n",
              "      \u003ctd\u003e78.00\u003c/td\u003e\n",
              "    \u003c/tr\u003e\n",
              "    \u003ctr\u003e\n",
              "      \u003cth\u003e6\u003c/th\u003e\n",
              "      \u003ctd\u003eStochastic Gradient Decent\u003c/td\u003e\n",
              "      \u003ctd\u003e77.89\u003c/td\u003e\n",
              "    \u003c/tr\u003e\n",
              "    \u003ctr\u003e\n",
              "      \u003cth\u003e4\u003c/th\u003e\n",
              "      \u003ctd\u003eNaive Bayes\u003c/td\u003e\n",
              "      \u003ctd\u003e72.28\u003c/td\u003e\n",
              "    \u003c/tr\u003e\n",
              "  \u003c/tbody\u003e\n",
              "\u003c/table\u003e\n",
              "\u003c/div\u003e"
            ],
            "text/plain": [
              "                        Model  Score\n",
              "3               Random Forest  86.76\n",
              "8               Decision Tree  86.76\n",
              "1                         KNN  84.74\n",
              "0     Support Vector Machines  83.84\n",
              "2         Logistic Regression  80.36\n",
              "7                  Linear SVC  79.01\n",
              "5                  Perceptron  78.00\n",
              "6  Stochastic Gradient Decent  77.89\n",
              "4                 Naive Bayes  72.28"
            ]
          },
          "execution_count": 51,
          "metadata": {},
          "output_type": "execute_result"
        }
      ],
      "source": [
        "models \u003d pd.DataFrame({\n",
        "    \u0027Model\u0027: [\u0027Support Vector Machines\u0027, \u0027KNN\u0027, \u0027Logistic Regression\u0027, \n",
        "              \u0027Random Forest\u0027, \u0027Naive Bayes\u0027, \u0027Perceptron\u0027, \n",
        "              \u0027Stochastic Gradient Decent\u0027, \u0027Linear SVC\u0027, \n",
        "              \u0027Decision Tree\u0027],\n",
        "    \u0027Score\u0027: [acc_svc, acc_knn, acc_log, \n",
        "              acc_random_forest, acc_gaussian, acc_perceptron, \n",
        "              acc_sgd, acc_linear_svc, acc_decision_tree]})\n",
        "models.sort_values(by\u003d\u0027Score\u0027, ascending\u003dFalse)"
      ]
    },
    {
      "cell_type": "code",
      "execution_count": 52,
      "metadata": {
        "_cell_guid": "28854d36-051f-3ef0-5535-fa5ba6a9bef7",
        "_uuid": "82b31ea933b3026bd038a8370d651efdcdb3e4d7",
        "pycharm": {}
      },
      "outputs": [
        {
          "name": "stdout",
          "output_type": "stream",
          "text": [
            "Your submission was successfully saved!\n"
          ]
        }
      ],
      "source": [
        "submission \u003d pd.DataFrame({\n",
        "        \"PassengerId\": test_df[\"PassengerId\"],\n",
        "        \"Survived\": Y_pred\n",
        "    })\n",
        "submission.to_csv(\u0027submission.csv\u0027, index\u003dFalse)\n",
        "#output.to_csv(\u0027my_submission.csv\u0027, index\u003dFalse)\n",
        "print(\"Your submission was successfully saved!\")"
      ]
    },
    {
      "cell_type": "markdown",
      "metadata": {
        "_cell_guid": "fcfc8d9f-e955-cf70-5843-1fb764c54699",
        "_uuid": "0523a03b329df58c33ed672e5fb6cd2c9af1cae3",
        "pycharm": {}
      },
      "source": [
        "Our submission to the competition site Kaggle results in scoring 3,883 of 6,082 competition entries. This result is indicative while the competition is running. This result only accounts for part of the submission dataset. Not bad for our first attempt. Any suggestions to improve our score are most welcome."
      ]
    },
    {
      "cell_type": "markdown",
      "metadata": {
        "_cell_guid": "aeec9210-f9d8-cd7c-c4cf-a87376d5f693",
        "_uuid": "cdae56d6adbfb15ff9c491c645ae46e2c91d75ce",
        "pycharm": {}
      },
      "source": [
        "## References\n",
        "\n",
        "This notebook has been created based on great work done solving the Titanic competition and other sources.\n",
        "\n",
        "- [A journey through Titanic](https://www.kaggle.com/omarelgabry/titanic/a-journey-through-titanic)\n",
        "- [Getting Started with Pandas: Kaggle\u0027s Titanic Competition](https://www.kaggle.com/c/titanic/details/getting-started-with-random-forests)\n",
        "- [Titanic Best Working Classifier](https://www.kaggle.com/sinakhorami/titanic/titanic-best-working-classifier)"
      ]
    }
  ],
  "metadata": {
    "_change_revision": 0,
    "_is_fork": false,
    "kernelspec": {
      "display_name": "Python 3",
      "language": "python",
      "name": "python3"
    },
    "language_info": {
      "codemirror_mode": {
        "name": "ipython",
        "version": 3
      },
      "file_extension": ".py",
      "mimetype": "text/x-python",
      "name": "python",
      "nbconvert_exporter": "python",
      "pygments_lexer": "ipython3",
      "version": "3.6.6"
    }
  },
  "nbformat": 4,
  "nbformat_minor": 1
}